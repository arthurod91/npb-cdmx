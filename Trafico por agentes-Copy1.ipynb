{
 "cells": [
  {
   "cell_type": "markdown",
   "metadata": {},
   "source": [
    "# Lo que debemos hacer:\n",
    "\n",
    "- Distancia (tiempo) mínima(o) entre 2 puntos de una red.  Listo con el algoritmo de Dijkstra\n",
    "- Incluir retraso por número de automoviles en una calle. Utilizando la función BPR\n",
    "    - Paso intermedio función de avance de los automóviles.\n",
    "- Incluir propiedades de agentes (paciencia, memoria, etc.). \n",
    "- Considerar inicios y destinos variados. \n",
    "\n",
    "## Algoritmo de Dijkstra\n",
    "\n",
    "Se conocen todos los vértices de una red y sus aristas (incluidas las distancias). Se quiere saber cual es la \"distancia mínima\" entre dos vértices dados $x_i$ y $x_j$ de una red. \n",
    "\n",
    "El algoritmo es el siguiente: \n",
    "\n",
    "1. Se comienza poniendo la distancia a todos los vértices igual a $\\infty$, excepto al mismo $x_i$. También se agregan rutas vacías en todos los vértices, excepto por el vértices $x_i$, donde se agrega la ruta $[x_i]$. Todos los vértices inicialmente están marcados como \"no-visitados\". \n",
    "- Se calcula la distancia a cada uno de los vecinos y se marca a $x_i$ como visitado. Las distancias se guardan como las distancias de $x_i$ a cada uno de esos vértices y las rutas se actualizas como $[x_i, x_{i_{n}}]$ donde $x_{i_{n}}$ es el vecino de $x_i$. \n",
    "- Se elige uno de los vecinos a alguno de los vértices visitados (el vértice visitado que tenga la menor distancia a $x_i$), y que no sea un vértice vicitado. Se cualcula la distancia a cada uno de sus vecinos y se estima con esto la distancia de $x_i$ a cada vertice vecino. Si la distancia calculada es menor que la que se tiene actualmente, se asigna esta nueva distancia y se actualiza la ruta como la ruta al vértice visitado agregando el vértice vecino. \n",
    "- Se marca como visitado al vértice elegido. Si la mínima distancia a los vecinos de los vértices visitados que no sean en sí vértices visitados es $\\infty$, el programa regresa una ruta vacía y una distancia $\\infty$ (significa que $x_i$ y $x_j$ están desconectados). Si $x_j$ está marcado como visitado, se regresa la distancia a $x_j$ y la ruta para llegar a $x_j$. \n",
    "- En cualquier otro caso, se repite el paso 3. "
   ]
  },
  {
   "cell_type": "code",
   "execution_count": 1,
   "metadata": {},
   "outputs": [
    {
     "data": {
      "text/plain": [
       "Inf"
      ]
     },
     "execution_count": 1,
     "metadata": {},
     "output_type": "execute_result"
    }
   ],
   "source": [
    "∞ = Inf"
   ]
  },
  {
   "cell_type": "code",
   "execution_count": 2,
   "metadata": {},
   "outputs": [
    {
     "data": {
      "text/plain": [
       "Dijkstra (generic function with 1 method)"
      ]
     },
     "execution_count": 2,
     "metadata": {},
     "output_type": "execute_result"
    }
   ],
   "source": [
    "function Dijkstra(x1, x2, Vecinos)\n",
    "    ∞ = Inf\n",
    "    #### PASO 1  ####\n",
    "    n = length(Vecinos)\n",
    "    Distancias_x1 = zeros(n)\n",
    "    Distancias_NV = [[∞,i] for i in 1:n]\n",
    "    Ruta = []\n",
    "    Vertices_unv = [i for i in 1:n]\n",
    "    if !(x2 in Vertices_unv)\n",
    "        return ∞, []\n",
    "    end\n",
    "    for i in 1:n \n",
    "        if i ≠ Int(x1)\n",
    "            Distancias_x1[i] = ∞\n",
    "            push!(Ruta, [x1])\n",
    "        else\n",
    "            push!(Ruta, [x1])\n",
    "        end\n",
    "    end\n",
    "    ### Termina PASO 1 ###\n",
    "    ### PASO 2 ###\n",
    "    x = Vecinos[x1]\n",
    "    for i in 1:length(x[1])\n",
    "        Distancias_x1[Int(x[1][i])] = x[2][i]\n",
    "        Rutacopia = copy(Ruta[Int(x1)])\n",
    "        push!(Rutacopia, x[1][i])\n",
    "        Ruta[Int(x[1][i])] = copy(Rutacopia)\n",
    "        Distancias_NV[Int(x[1][i])][1] = x[2][i]\n",
    "    end   \n",
    "    i = Int(findall(in(x1), Vertices_unv)[1])\n",
    "    deleteat!(Vertices_unv, i)\n",
    "    deleteat!(Distancias_NV, i)  \n",
    " #   filter!(e -> e ≠ x1, Vertices_unv)\n",
    "    ### Termina PASO 2 ####\n",
    "    while x2 in Vertices_unv\n",
    "         ### PASO 3 ####\n",
    "        k = argmin(Distancias_NV)\n",
    "        j = Int(Distancias_NV[k][2])\n",
    "        x = Vecinos[j]\n",
    "        for i in 1:length(x[1])\n",
    "            #    Distancias_x1[x[1][i]] = x[2][i]\n",
    "            dist_xi_x1 = Distancias_NV[k][1]+x[2][i]\n",
    "            \n",
    "            if dist_xi_x1 < Distancias_x1[Int(x[1][i])]\n",
    "                Distancias_x1[Int(x[1][i])] = dist_xi_x1\n",
    "                Rutacopia = copy(Ruta[j])\n",
    "                push!(Rutacopia, Int(x[1][i]))\n",
    "                Ruta[Int(x[1][i])] = copy(Rutacopia)\n",
    "                b = [algo[2] for algo in Distancias_NV]\n",
    "                jj = findall(in(x[1][i]), b)  \n",
    "                if length(jj)>0\n",
    "                    Distancias_NV[Int(jj[1])][1] = dist_xi_x1\n",
    "                end\n",
    "            end     \n",
    "        end   \n",
    "        ### Termina PASO 3 ###\n",
    "        ### PASO 4 ###\n",
    "        i2 = findall(in(j), Vertices_unv)[1]\n",
    "        deleteat!(Vertices_unv, i2)\n",
    "        deleteat!(Distancias_NV, i2)  \n",
    "        if length(Distancias_NV)>0\n",
    "            i3 = argmin(Distancias_NV)\n",
    "            dis = Distancias_NV[i3][1]\n",
    "            if dis == ∞\n",
    "                return ∞, []\n",
    "            end\n",
    "        end\n",
    "        #### Termina paso 4 *Aunque continua abajo ####\n",
    "        \n",
    "        #### Paso 5 ####\n",
    "    end  \n",
    "    #### Paso 4 final ###\n",
    "    return Distancias_x1[Int(x2)], Ruta[x2]\n",
    "end    "
   ]
  },
  {
   "cell_type": "markdown",
   "metadata": {},
   "source": [
    "Pruebas con una red sencilla"
   ]
  },
  {
   "cell_type": "code",
   "execution_count": 3,
   "metadata": {},
   "outputs": [
    {
     "data": {
      "text/plain": [
       "8-element Array{Any,1}:\n",
       " Array{Float64,1}[[2.0, 3.0, 4.0], [0.5, 1.0, 0.3], [1.0, 2.0, 2.0]]               \n",
       " Array{Float64,1}[[8.0, 3.0, 4.0], [1.0, 0.8, 0.4], [1.0, 2.0, 2.0]]               \n",
       " Array{Float64,1}[[2.0, 7.0, 4.0], [0.8, 3.0, 1.5], [1.0, 2.0, 2.0]]               \n",
       " Array{Float64,1}[[2.0, 3.0, 6.0, 5.0], [0.4, 1.5, 3.0, 0.5], [1.0, 2.0, 2.0, 3.0]]\n",
       " Array{Float64,1}[[4.0, 6.0], [0.5, 1.0], [1.0, 2.0]]                              \n",
       " Array{Float64,1}[[4.0], [3.0], [1.0]]                                             \n",
       " Array{Float64,1}[[3.0], [3.0], [1.0]]                                             \n",
       " Array{Float64,1}[[2.0], [1.0], [1.0]]                                             "
      ]
     },
     "execution_count": 3,
     "metadata": {},
     "output_type": "execute_result"
    }
   ],
   "source": [
    "#debemos agregar un arreglo más al final para escribir las distancias, \n",
    "#esto no debería afectar el algoritmo de Dijkstra\n",
    "Vecinos = []\n",
    "push!(Vecinos, [[2,3,4],[0.5,1,0.3],[1,2,2]])\n",
    "push!(Vecinos, [[8,3,4],[1,0.8,.4],[1,2,2]])\n",
    "push!(Vecinos, [[2,7,4],[0.8,3,1.5],[1,2,2]])\n",
    "push!(Vecinos, [[2,3,6,5],[.4, 1.5, 3, 0.5],[1,2,2,3]])\n",
    "push!(Vecinos, [[4,6],[0.5, 1.],[1,2]])\n",
    "push!(Vecinos, [[4],[3.],[1]])\n",
    "push!(Vecinos, [[3],[3.],[1]])\n",
    "push!(Vecinos, [[2],[1.],[1]])"
   ]
  },
  {
   "cell_type": "code",
   "execution_count": 4,
   "metadata": {
    "scrolled": true
   },
   "outputs": [
    {
     "data": {
      "text/plain": [
       "(4.0, [1, 3, 7])"
      ]
     },
     "execution_count": 4,
     "metadata": {},
     "output_type": "execute_result"
    }
   ],
   "source": [
    "#efectivamente no afecta\n",
    "Dijkstra(1,7, Vecinos)"
   ]
  },
  {
   "cell_type": "markdown",
   "metadata": {},
   "source": [
    "Pruebas con una red aleatoria"
   ]
  },
  {
   "cell_type": "code",
   "execution_count": 5,
   "metadata": {},
   "outputs": [],
   "source": [
    "L = 10000\n",
    "Vecinos = []\n",
    "for i in 1:L\n",
    "    j = rand(1:7)\n",
    "    conexiones = Int[]\n",
    "    X = [k for k in 1:L if k ≠ i]\n",
    "    for i in 1:j\n",
    "        jj = rand(X)\n",
    "        push!(conexiones, jj)\n",
    "        filter!(e -> e ≠ jj, X)\n",
    "    end\n",
    "    push!(Vecinos,[conexiones, rand(j),rand(j)])\n",
    "end"
   ]
  },
  {
   "cell_type": "code",
   "execution_count": 6,
   "metadata": {},
   "outputs": [
    {
     "data": {
      "text/plain": [
       "10000-element Array{Any,1}:\n",
       " Array{Float64,1}[[8415.0, 8529.0], [0.985013, 0.169131], [0.841182, 0.448438]]                                                                                                                                             \n",
       " Array{Float64,1}[[4600.0, 4717.0, 5397.0], [0.340418, 0.449324, 0.447137], [0.829254, 0.58977, 0.485362]]                                                                                                                  \n",
       " Array{Float64,1}[[7504.0], [0.739528], [0.748554]]                                                                                                                                                                         \n",
       " Array{Float64,1}[[2177.0, 6506.0, 7845.0], [0.0902145, 0.94802, 0.268215], [0.690627, 0.0763728, 0.405112]]                                                                                                                \n",
       " Array{Float64,1}[[9948.0, 565.0, 3076.0, 682.0, 8356.0, 1474.0, 5695.0], [0.364113, 0.667419, 0.542977, 0.273282, 0.788046, 0.0675684, 0.510483], [0.293161, 0.422465, 0.24644, 0.588321, 0.881334, 0.0482122, 0.413517]]  \n",
       " Array{Float64,1}[[5279.0, 8824.0], [0.120914, 0.312855], [0.633034, 0.00740137]]                                                                                                                                           \n",
       " Array{Float64,1}[[1640.0], [0.685473], [0.412237]]                                                                                                                                                                         \n",
       " Array{Float64,1}[[8276.0, 1222.0, 6922.0, 7533.0], [0.541741, 0.613123, 0.264953, 0.145587], [0.575192, 0.126829, 0.373155, 0.501338]]                                                                                     \n",
       " Array{Float64,1}[[1305.0], [0.630984], [0.652371]]                                                                                                                                                                         \n",
       " Array{Float64,1}[[2947.0, 374.0, 4961.0, 43.0], [0.929405, 0.99004, 0.315296, 0.997004], [0.032269, 0.972438, 0.243716, 0.257766]]                                                                                         \n",
       " Array{Float64,1}[[7961.0, 7825.0, 3065.0, 2127.0, 3994.0, 1632.0, 3091.0], [0.0328387, 0.830348, 0.553288, 0.1792, 0.923077, 0.587975, 0.235295], [0.356277, 0.212903, 0.182287, 0.153947, 0.542875, 0.065549, 0.374161]]  \n",
       " Array{Float64,1}[[4963.0, 2537.0, 2056.0], [0.628407, 0.915444, 0.879625], [0.387325, 0.657888, 0.45455]]                                                                                                                  \n",
       " Array{Float64,1}[[1117.0, 2349.0, 5900.0, 9137.0, 3358.0], [0.960246, 0.46227, 0.832025, 0.699046, 0.153167], [0.369324, 0.543144, 0.657982, 0.262347, 0.906853]]                                                          \n",
       " ⋮                                                                                                                                                                                                                          \n",
       " Array{Float64,1}[[6723.0, 6491.0, 2908.0, 6895.0, 6025.0], [0.358251, 0.383772, 0.600732, 0.459103, 0.546646], [0.682349, 0.36732, 0.719049, 0.172953, 0.0622295]]                                                         \n",
       " Array{Float64,1}[[6718.0, 8770.0], [0.663602, 0.150646], [0.344597, 0.232522]]                                                                                                                                             \n",
       " Array{Float64,1}[[1344.0, 7300.0, 4065.0, 9472.0, 4859.0, 2170.0, 2645.0], [0.608402, 0.860866, 0.506357, 0.924027, 0.703953, 0.227734, 0.993652], [0.604406, 0.805421, 0.505188, 0.0501369, 0.0018827, 0.936533, 0.70613]]\n",
       " Array{Float64,1}[[1531.0, 6737.0, 1144.0], [0.587832, 0.360104, 0.342552], [0.952233, 0.24788, 0.348198]]                                                                                                                  \n",
       " Array{Float64,1}[[9908.0, 9728.0, 8070.0], [0.328573, 0.330102, 0.07713], [0.947325, 0.103651, 0.274779]]                                                                                                                  \n",
       " Array{Float64,1}[[7420.0, 4013.0, 3784.0, 5753.0, 9062.0, 5900.0], [0.858945, 0.449657, 0.360492, 0.519528, 0.33035, 0.299713], [0.680158, 0.760023, 0.836117, 0.698998, 0.441748, 0.592973]]                              \n",
       " Array{Float64,1}[[763.0, 3462.0, 5154.0], [0.450965, 0.968493, 0.276039], [0.693788, 0.2165, 0.733709]]                                                                                                                    \n",
       " Array{Float64,1}[[984.0, 6471.0, 4364.0, 878.0, 7981.0, 503.0, 9597.0], [0.64694, 0.69847, 0.834116, 0.16273, 0.207782, 0.993164, 0.970899], [0.903909, 0.232714, 0.49805, 0.719263, 0.352221, 0.471682, 0.456927]]        \n",
       " Array{Float64,1}[[8504.0, 4343.0, 9576.0], [0.990018, 0.189418, 0.710001], [0.942066, 0.958332, 0.625779]]                                                                                                                 \n",
       " Array{Float64,1}[[7162.0, 4904.0, 9808.0, 2346.0, 4709.0, 4077.0], [0.651611, 0.899984, 0.23829, 0.931654, 0.222874, 0.260866], [0.784913, 0.0175092, 0.927836, 0.678049, 0.296873, 0.869379]]                             \n",
       " Array{Float64,1}[[7718.0, 38.0, 3417.0, 1644.0, 5987.0, 9856.0], [0.397484, 0.615049, 0.952469, 0.782219, 0.266183, 0.790986], [0.895116, 0.954757, 0.182585, 0.077489, 0.984993, 0.710717]]                               \n",
       " Array{Float64,1}[[1768.0, 6669.0, 8968.0, 1601.0], [0.939009, 0.546237, 0.457634, 0.889806], [0.877889, 0.530979, 0.631923, 0.054145]]                                                                                     "
      ]
     },
     "execution_count": 6,
     "metadata": {},
     "output_type": "execute_result"
    }
   ],
   "source": [
    "Vecinos"
   ]
  },
  {
   "cell_type": "code",
   "execution_count": 7,
   "metadata": {
    "scrolled": true
   },
   "outputs": [
    {
     "name": "stdout",
     "output_type": "stream",
     "text": [
      "  2.352913 seconds (511.34 k allocations: 723.473 MiB, 2.57% gc time)\n"
     ]
    },
    {
     "data": {
      "text/plain": [
       "(2.5326544728174634, [6492, 2503, 2237, 9203, 8875, 2212, 3339, 8576, 4931, 4961, 5687, 6612, 2231, 9416, 7397, 8134, 6206])"
      ]
     },
     "execution_count": 7,
     "metadata": {},
     "output_type": "execute_result"
    }
   ],
   "source": [
    "@time Dijkstra(rand(1:L),rand(1:L), Vecinos)"
   ]
  },
  {
   "cell_type": "markdown",
   "metadata": {
    "slideshow": {
     "slide_type": "fragment"
    }
   },
   "source": [
    "Función BPR, retraso asociado con otros automóviles en la misma calle"
   ]
  },
  {
   "cell_type": "code",
   "execution_count": 8,
   "metadata": {},
   "outputs": [
    {
     "data": {
      "text/plain": [
       "BPR (generic function with 1 method)"
      ]
     },
     "execution_count": 8,
     "metadata": {},
     "output_type": "execute_result"
    }
   ],
   "source": [
    "function BPR(tmin_ij, f_ij ,p_ij) # Funciona bien!! \n",
    "    α = 0.2 \n",
    "    β = 10.\n",
    "    t=tmin_ij *(1+α*(f_ij / p_ij)^β)\n",
    "    return t\n",
    "end"
   ]
  },
  {
   "cell_type": "markdown",
   "metadata": {},
   "source": [
    "Evolución de los autos:\n",
    "Los automóviles deben salir según su información de salida, de manera homogénea pero aleatoria en el transcurso de una hora.\n",
    "¿Debería usar autos en arista o en los vértices?\n",
    "¿A un auto le bloquean la calle los de adelante en la arista o todos los de la arista? ¿Cómo contamos los de adelante nada más (preservar el orden)?\n"
   ]
  },
  {
   "cell_type": "markdown",
   "metadata": {},
   "source": [
    "Función para determinar las horas de salida de los autos, primero crearemos una serie de intervalos aleatorios y normalizaremos a una hora, para saber cuándo saldrá cada auto. La simulación termina cuando todos llegan a su destino."
   ]
  },
  {
   "cell_type": "code",
   "execution_count": 9,
   "metadata": {},
   "outputs": [
    {
     "data": {
      "text/plain": [
       "Tiempos_Salida (generic function with 1 method)"
      ]
     },
     "execution_count": 9,
     "metadata": {},
     "output_type": "execute_result"
    }
   ],
   "source": [
    "#Para n número de autos generamos n valores aleatorios, \n",
    "#lo guardamos en un vector que luego normalizaremos a una hora\n",
    "\n",
    "function Tiempos_Salida(n)\n",
    "    TS=[]\n",
    "    k=0.\n",
    "    for i in 1:n\n",
    "        j=rand()\n",
    "        k+=j\n",
    "        push!(TS,j)\n",
    "    end\n",
    "    TS=(1/k)*TS\n",
    "    \n",
    "    for i in 0:n-2\n",
    "        l=0\n",
    "        for j in 1:n-i\n",
    "            l+=TS[j]\n",
    "        end\n",
    "        TS[n-i]=l\n",
    "    end\n",
    "    return TS\n",
    "end\n",
    "#Obtenemos una hora fraccionada en n pedazos, donde n es el número de autos"
   ]
  },
  {
   "cell_type": "code",
   "execution_count": 10,
   "metadata": {},
   "outputs": [
    {
     "data": {
      "text/plain": [
       "4-element Array{Float64,1}:\n",
       " 0.19449411172602446\n",
       " 0.4521109661531274 \n",
       " 0.5514010917801747 \n",
       " 1.0                "
      ]
     },
     "execution_count": 10,
     "metadata": {},
     "output_type": "execute_result"
    }
   ],
   "source": [
    "Tiempos_Salida(4)"
   ]
  },
  {
   "cell_type": "markdown",
   "metadata": {},
   "source": [
    "Queremos saber qué ocurrirá primero\n",
    "1. Un auto cambia de arista\n",
    "2. Un auto parte de su origen\n",
    "3. Un auto llega a su destino (que de hecho es parte del caso 1)\n",
    "\n",
    "cada que una de esas cosas ocurra se avanzará un paso en el tiempo."
   ]
  },
  {
   "cell_type": "markdown",
   "metadata": {},
   "source": [
    "Necesitamos saber las distancias en las calles para saber cuánto tiempo tardarán en cambiar de arista los autos.\n",
    "Y una forma de que cada auto recuerde el tiempo que le tomó atravesar cada arista. Ya sabemos cuánto tiempo le toma a los autos salir de su origen porque tenemos el vector donde están sus tiempos de salida."
   ]
  },
  {
   "cell_type": "code",
   "execution_count": 11,
   "metadata": {
    "scrolled": false
   },
   "outputs": [],
   "source": [
    "#function evolucion_autos(Red, N, Planes_de_viaje)\n",
    "#    T = zeros(N)\n",
    "#    T2 = zeros(N)\n",
    "#    X = [i for i in 1:N]\n",
    "#    Lista_de_autos = []\n",
    "#    while length(Planes_de_viaje)>0\n",
    "#        δt = 2*rand()/N\n",
    "#        if length(Lista_de_autos)>0\n",
    "#            for j in 1:length(Lista_de_autos)\n",
    "#                \n",
    "#            end\n",
    "#            \n",
    "#        end\n",
    "#        \n",
    "#        i = rand(X)\n",
    "#        filter!(e -> e ≠ i, X)\n",
    "#       push!(Lista_de_autos, i)\n",
    "#                \n",
    "#    end \n",
    "#end"
   ]
  },
  {
   "cell_type": "code",
   "execution_count": 12,
   "metadata": {},
   "outputs": [
    {
     "data": {
      "text/plain": [
       "Planes_de_viaje (generic function with 1 method)"
      ]
     },
     "execution_count": 12,
     "metadata": {},
     "output_type": "execute_result"
    }
   ],
   "source": [
    "#El plan inicial de viaje de todos es el otorgado por el algoritmo de Dijkstra, cada auto necesita su pareja OD\n",
    "function Planes_de_viaje(Red,pares_OD)\n",
    "    PV=[]\n",
    "    for i in 1:length(pares_OD)\n",
    "        j,k=Dijkstra(pares_OD[i][1],pares_OD[i][2], Red)\n",
    "        push!(k,0)\n",
    "        push!(PV,k)\n",
    "    end\n",
    "    return PV\n",
    "end"
   ]
  },
  {
   "cell_type": "markdown",
   "metadata": {},
   "source": [
    "## Idea\n",
    "\n",
    "Ir modificando la información en una copia de la red donde se ponga el promedio de lo que se han tardado los automóviles en cada arista para ir sacando nuevos planes de viaje con el algoritmo cada día."
   ]
  },
  {
   "cell_type": "code",
   "execution_count": 14,
   "metadata": {},
   "outputs": [
    {
     "data": {
      "text/plain": [
       "20-element Array{Any,1}:\n",
       " [1, 3, 7, 0]\n",
       " [1, 3, 7, 0]\n",
       " [1, 3, 7, 0]\n",
       " [1, 3, 7, 0]\n",
       " [1, 3, 7, 0]\n",
       " [1, 3, 7, 0]\n",
       " [1, 3, 7, 0]\n",
       " [1, 3, 7, 0]\n",
       " [1, 3, 7, 0]\n",
       " [1, 3, 7, 0]\n",
       " [1, 3, 7, 0]\n",
       " [1, 3, 7, 0]\n",
       " [1, 3, 7, 0]\n",
       " [1, 3, 7, 0]\n",
       " [1, 3, 7, 0]\n",
       " [1, 3, 7, 0]\n",
       " [1, 3, 7, 0]\n",
       " [1, 3, 7, 0]\n",
       " [1, 3, 7, 0]\n",
       " [1, 3, 7, 0]"
      ]
     },
     "execution_count": 14,
     "metadata": {},
     "output_type": "execute_result"
    }
   ],
   "source": [
    "#lo probamos para cierto número de autos con la red pequeña que hicimos y la pareja 1,7\n",
    "Vecinos = []\n",
    "push!(Vecinos, [[2,3,4],[0.5,1,0.3],[1,2,2]])\n",
    "push!(Vecinos, [[8,3,4],[1,0.8,.4],[1,2,2]])\n",
    "push!(Vecinos, [[2,7,4],[0.8,3,1.5],[1,2,2]])\n",
    "push!(Vecinos, [[2,3,6,5],[.4, 1.5, 3, 0.5],[1,2,2,3]])\n",
    "push!(Vecinos, [[4,6],[0.5, 1.],[1,2]])\n",
    "push!(Vecinos, [[4],[3.],[1]])\n",
    "push!(Vecinos, [[3],[3.],[1]])\n",
    "push!(Vecinos, [[2],[1.],[1]])\n",
    "\n",
    "pares_OD=[]\n",
    "for i in 1:20\n",
    "    push!(pares_OD,[1,7])\n",
    "end\n",
    "Planes_de_viaje(Vecinos,pares_OD)"
   ]
  },
  {
   "cell_type": "markdown",
   "metadata": {},
   "source": [
    "Así que ya tenemos los planes de viaje de todos los autos y podemos obtener sus tiempos de salida."
   ]
  },
  {
   "cell_type": "code",
   "execution_count": 15,
   "metadata": {},
   "outputs": [],
   "source": [
    "#A cada auto le ponemos un vector de tiempos que irá rellenando conforme logre salir de cada arista\n",
    "#le llamaremos TR, tiempos de recorrido, el vector de cada auto debe tener tantas \n",
    "#entradas como aristas tenga la red, al principio TR tendrá los tiempos mínimos reportados en las aristas de la red.\n",
    "#function Genera_VT(N,Red)\n",
    "#    t_orig=[]\n",
    "#    for i in 1:length(Red)\n",
    "#        for k in 1:length(Red[i][2])\n",
    "#            push!(t_orig,Red[i][2][k])\n",
    "#        end\n",
    "#    end\n",
    "#    TR=[]\n",
    "#    for i in 1:N\n",
    "#        push!(TR,t_orig)\n",
    "#    end\n",
    "#    return TR\n",
    "#end"
   ]
  },
  {
   "cell_type": "code",
   "execution_count": 16,
   "metadata": {},
   "outputs": [
    {
     "ename": "UndefVarError",
     "evalue": "UndefVarError: Genera_VT not defined",
     "output_type": "error",
     "traceback": [
      "UndefVarError: Genera_VT not defined",
      "",
      "Stacktrace:",
      " [1] top-level scope at In[16]:1"
     ]
    }
   ],
   "source": [
    "Genera_VT(3,Vecinos)"
   ]
  },
  {
   "cell_type": "code",
   "execution_count": 17,
   "metadata": {},
   "outputs": [
    {
     "data": {
      "text/plain": [
       "Genera_VT (generic function with 1 method)"
      ]
     },
     "execution_count": 17,
     "metadata": {},
     "output_type": "execute_result"
    }
   ],
   "source": [
    "#A cada auto le ponemos un vector de tiempos que irá rellenando conforme logre salir de cada arista\n",
    "#le llamaremos TR, tiempos de recorrido, el vector de cada auto debe tener tantas \n",
    "#entradas como aristas tenga la red, al principio TR tendrá los tiempos mínimos reportados en las aristas de la red.\n",
    "function Genera_VT(N,Red)\n",
    "    t_orig=[]\n",
    "    for i in 1:length(Red)\n",
    "        push!(t_orig,[Red[i][1],Red[i][2]])\n",
    "    end\n",
    "    TR=[]\n",
    "    for i in 1:N\n",
    "        push!(TR,t_orig)\n",
    "    end\n",
    "    return TR\n",
    "end"
   ]
  },
  {
   "cell_type": "code",
   "execution_count": 18,
   "metadata": {},
   "outputs": [],
   "source": [
    "#Teorema del saludo de manos\n",
    "#m=0\n",
    "#    for i in 1:length(Vecinos)\n",
    "#        m+=length(Vecinos[i][1])\n",
    "#    end\n",
    "#Int(m/2)"
   ]
  },
  {
   "cell_type": "code",
   "execution_count": 19,
   "metadata": {},
   "outputs": [
    {
     "name": "stdout",
     "output_type": "stream",
     "text": [
      "3[0.0632679, 0.245167, 0.586758, 1.0]"
     ]
    }
   ],
   "source": [
    "# idea para el siguiente bloque\n",
    "TS=Tiempos_Salida(4)\n",
    "t=.5\n",
    "j=0\n",
    "for i in 1:length(TS)\n",
    "    j+=1\n",
    "    if TS[i]-t > 0\n",
    "        break\n",
    "    end\n",
    "end  \n",
    "print(j,TS)"
   ]
  },
  {
   "cell_type": "code",
   "execution_count": 20,
   "metadata": {},
   "outputs": [
    {
     "data": {
      "text/plain": [
       "1.0"
      ]
     },
     "execution_count": 20,
     "metadata": {},
     "output_type": "execute_result"
    }
   ],
   "source": [
    "minimum([2,3,1,∞])"
   ]
  },
  {
   "cell_type": "code",
   "execution_count": 21,
   "metadata": {},
   "outputs": [
    {
     "data": {
      "text/plain": [
       "2-element Array{Int64,1}:\n",
       " 2\n",
       " 3"
      ]
     },
     "execution_count": 21,
     "metadata": {},
     "output_type": "execute_result"
    }
   ],
   "source": [
    "findall(in(3), [2,3,3,4])"
   ]
  },
  {
   "cell_type": "code",
   "execution_count": 42,
   "metadata": {},
   "outputs": [
    {
     "data": {
      "text/plain": [
       "sig_t (generic function with 1 method)"
      ]
     },
     "execution_count": 42,
     "metadata": {},
     "output_type": "execute_result"
    }
   ],
   "source": [
    "#obtenemos qué tiempo sigue, una salida de un auto, o un cambio de arista\n",
    "function sig_t(t,TS,Red,posiciones) #la función requiere saber en qué tiempo nos encontramos y los tiempos de salida de los autos.\n",
    "    #calculamos el siguiente tiempo donde un auto saldrá, solamente si t<1.1 (es decir si ya pasó más de una\n",
    "    #hora desde que la simulación comenzó)\n",
    "    if t<1.1\n",
    "        j=0\n",
    "        for i in 1:length(TS)\n",
    "            j+=1\n",
    "            if TS[i]-t > 0\n",
    "                break\n",
    "            end\n",
    "        end \n",
    "#el siguiente tiempo de salida y el auto que se moverá será \n",
    "        s_t_s=TS[j]\n",
    "        auto_sale=j\n",
    "    end\n",
    "    \n",
    "#ahora hay que calcular el siguiente tiempo de cambio de arista, dependerá de la función BPR \n",
    "# y de cuantos autos hay en cada arista. Creo que será mejor utilizar una función que calcule el BPR de todas las\n",
    "# aristas donde sepamos que hay un automovil.\n",
    "    \n",
    "#Para obtener esto lo que debemos hacer es saber cuántos autos hay en cada arista, calcular la función BPR de\n",
    "    # todas aquellas aristas en las que haya algún auto. Y finalmente calcular el tiempo restante que le tomará a\n",
    "    #un auto en cada arista para llegar a la siguiente. Hagamos eso en una función aparte\n",
    "    s_c_a_Todos=[]\n",
    "    for k in 1:length(TS)\n",
    "        p=posiciones[k]\n",
    "        if (p[1] != 0) && (p[2] != 0)\n",
    "            i=p[1]\n",
    "            j=p[2]\n",
    "            n=how_many_in(p,posiciones)\n",
    "            j=findall(in(j),Red[i][1])[1]\n",
    "            tmin_ij=Red[i][2][j]\n",
    "            #f_ij debería ser el número de autos que hay contra el máximo que puede haber en esa calle.\n",
    "            #para eso tenemos que tener información sobre el máximo de autos que caben ahí, \n",
    "            #eso lo pondremos como un cuarto arreglo en la red\n",
    "            f_ij=n/(Red[i][4][j])\n",
    "            p_ij=1.\n",
    "            tiempo=BPR(tmin_ij, f_ij ,p_ij)\n",
    "        else\n",
    "            tiempo=∞\n",
    "        end\n",
    "        push!(s_c_a_Todos,tiempo)\n",
    "    end   \n",
    "    s_c_a=minimum(s_c_a_Todos)\n",
    "    auto_cambia=findall(in(s_c_a),s_c_a_Todos)[1]\n",
    "#finalmente se comparan estos dos tiempos para ver cuál será el próximo tiempo\n",
    "    if s_t_s< s_c_a\n",
    "        return s_t_s, auto_sale,\"sale\"\n",
    "    else\n",
    "        return s_c_a, auto_cambia,\"cambia\"\n",
    "    end\n",
    "end\n",
    "    "
   ]
  },
  {
   "cell_type": "code",
   "execution_count": 43,
   "metadata": {},
   "outputs": [],
   "source": [
    "#posiciones es un array que nos indica la posición de los automóviles, al inicio la posición de todos es \"[0,0]\"\n",
    "#luego esta posición se irá modificando a aristas (pares ordenados de vértices)"
   ]
  },
  {
   "cell_type": "code",
   "execution_count": 44,
   "metadata": {},
   "outputs": [
    {
     "data": {
      "text/plain": [
       "how_many_in (generic function with 1 method)"
      ]
     },
     "execution_count": 44,
     "metadata": {},
     "output_type": "execute_result"
    }
   ],
   "source": [
    "function how_many_in(p,posiciones)\n",
    "    n=0\n",
    "    i=p[1]\n",
    "    j=p[2]\n",
    "    for k in 1:length(posiciones)\n",
    "        if posiciones[k]==[i,j]\n",
    "            n+=1\n",
    "        end\n",
    "    end\n",
    "    return n\n",
    "end"
   ]
  },
  {
   "cell_type": "code",
   "execution_count": 50,
   "metadata": {},
   "outputs": [
    {
     "data": {
      "text/plain": [
       "actualiza_posiciones! (generic function with 1 method)"
      ]
     },
     "execution_count": 50,
     "metadata": {},
     "output_type": "execute_result"
    }
   ],
   "source": [
    "function actualiza_posiciones!(posiciones,j,Planes_de_viaje,TR,t,accion)\n",
    "    p=posiciones[j]\n",
    "    i=p[1]\n",
    "    k=p[2]\n",
    "    r=findall(in(k),Planes_de_viaje[j])[1]\n",
    "    \n",
    "    if accion==\"cambia\"\n",
    "        m=findall(in(k),TR[j][i][1])[1]\n",
    "        TR[j][i][2][m]=t\n",
    "        posiciones[j]=[k,Planes_de_viaje[j][r+1]]\n",
    "    else \n",
    "        posiciones[j]=[Planes_de_viaje[j][1],Planes_de_viaje[j][2]]\n",
    "    end\n",
    "    return posiciones,TR\n",
    "end"
   ]
  },
  {
   "cell_type": "code",
   "execution_count": 51,
   "metadata": {},
   "outputs": [
    {
     "data": {
      "text/plain": [
       "evolucion_autos (generic function with 1 method)"
      ]
     },
     "execution_count": 51,
     "metadata": {},
     "output_type": "execute_result"
    }
   ],
   "source": [
    "function evolucion_autos(Red, Planes_de_viaje)\n",
    "    #Llevaremos un contador del tiempo que ha ocurrido\n",
    "    t=0.\n",
    "    #Primero generamos los tiempos de salida\n",
    "    n=length(Planes_de_viaje)\n",
    "    TS=Tiempos_Salida(n)\n",
    "    #vectores donde los autos irán registrando el tiempo que tarden en cada arista\n",
    "    TR=Genera_VT(n,Red)\n",
    "    posiciones=[]\n",
    "    p_final=[]\n",
    "    for i in 1:n\n",
    "        push!(posiciones,[0,Planes_de_viaje[i][1]])\n",
    "        l=length(Planes_de_viaje[i])\n",
    "        push!(p_final,[Planes_de_viaje[i][l],0])\n",
    "    end\n",
    "    \n",
    "    while posiciones != p_final\n",
    "    #calculamos que ocurrirá después y en qué tiempo\n",
    "        t,j,accion=sig_t(t,TS,Red,posiciones)\n",
    "    #actualizamos las posiciones y TR\n",
    "        posiciones,TR=actualiza_posiciones!(posiciones,j,Planes_de_viaje,TR,t,accion)\n",
    "    end\n",
    "    #ya que esté bien hecho solo hay que correr tiempos para los autos que NO han llegado.\n",
    "    return TR \n",
    "end"
   ]
  },
  {
   "cell_type": "code",
   "execution_count": 52,
   "metadata": {},
   "outputs": [
    {
     "data": {
      "text/plain": [
       "8-element Array{Any,1}:\n",
       " Array{Float64,1}[[2.0, 3.0, 4.0], [0.5, 1.0, 0.3], [1.0, 2.0, 2.0], [8.0, 15.0, 7.0]]                   \n",
       " Array{Float64,1}[[8.0, 3.0, 4.0], [1.0, 0.8, 0.4], [1.0, 2.0, 2.0], [20.0, 14.0, 2.0]]                  \n",
       " Array{Float64,1}[[2.0, 7.0, 4.0], [0.8, 3.0, 1.5], [1.0, 2.0, 2.0], [9.0, 20.0, 5.0]]                   \n",
       " Array{Float64,1}[[2.0, 3.0, 6.0, 5.0], [0.4, 1.5, 3.0, 0.5], [1.0, 2.0, 2.0, 3.0], [1.0, 2.0, 3.0, 4.0]]\n",
       " Array{Float64,1}[[4.0, 6.0], [0.5, 1.0], [1.0, 2.0], [10.0, 10.0]]                                      \n",
       " Array{Float64,1}[[4.0], [3.0], [1.0], [3.0]]                                                            \n",
       " Array{Float64,1}[[3.0], [3.0], [1.0], [17.0]]                                                           \n",
       " Array{Float64,1}[[2.0], [1.0], [1.0], [4.0]]                                                            "
      ]
     },
     "execution_count": 52,
     "metadata": {},
     "output_type": "execute_result"
    }
   ],
   "source": [
    "#probamos en una red sencilla\n",
    "Red = []\n",
    "push!(Red, [[2,3,4],[0.5,1,0.3],[1,2,2],[8,15,7]])\n",
    "push!(Red, [[8,3,4],[1,0.8,.4],[1,2,2],[20,14,2]])\n",
    "push!(Red, [[2,7,4],[0.8,3,1.5],[1,2,2],[9,20,5]])\n",
    "push!(Red, [[2,3,6,5],[.4, 1.5, 3, 0.5],[1,2,2,3],[1,2,3,4]])\n",
    "push!(Red, [[4,6],[0.5, 1.],[1,2],[10,10]])\n",
    "push!(Red, [[4],[3.],[1],[3]])\n",
    "push!(Red, [[3],[3.],[1],[17]])\n",
    "push!(Red, [[2],[1.],[1],[4]])"
   ]
  },
  {
   "cell_type": "code",
   "execution_count": 53,
   "metadata": {},
   "outputs": [
    {
     "data": {
      "text/plain": [
       "20-element Array{Any,1}:\n",
       " [1, 3, 7, 0]\n",
       " [1, 3, 7, 0]\n",
       " [1, 3, 7, 0]\n",
       " [1, 3, 7, 0]\n",
       " [1, 3, 7, 0]\n",
       " [1, 3, 7, 0]\n",
       " [1, 3, 7, 0]\n",
       " [1, 3, 7, 0]\n",
       " [1, 3, 7, 0]\n",
       " [1, 3, 7, 0]\n",
       " [1, 3, 7, 0]\n",
       " [1, 3, 7, 0]\n",
       " [1, 3, 7, 0]\n",
       " [1, 3, 7, 0]\n",
       " [1, 3, 7, 0]\n",
       " [1, 3, 7, 0]\n",
       " [1, 3, 7, 0]\n",
       " [1, 3, 7, 0]\n",
       " [1, 3, 7, 0]\n",
       " [1, 3, 7, 0]"
      ]
     },
     "execution_count": 53,
     "metadata": {},
     "output_type": "execute_result"
    }
   ],
   "source": [
    "pares_OD=[]\n",
    "for i in 1:20\n",
    "    push!(pares_OD,[1,7])\n",
    "end\n",
    "PV=Planes_de_viaje(Red,pares_OD)"
   ]
  },
  {
   "cell_type": "code",
   "execution_count": null,
   "metadata": {},
   "outputs": [],
   "source": [
    "evolucion_autos(Red,PV)"
   ]
  },
  {
   "cell_type": "code",
   "execution_count": null,
   "metadata": {},
   "outputs": [],
   "source": []
  },
  {
   "cell_type": "code",
   "execution_count": null,
   "metadata": {},
   "outputs": [],
   "source": []
  },
  {
   "cell_type": "code",
   "execution_count": null,
   "metadata": {},
   "outputs": [],
   "source": []
  },
  {
   "cell_type": "code",
   "execution_count": null,
   "metadata": {},
   "outputs": [],
   "source": []
  }
 ],
 "metadata": {
  "@webio": {
   "lastCommId": null,
   "lastKernelId": null
  },
  "hide_input": false,
  "kernelspec": {
   "display_name": "Julia 1.1.0",
   "language": "julia",
   "name": "julia-1.1"
  },
  "language_info": {
   "file_extension": ".jl",
   "mimetype": "application/julia",
   "name": "julia",
   "version": "1.1.0"
  },
  "toc": {
   "base_numbering": 1,
   "nav_menu": {},
   "number_sections": true,
   "sideBar": true,
   "skip_h1_title": false,
   "title_cell": "Table of Contents",
   "title_sidebar": "Contenido",
   "toc_cell": false,
   "toc_position": {},
   "toc_section_display": true,
   "toc_window_display": false
  }
 },
 "nbformat": 4,
 "nbformat_minor": 2
}
