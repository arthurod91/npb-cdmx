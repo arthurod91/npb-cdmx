{
 "cells": [
  {
   "cell_type": "markdown",
   "metadata": {
    "kernel": "Julia"
   },
   "source": [
    "# Calculation of the need of the bike-ways network"
   ]
  },
  {
   "cell_type": "markdown",
   "metadata": {
    "kernel": "SoS"
   },
   "source": [
    "## Plotting the basic geographical information"
   ]
  },
  {
   "cell_type": "code",
   "execution_count": 1,
   "metadata": {
    "kernel": "SoS"
   },
   "outputs": [],
   "source": [
    "sos_north = 19.6\n",
    "sos_west = -99.367\n",
    "sos_south = 19.2\n",
    "sos_east = -98.933"
   ]
  },
  {
   "cell_type": "code",
   "execution_count": 2,
   "metadata": {
    "kernel": "Python3"
   },
   "outputs": [],
   "source": [
    "import geoplotlib\n",
    "from geoplotlib.utils import BoundingBox\n",
    "from geoplotlib.utils import read_csv\n",
    "\n",
    "BoundingBox.CDMX = BoundingBox(sos_north,sos_west,sos_south,sos_east)"
   ]
  },
  {
   "cell_type": "code",
   "execution_count": 3,
   "metadata": {
    "kernel": "Python3"
   },
   "outputs": [],
   "source": [
    "data_dots = read_csv('cdmx_distritos/cdmx_centroides_trim.csv')\n",
    "geoplotlib.shapefiles('cdmx_distritos/O-D_2017',color=[0,0,255],linewidth=1)\n",
    "geoplotlib.dot(data_dots, point_size = 3)\n",
    "geoplotlib.set_smoothing(True)\n",
    "geoplotlib.set_bbox(BoundingBox.CDMX)\n",
    "geoplotlib.show()"
   ]
  },
  {
   "cell_type": "markdown",
   "metadata": {
    "kernel": "Python3"
   },
   "source": [
    "## Computing the weights of the complete graph"
   ]
  },
  {
   "cell_type": "markdown",
   "metadata": {
    "kernel": "SoS"
   },
   "source": [
    "***\n",
    "### Considering the number of users\n",
    "\n",
    "I will supose for this part that every user of any transportation mode is a potential future user of the bike-ways network that is our object of design. For that I will import the data from the origin-destination study to make a weighted graph, with an initial weight term as a function of the ammount of potential users that every link might have. Let's extract o-d data from the csv file into a DataFrame"
   ]
  },
  {
   "cell_type": "code",
   "execution_count": 4,
   "metadata": {
    "kernel": "Julia"
   },
   "outputs": [
    {
     "data": {
      "text/html": [
       "<table class=\"data-frame\"><thead><tr><th></th><th>1 Centro Histórico                                                                </th></tr><tr><th></th><th>Int64</th></tr></thead><tbody><p>85 rows × 85 columns (omitted printing of 84 columns)</p><tr><th>1</th><td>70895</td></tr><tr><th>2</th><td>13314</td></tr><tr><th>3</th><td>15254</td></tr><tr><th>4</th><td>10625</td></tr><tr><th>5</th><td>10365</td></tr><tr><th>6</th><td>9106</td></tr><tr><th>7</th><td>10101</td></tr><tr><th>8</th><td>5593</td></tr><tr><th>9</th><td>2552</td></tr><tr><th>10</th><td>5832</td></tr><tr><th>11</th><td>2757</td></tr><tr><th>12</th><td>6788</td></tr><tr><th>13</th><td>4998</td></tr><tr><th>14</th><td>4747</td></tr><tr><th>15</th><td>3691</td></tr><tr><th>16</th><td>5419</td></tr><tr><th>17</th><td>4221</td></tr><tr><th>18</th><td>3308</td></tr><tr><th>19</th><td>2470</td></tr><tr><th>20</th><td>3150</td></tr><tr><th>21</th><td>6234</td></tr><tr><th>22</th><td>2177</td></tr><tr><th>23</th><td>3643</td></tr><tr><th>24</th><td>2994</td></tr><tr><th>25</th><td>4448</td></tr><tr><th>26</th><td>3720</td></tr><tr><th>27</th><td>3629</td></tr><tr><th>28</th><td>2625</td></tr><tr><th>29</th><td>4483</td></tr><tr><th>30</th><td>2872</td></tr><tr><th>&vellip;</th><td>&vellip;</td></tr></tbody></table>"
      ],
      "text/latex": [
       "\\begin{tabular}{r|cc}\n",
       "\t& 1 Centro Histórico                                                                 & \\\\\n",
       "\t\\hline\n",
       "\t& Int64 & \\\\\n",
       "\t\\hline\n",
       "\t1 & 70895 & $\\dots$ \\\\\n",
       "\t2 & 13314 & $\\dots$ \\\\\n",
       "\t3 & 15254 & $\\dots$ \\\\\n",
       "\t4 & 10625 & $\\dots$ \\\\\n",
       "\t5 & 10365 & $\\dots$ \\\\\n",
       "\t6 & 9106 & $\\dots$ \\\\\n",
       "\t7 & 10101 & $\\dots$ \\\\\n",
       "\t8 & 5593 & $\\dots$ \\\\\n",
       "\t9 & 2552 & $\\dots$ \\\\\n",
       "\t10 & 5832 & $\\dots$ \\\\\n",
       "\t11 & 2757 & $\\dots$ \\\\\n",
       "\t12 & 6788 & $\\dots$ \\\\\n",
       "\t13 & 4998 & $\\dots$ \\\\\n",
       "\t14 & 4747 & $\\dots$ \\\\\n",
       "\t15 & 3691 & $\\dots$ \\\\\n",
       "\t16 & 5419 & $\\dots$ \\\\\n",
       "\t17 & 4221 & $\\dots$ \\\\\n",
       "\t18 & 3308 & $\\dots$ \\\\\n",
       "\t19 & 2470 & $\\dots$ \\\\\n",
       "\t20 & 3150 & $\\dots$ \\\\\n",
       "\t21 & 6234 & $\\dots$ \\\\\n",
       "\t22 & 2177 & $\\dots$ \\\\\n",
       "\t23 & 3643 & $\\dots$ \\\\\n",
       "\t24 & 2994 & $\\dots$ \\\\\n",
       "\t25 & 4448 & $\\dots$ \\\\\n",
       "\t26 & 3720 & $\\dots$ \\\\\n",
       "\t27 & 3629 & $\\dots$ \\\\\n",
       "\t28 & 2625 & $\\dots$ \\\\\n",
       "\t29 & 4483 & $\\dots$ \\\\\n",
       "\t30 & 2872 & $\\dots$ \\\\\n",
       "\t$\\dots$ & $\\dots$ &  \\\\\n",
       "\\end{tabular}\n"
      ],
      "text/plain": [
       "85×85 DataFrame. Omitted printing of 85 columns\n",
       "│ Row │ │     │ ├─────┼\n",
       "│ 1   │ │ 2   │ │ 3   │ │ 4   │ │ 5   │ │ 6   │ │ 7   │ │ 8   │ │ 9   │ │ 10  │ \n",
       "⋮\n",
       "│ 75  │ │ 76  │ │ 77  │ │ 78  │ │ 79  │ │ 80  │ │ 81  │ │ 82  │ │ 83  │ │ 84  │ │ 85  │ "
      ]
     },
     "execution_count": 4,
     "metadata": {},
     "output_type": "execute_result"
    }
   ],
   "source": [
    "using CSV, DataFrames\n",
    "\n",
    "od_df = CSV.File(\"EOD17.csv\") |> DataFrame"
   ]
  },
  {
   "cell_type": "markdown",
   "metadata": {
    "kernel": "Julia"
   },
   "source": [
    "Now for processing this data I will put it into a matrix (the adjacency matrix) supposing that **the weight of one path with a potential number of users is inversely proportional to the number of users**, i. e. the more potential users a link will have the less costful will be to build it.\n",
    "\n",
    "$$w_{1} \\propto \\frac{1}{\\text{no. of users}}$$"
   ]
  },
  {
   "cell_type": "code",
   "execution_count": 5,
   "metadata": {
    "kernel": "Julia"
   },
   "outputs": [
    {
     "name": "stderr",
     "output_type": "stream",
     "text": [
      "┌ Warning: `getindex(df::DataFrame, ::Colon)` is deprecated, use `df[:, :]` instead.\n",
      "│   caller = top-level scope at In[7]:4\n",
      "└ @ Core ./In[7]:4\n",
      "┌ Warning: `getindex(df::DataFrame, col_ind::ColumnIndex)` is deprecated, use `df[!, col_ind]` instead.\n",
      "│   caller = top-level scope at In[7]:4\n",
      "└ @ Core ./In[7]:4\n"
     ]
    },
    {
     "data": {
      "text/plain": [
       "85×85 Array{Float64,2}:\n",
       " 0.0          8.01667e-5     5.93296e-5   …    0.000315557  0.000376648\n",
       " 7.51089e-5   0.0            5.04236e-5        0.000880282  0.00136426 \n",
       " 6.55566e-5   5.03018e-5     0.0             Inf            0.00357143 \n",
       " 9.41176e-5   0.000200763    0.0001485         0.00266667   0.00131062 \n",
       " 9.64785e-5   0.000154036    0.000561482       0.0035461    0.00137174 \n",
       " 0.000109818  0.000235183    0.00132275   …    0.000449236  0.00071582 \n",
       " 9.90001e-5   0.000190114    0.000254323       0.000844595  0.000875657\n",
       " 0.000178795  7.30994e-5     0.000282885       0.00120337   0.000571755\n",
       " 0.00039185   0.000192864    0.00162602        0.0015949    0.00152439 \n",
       " 0.000171468  0.000272183    0.0015083         0.00161031   0.000613874\n",
       " 0.000362713  0.000769231    0.0037037    …    0.00346021   0.00218818 \n",
       " 0.000147319  0.000405186    0.00280112        0.000600601  0.000738552\n",
       " 0.00020008   0.000216591    0.00169779        0.000892061  0.000974659\n",
       " ⋮                                        ⋱                            \n",
       " 0.000725163  0.00143678     0.0120482         0.00170648   0.00735294 \n",
       " 0.000841043  0.00261097   Inf                 0.00230947   0.00763359 \n",
       " 0.00041684   0.00278552     0.00854701   …    0.00185529   0.0031348  \n",
       " 0.00023546   0.00125628     0.00420168        0.000473709  0.000935454\n",
       " 0.000430478  0.00056338     0.00657895        0.000103563  0.00049505 \n",
       " 0.000301114  0.00160256     0.00187617        8.06582e-5   0.00104712 \n",
       " 0.000289268  0.00120192     0.00161812        0.000233536  0.000659631\n",
       " 0.000494071  0.000859107    0.00377358   …    0.000266738  0.0017331  \n",
       " 0.000244978  0.000761615    0.00240385        0.000959693  0.000458505\n",
       " 0.000263992  0.000858369    0.00204499        0.000132398  0.000159566\n",
       " 0.000340368  0.000738007  Inf                 0.0          0.000161005\n",
       " 0.000413907  0.00136426     0.00510204        0.000165782  0.0        "
      ]
     },
     "execution_count": 5,
     "metadata": {},
     "output_type": "execute_result"
    }
   ],
   "source": [
    "adj_matrix = Array{Float64}(undef, 85, 85)\n",
    "\n",
    "for ci in 1:85\n",
    "    c = coalesce.(od_df[:][ci], 0.0)\n",
    "    for ri in 1:85\n",
    "        if ci == ri\n",
    "            adj_matrix[ri,ci] = 0\n",
    "        else \n",
    "            adj_matrix[ri,ci] = 1/c[ri]\n",
    "        end\n",
    "    end \n",
    "end \n",
    "\n",
    "adj_matrix"
   ]
  },
  {
   "cell_type": "markdown",
   "metadata": {
    "kernel": "Julia"
   },
   "source": [
    "I will take the constant of proportionality so that the biggest (finite) weight possible is 1, this can be modified according to the importance of this variable into the total weights."
   ]
  },
  {
   "cell_type": "code",
   "execution_count": 6,
   "metadata": {
    "kernel": "Julia"
   },
   "outputs": [
    {
     "data": {
      "text/plain": [
       "85×85 Array{Float64,2}:\n",
       " 0.0          0.000881834    0.000652625  …    0.00347113  0.00414313\n",
       " 0.000826198  0.0            0.000554659       0.0096831   0.0150068 \n",
       " 0.000721122  0.00055332     0.0             Inf           0.0392857 \n",
       " 0.00103529   0.00220839     0.0016335         0.0293333   0.0144168 \n",
       " 0.00106126   0.00169439     0.00617631        0.0390071   0.0150892 \n",
       " 0.00120799   0.00258702     0.0145503    …    0.0049416   0.00787402\n",
       " 0.001089     0.00209125     0.00279756        0.00929054  0.00963222\n",
       " 0.00196674   0.000804094    0.00311174        0.0132371   0.00628931\n",
       " 0.00431034   0.0021215      0.0178862         0.0175439   0.0167683 \n",
       " 0.00188615   0.00299401     0.0165913         0.0177134   0.00675261\n",
       " 0.00398984   0.00846154     0.0407407    …    0.0380623   0.02407   \n",
       " 0.00162051   0.00445705     0.0308123         0.00660661  0.00812408\n",
       " 0.00220088   0.0023825      0.0186757         0.00981267  0.0107212 \n",
       " ⋮                                        ⋱                          \n",
       " 0.00797679   0.0158046      0.13253           0.0187713   0.0808824 \n",
       " 0.00925147   0.0287206    Inf                 0.0254042   0.0839695 \n",
       " 0.00458524   0.0306407      0.0940171    …    0.0204082   0.0344828 \n",
       " 0.00259006   0.0138191      0.0462185         0.0052108   0.01029   \n",
       " 0.00473526   0.00619718     0.0723684         0.00113919  0.00544554\n",
       " 0.00331226   0.0176282      0.0206379         0.00088724  0.0115183 \n",
       " 0.00318195   0.0132212      0.0177994         0.00256889  0.00725594\n",
       " 0.00543478   0.00945017     0.0415094    …    0.00293412  0.0190641 \n",
       " 0.00269476   0.00837776     0.0264423         0.0105566   0.00504356\n",
       " 0.00290391   0.00944206     0.0224949         0.00145637  0.00175523\n",
       " 0.00374404   0.00811808   Inf                 0.0         0.00177105\n",
       " 0.00455298   0.0150068      0.0561224         0.00182361  0.0       "
      ]
     },
     "execution_count": 6,
     "metadata": {},
     "output_type": "execute_result"
    }
   ],
   "source": [
    "M = adj_matrix[1,1]\n",
    "for ci in 1:85\n",
    "    for ri in 1:84\n",
    "        if M < adj_matrix[ri+1,ci] && adj_matrix[ri+1,ci] != Inf\n",
    "            M = adj_matrix[ri+1,ci]\n",
    "        end\n",
    "    end \n",
    "end \n",
    "\n",
    "weight₁=adj_matrix/M"
   ]
  },
  {
   "cell_type": "markdown",
   "metadata": {
    "kernel": "Julia"
   },
   "source": [
    "***\n",
    "### Considering the distance between nodes\n",
    "\n",
    "Now I will import the data obtained with qGIS from the locations of the centroids of *Distritos de Tránsito* to calculate the second term of the weight series, as a function of the distance between each pair of nodes. I am supposing that a node is well connected when there is a path going trough (or pretty near) its centroid."
   ]
  },
  {
   "cell_type": "code",
   "execution_count": 7,
   "metadata": {
    "kernel": "Julia"
   },
   "outputs": [
    {
     "data": {
      "text/html": [
       "<table class=\"data-frame\"><thead><tr><th></th><th>Nombre</th><th>lat</th><th>lon</th></tr><tr><th></th><th>String</th><th>Float64</th><th>Float64</th></tr></thead><tbody><p>85 rows × 3 columns</p><tr><th>1</th><td>Centro Histórico</td><td>19.4334</td><td>-99.1374</td></tr><tr><th>2</th><td>Buenavista-Reforma</td><td>19.4428</td><td>-99.1583</td></tr><tr><th>3</th><td>Tlatelolco</td><td>19.4526</td><td>-99.1352</td></tr><tr><th>4</th><td>Morelos</td><td>19.4363</td><td>-99.1163</td></tr><tr><th>5</th><td>Moctezuma, Terminal de Autobuses de Oriente (TAPO)</td><td>19.4375</td><td>-99.1006</td></tr><tr><th>6</th><td>Balbuena</td><td>19.4129</td><td>-99.1195</td></tr><tr><th>7</th><td>Obrera</td><td>19.4145</td><td>-99.1448</td></tr><tr><th>8</th><td>Condesa</td><td>19.4114</td><td>-99.1683</td></tr><tr><th>9</th><td>Nápoles</td><td>19.3934</td><td>-99.1724</td></tr><tr><th>10</th><td>Vertiz Narvarte</td><td>19.394</td><td>-99.1469</td></tr><tr><th>11</th><td>Reforma Iztaccíhuatl</td><td>19.3916</td><td>-99.1304</td></tr><tr><th>12</th><td>Palacio de los Deportes</td><td>19.3947</td><td>-99.1107</td></tr><tr><th>13</th><td>San Andrés Tetepilco</td><td>19.3722</td><td>-99.1257</td></tr><tr><th>14</th><td>Portales</td><td>19.3699</td><td>-99.1535</td></tr><tr><th>15</th><td>Del Valle</td><td>19.3756</td><td>-99.1759</td></tr><tr><th>16</th><td>Chapultepec-Polanco</td><td>19.4302</td><td>-99.1927</td></tr><tr><th>17</th><td>Panteones</td><td>19.4613</td><td>-99.1987</td></tr><tr><th>18</th><td>Tezozómoc</td><td>19.4865</td><td>-99.2075</td></tr><tr><th>19</th><td>El Rosario</td><td>19.5009</td><td>-99.1909</td></tr><tr><th>20</th><td>Industrial Vallejo</td><td>19.4832</td><td>-99.1702</td></tr><tr><th>21</th><td>La Raza</td><td>19.4584</td><td>-99.1683</td></tr><tr><th>22</th><td>Cuautepec</td><td>19.5684</td><td>-99.1304</td></tr><tr><th>23</th><td>Reclusorio Norte</td><td>19.5389</td><td>-99.1492</td></tr><tr><th>24</th><td>Ticomán</td><td>19.5386</td><td>-99.1314</td></tr><tr><th>25</th><td>Nueva Industrial Vallejo</td><td>19.513</td><td>-99.141</td></tr><tr><th>26</th><td>Instituto Politécnico, Terminal de Autobuses del Norte</td><td>19.4901</td><td>-99.139</td></tr><tr><th>27</th><td>Tepeyac</td><td>19.498</td><td>-99.1064</td></tr><tr><th>28</th><td>La Villa</td><td>19.4748</td><td>-99.1241</td></tr><tr><th>29</th><td>Nueva Atzacoalco</td><td>19.4932</td><td>-99.0921</td></tr><tr><th>30</th><td>San Felipe de Jesús</td><td>19.4911</td><td>-99.0757</td></tr><tr><th>&vellip;</th><td>&vellip;</td><td>&vellip;</td><td>&vellip;</td></tr></tbody></table>"
      ],
      "text/latex": [
       "\\begin{tabular}{r|ccc}\n",
       "\t& Nombre & lat & lon\\\\\n",
       "\t\\hline\n",
       "\t& String & Float64 & Float64\\\\\n",
       "\t\\hline\n",
       "\t1 & Centro Histórico & 19.4334 & -99.1374 \\\\\n",
       "\t2 & Buenavista-Reforma & 19.4428 & -99.1583 \\\\\n",
       "\t3 & Tlatelolco & 19.4526 & -99.1352 \\\\\n",
       "\t4 & Morelos & 19.4363 & -99.1163 \\\\\n",
       "\t5 & Moctezuma, Terminal de Autobuses de Oriente (TAPO) & 19.4375 & -99.1006 \\\\\n",
       "\t6 & Balbuena & 19.4129 & -99.1195 \\\\\n",
       "\t7 & Obrera & 19.4145 & -99.1448 \\\\\n",
       "\t8 & Condesa & 19.4114 & -99.1683 \\\\\n",
       "\t9 & Nápoles & 19.3934 & -99.1724 \\\\\n",
       "\t10 & Vertiz Narvarte & 19.394 & -99.1469 \\\\\n",
       "\t11 & Reforma Iztaccíhuatl & 19.3916 & -99.1304 \\\\\n",
       "\t12 & Palacio de los Deportes & 19.3947 & -99.1107 \\\\\n",
       "\t13 & San Andrés Tetepilco & 19.3722 & -99.1257 \\\\\n",
       "\t14 & Portales & 19.3699 & -99.1535 \\\\\n",
       "\t15 & Del Valle & 19.3756 & -99.1759 \\\\\n",
       "\t16 & Chapultepec-Polanco & 19.4302 & -99.1927 \\\\\n",
       "\t17 & Panteones & 19.4613 & -99.1987 \\\\\n",
       "\t18 & Tezozómoc & 19.4865 & -99.2075 \\\\\n",
       "\t19 & El Rosario & 19.5009 & -99.1909 \\\\\n",
       "\t20 & Industrial Vallejo & 19.4832 & -99.1702 \\\\\n",
       "\t21 & La Raza & 19.4584 & -99.1683 \\\\\n",
       "\t22 & Cuautepec & 19.5684 & -99.1304 \\\\\n",
       "\t23 & Reclusorio Norte & 19.5389 & -99.1492 \\\\\n",
       "\t24 & Ticomán & 19.5386 & -99.1314 \\\\\n",
       "\t25 & Nueva Industrial Vallejo & 19.513 & -99.141 \\\\\n",
       "\t26 & Instituto Politécnico, Terminal de Autobuses del Norte & 19.4901 & -99.139 \\\\\n",
       "\t27 & Tepeyac & 19.498 & -99.1064 \\\\\n",
       "\t28 & La Villa & 19.4748 & -99.1241 \\\\\n",
       "\t29 & Nueva Atzacoalco & 19.4932 & -99.0921 \\\\\n",
       "\t30 & San Felipe de Jesús & 19.4911 & -99.0757 \\\\\n",
       "\t$\\dots$ & $\\dots$ & $\\dots$ & $\\dots$ \\\\\n",
       "\\end{tabular}\n"
      ],
      "text/plain": [
       "85×3 DataFrame. Omitted printing of 1 columns\n",
       "│ Row │ Nombre                                             │ lat     │\n",
       "│     │ \u001b[90mString\u001b[39m                                             │ \u001b[90mFloat64\u001b[39m │\n",
       "├─────┼────────────────────────────────────────────────────┼─────────┤\n",
       "│ 1   │ Centro Histórico                                   │ 19.4334 │\n",
       "│ 2   │ Buenavista-Reforma                                 │ 19.4428 │\n",
       "│ 3   │ Tlatelolco                                         │ 19.4526 │\n",
       "│ 4   │ Morelos                                            │ 19.4363 │\n",
       "│ 5   │ Moctezuma, Terminal de Autobuses de Oriente (TAPO) │ 19.4375 │\n",
       "│ 6   │ Balbuena                                           │ 19.4129 │\n",
       "│ 7   │ Obrera                                             │ 19.4145 │\n",
       "│ 8   │ Condesa                                            │ 19.4114 │\n",
       "│ 9   │ Nápoles                                            │ 19.3934 │\n",
       "│ 10  │ Vertiz Narvarte                                    │ 19.394  │\n",
       "⋮\n",
       "│ 75  │ Mixquic                                            │ 19.2502 │\n",
       "│ 76  │ Santa Catarina                                     │ 19.3014 │\n",
       "│ 77  │ Reclusorio Oriente                                 │ 19.319  │\n",
       "│ 78  │ Desarrollo Urbano Quetzalcóatl                     │ 19.3331 │\n",
       "│ 79  │ Buenavista Iztapalapa                              │ 19.3312 │\n",
       "│ 80  │ Santa María de Xalpa                               │ 19.3373 │\n",
       "│ 81  │ San Miguel Teotongo                                │ 19.3169 │\n",
       "│ 82  │ Santa Martha Acatitla                              │ 19.3782 │\n",
       "│ 83  │ Juan Escutia                                       │ 19.3685 │\n",
       "│ 84  │ Santa Cruz Meyehualco                              │ 19.3537 │\n",
       "│ 85  │ Ejército Constitucionalista                        │ 19.3798 │"
      ]
     },
     "execution_count": 7,
     "metadata": {},
     "output_type": "execute_result"
    }
   ],
   "source": [
    "centroids_df = CSV.File(\"cdmx_distritos/cdmx_centroides_trim.csv\") |> DataFrame"
   ]
  },
  {
   "cell_type": "markdown",
   "metadata": {
    "kernel": "Julia"
   },
   "source": [
    "Calculating the distance between each pair of nodes and storing it in a matrix:"
   ]
  },
  {
   "cell_type": "code",
   "execution_count": 8,
   "metadata": {
    "kernel": "Julia"
   },
   "outputs": [
    {
     "name": "stderr",
     "output_type": "stream",
     "text": [
      "┌ Warning: `getindex(df::DataFrame, ::Colon)` is deprecated, use `df[:, :]` instead.\n",
      "│   caller = top-level scope at In[25]:4\n",
      "└ @ Core ./In[25]:4\n",
      "┌ Warning: `getindex(df::DataFrame, col_ind::ColumnIndex)` is deprecated, use `df[!, col_ind]` instead.\n",
      "│   caller = top-level scope at In[25]:4\n",
      "└ @ Core ./In[25]:4\n"
     ]
    },
    {
     "data": {
      "text/plain": [
       "85-element Array{Any,1}:\n",
       " [19.4334, -99.1374]\n",
       " [19.4428, -99.1583]\n",
       " [19.4526, -99.1352]\n",
       " [19.4363, -99.1163]\n",
       " [19.4375, -99.1006]\n",
       " [19.4129, -99.1195]\n",
       " [19.4145, -99.1448]\n",
       " [19.4114, -99.1683]\n",
       " [19.3934, -99.1724]\n",
       " [19.394, -99.1469] \n",
       " [19.3916, -99.1304]\n",
       " [19.3947, -99.1107]\n",
       " [19.3722, -99.1257]\n",
       " ⋮                  \n",
       " [19.2842, -99.0372]\n",
       " [19.2502, -98.9896]\n",
       " [19.3014, -99.0283]\n",
       " [19.319, -99.0597] \n",
       " [19.3331, -99.047] \n",
       " [19.3312, -99.0279]\n",
       " [19.3373, -99.0058]\n",
       " [19.3169, -98.9917]\n",
       " [19.3782, -99.0184]\n",
       " [19.3685, -99.0224]\n",
       " [19.3537, -99.0393]\n",
       " [19.3798, -99.0501]"
      ]
     },
     "execution_count": 8,
     "metadata": {},
     "output_type": "execute_result"
    }
   ],
   "source": [
    "centroid_array = Array{Float64}(undef, 85, 2)\n",
    "\n",
    "for ci in 2:3\n",
    "    c = coalesce.(centroids_df[:][ci], 0.0)\n",
    "    for ri in 1:85 \n",
    "        centroid_array[ri,ci-1] = c[ri]\n",
    "    end \n",
    "end\n",
    "\n",
    "centroid_list = []\n",
    "\n",
    "for ri in 1:85\n",
    "    push!(centroid_list, [centroid_array[ri,1],centroid_array[ri,2]]) \n",
    "end\n",
    "\n",
    "centroid_list"
   ]
  },
  {
   "cell_type": "code",
   "execution_count": 9,
   "metadata": {
    "kernel": "Julia"
   },
   "outputs": [
    {
     "data": {
      "text/plain": [
       "85×85 Array{Float64,2}:\n",
       " 0.0        0.0229374  0.0193748  …  0.132096   0.126393   0.102377 \n",
       " 0.0229374  0.0        0.0250832     0.154953   0.148681   0.125163 \n",
       " 0.0193748  0.0250832  0.0           0.140818   0.137825   0.111991 \n",
       " 0.0212961  0.0424989  0.0249799     0.115912   0.112968   0.0870112\n",
       " 0.0370396  0.0579678  0.037813      0.104348   0.103831   0.0766187\n",
       " 0.0272301  0.049025   0.0427651  …  0.106792   0.0996627  0.0768058\n",
       " 0.0202749  0.0313507  0.0393093     0.130814   0.121784   0.100812 \n",
       " 0.0379106  0.0329021  0.0528242     0.152161   0.141374   0.122341 \n",
       " 0.0531572  0.0513881  0.0699468     0.152093   0.138907   0.123012 \n",
       " 0.0404436  0.0500613  0.0597165     0.127106   0.114904   0.0977673\n",
       " 0.0423468  0.0582857  0.0612136  …  0.110521   0.0987193  0.0811537\n",
       " 0.0470071  0.0676821  0.0629291     0.0921573  0.0823486  0.0623641\n",
       " 0.0622819  0.0777445  0.0809959     0.103456   0.0884298  0.0760036\n",
       " ⋮                                ⋱                                 \n",
       " 0.179719   0.199559   0.194909      0.0855992  0.06959    0.0965577\n",
       " 0.235402   0.256071   0.249416      0.122743   0.114852   0.14312  \n",
       " 0.171242   0.192092   0.185233   …  0.0672958  0.0534457  0.0814241\n",
       " 0.13824    0.158232   0.153479      0.0620018  0.0403116  0.0616065\n",
       " 0.135002   0.156269   0.148574      0.0431328  0.0220533  0.0468754\n",
       " 0.149781   0.171654   0.162092      0.0376825  0.0252426  0.0535066\n",
       " 0.16295    0.185453   0.173387      0.0353086  0.0372822  0.0614627\n",
       " 0.186521   0.208814   0.197543   …  0.0599691  0.0601388  0.0858751\n",
       " 0.131174   0.15411    0.138551      0.010468   0.0321215  0.031758 \n",
       " 0.132096   0.154953   0.140818      0.0        0.02243    0.0300188\n",
       " 0.126393   0.148681   0.137825      0.02243    0.0        0.0282998\n",
       " 0.102377   0.125163   0.111991      0.0300188  0.0282998  0.0      "
      ]
     },
     "execution_count": 9,
     "metadata": {},
     "output_type": "execute_result"
    }
   ],
   "source": [
    "using LinearAlgebra\n",
    "\n",
    "distance_matrix = Array{Float64}(undef, 85, 85)\n",
    "\n",
    "for ri in 1:85\n",
    "    for ci in 1:85\n",
    "        distance_matrix[ri,ci] = norm(centroid_list[ci] - centroid_list[ri])\n",
    "    end\n",
    "end\n",
    "\n",
    "distance_matrix"
   ]
  },
  {
   "cell_type": "markdown",
   "metadata": {
    "kernel": "Julia"
   },
   "source": [
    "The last matrix represents **the cost of each edge due to its longitude**, making the assuption that the cost of a path is indeed proportional to the distance the path covers.\n",
    "\n",
    "$$w_{2} \\propto {\\text{distance}}$$\n",
    "\n",
    "Once again, I will take the constant of proportionality so that the biggest (finite) weight possible is 1, this can be modified according to the importance of this variable into the total weights."
   ]
  },
  {
   "cell_type": "code",
   "execution_count": 10,
   "metadata": {
    "kernel": "Julia"
   },
   "outputs": [
    {
     "data": {
      "text/plain": [
       "85×85 Array{Float64,2}:\n",
       " 0.0        0.0525858  0.0444182  …  0.302841   0.289766   0.234708 \n",
       " 0.0525858  0.0        0.0575052     0.355242   0.340863   0.286945 \n",
       " 0.0444182  0.0575052  0.0           0.322836   0.315974   0.256748 \n",
       " 0.0488231  0.0974321  0.0572685     0.265737   0.258989   0.19948  \n",
       " 0.0849163  0.132896   0.0866894     0.239226   0.23804    0.175655 \n",
       " 0.0624272  0.112394   0.0980423  …  0.244829   0.228485   0.176083 \n",
       " 0.0464818  0.0718741  0.0901198     0.299901   0.2792     0.23112  \n",
       " 0.0869132  0.0754308  0.121104      0.348842   0.324111   0.280476 \n",
       " 0.121867   0.117811   0.160359      0.348684   0.318455   0.282015 \n",
       " 0.0927201  0.11477    0.136905      0.291401   0.263426   0.224139 \n",
       " 0.0970834  0.133625   0.140337   …  0.253379   0.226322   0.186051 \n",
       " 0.107767   0.155167   0.14427       0.211278   0.188791   0.142975 \n",
       " 0.142786   0.178235   0.18569       0.237181   0.202732   0.174244 \n",
       " ⋮                                ⋱                                 \n",
       " 0.41202    0.457506   0.446844      0.196243   0.159541   0.221366 \n",
       " 0.539679   0.587064   0.571807      0.281398   0.263309   0.328114 \n",
       " 0.392587   0.440387   0.42466    …  0.154281   0.122529   0.186671 \n",
       " 0.316925   0.362759   0.351863      0.142144   0.0924175  0.141238 \n",
       " 0.309503   0.358259   0.340619      0.0988855  0.0505589  0.107466 \n",
       " 0.343385   0.39353    0.371609      0.0863901  0.0578708  0.122668 \n",
       " 0.373576   0.425166   0.397503      0.0809478  0.0854724  0.140908 \n",
       " 0.427614   0.478723   0.452884   …  0.137484   0.137873   0.196875 \n",
       " 0.300727   0.35331    0.31764       0.0239987  0.0736412  0.0728078\n",
       " 0.302841   0.355242   0.322836      0.0        0.0514227  0.0688205\n",
       " 0.289766   0.340863   0.315974      0.0514227  0.0        0.0648797\n",
       " 0.234708   0.286945   0.256748      0.0688205  0.0648797  0.0      "
      ]
     },
     "execution_count": 10,
     "metadata": {},
     "output_type": "execute_result"
    }
   ],
   "source": [
    "M = distance_matrix[1,1]\n",
    "for ci in 1:85\n",
    "    for ri in 1:84\n",
    "        if M < distance_matrix[ri+1,ci] && distance_matrix[ri+1,ci] != Inf\n",
    "            M = distance_matrix[ri+1,ci]\n",
    "        end\n",
    "    end \n",
    "end \n",
    "\n",
    "weight₂ = distance_matrix/M"
   ]
  },
  {
   "cell_type": "markdown",
   "metadata": {
    "kernel": "Julia"
   },
   "source": [
    "***\n",
    "### Calculating the total\n",
    "Adding the first and second weight I get the total weight of each possible vertex (considering only this two terms):"
   ]
  },
  {
   "cell_type": "code",
   "execution_count": 11,
   "metadata": {
    "kernel": "Julia"
   },
   "outputs": [
    {
     "data": {
      "text/plain": [
       "85×85 Array{Float64,2}:\n",
       " 0.0        0.0534676    0.0450708  …  0.305769     0.293237   0.238851 \n",
       " 0.053412   0.0          0.0580598     0.363581     0.350546   0.301952 \n",
       " 0.0451393  0.0580585    0.0           0.349997   Inf          0.296034 \n",
       " 0.0498584  0.0996405    0.058902      0.273976     0.288322   0.213897 \n",
       " 0.0859775  0.13459      0.0928657     0.249864     0.277047   0.190744 \n",
       " 0.0636352  0.114981     0.112593   …  0.258841     0.233426   0.183957 \n",
       " 0.0475708  0.0739653    0.0929174     0.306763     0.28849    0.240752 \n",
       " 0.0888799  0.0762349    0.124215      0.364489     0.337348   0.286765 \n",
       " 0.126178   0.119933     0.178245      0.380294     0.335998   0.298783 \n",
       " 0.0946063  0.117764     0.153496      0.327585     0.281139   0.230892 \n",
       " 0.101073   0.142086     0.181078   …  0.345046     0.264384   0.210121 \n",
       " 0.109388   0.159624     0.175082      0.223106     0.195397   0.151099 \n",
       " 0.144987   0.180618     0.204365      0.258133     0.212545   0.184966 \n",
       " ⋮                                  ⋱                                   \n",
       " 0.419997   0.47331      0.579374      0.220962     0.178312   0.302249 \n",
       " 0.54893    0.615785   Inf             0.298532     0.288713   0.412083 \n",
       " 0.397172   0.471028     0.518678   …  0.199363     0.142937   0.221154 \n",
       " 0.319515   0.376578     0.398082      0.149255     0.0976283  0.151528 \n",
       " 0.314239   0.364456     0.412987      0.104675     0.0516981  0.112911 \n",
       " 0.346698   0.411159     0.392247      0.0978127    0.058758   0.134186 \n",
       " 0.376758   0.438387     0.415302      0.0847739    0.0880413  0.148164 \n",
       " 0.433049   0.488173     0.494393   …  0.141936     0.140807   0.21594  \n",
       " 0.303422   0.361688     0.344082      0.0259683    0.0841978  0.0778514\n",
       " 0.305745   0.364684     0.345331      0.0          0.052879   0.0705757\n",
       " 0.29351    0.348981   Inf             0.0528402    0.0        0.0666507\n",
       " 0.239261   0.301952     0.312871      0.0706076    0.0667033  0.0      "
      ]
     },
     "execution_count": 11,
     "metadata": {},
     "output_type": "execute_result"
    }
   ],
   "source": [
    "total_weight = weight₁ + weight₂"
   ]
  },
  {
   "cell_type": "markdown",
   "metadata": {
    "kernel": "Julia"
   },
   "source": [
    "## Imposing the geographical constrictions"
   ]
  },
  {
   "cell_type": "markdown",
   "metadata": {
    "kernel": "Julia"
   },
   "source": [
    "Now I will impose the geographical constrictions between pairs, allowing to travel between geographically adjacent pairs of *distritos*. The information about neighoring pairs was obtained using qGIS and expanded by hand."
   ]
  },
  {
   "cell_type": "code",
   "execution_count": 12,
   "metadata": {
    "kernel": "Julia"
   },
   "outputs": [
    {
     "name": "stderr",
     "output_type": "stream",
     "text": [
      "┌ Warning: `getindex(df::DataFrame, ::Colon)` is deprecated, use `df[:, :]` instead.\n",
      "│   caller = top-level scope at In[49]:2\n",
      "└ @ Core In[49]:2\n",
      "┌ Warning: `getindex(df::DataFrame, col_ind::ColumnIndex)` is deprecated, use `df[!, col_ind]` instead.\n",
      "│   caller = top-level scope at In[49]:2\n",
      "└ @ Core In[49]:2\n",
      "┌ Warning: `getindex(df::DataFrame, ::Colon)` is deprecated, use `df[:, :]` instead.\n",
      "│   caller = top-level scope at In[49]:6\n",
      "└ @ Core ./In[49]:6\n",
      "┌ Warning: `getindex(df::DataFrame, col_ind::ColumnIndex)` is deprecated, use `df[!, col_ind]` instead.\n",
      "│   caller = top-level scope at In[49]:6\n",
      "└ @ Core ./In[49]:6\n",
      "┌ Warning: `getindex(df::DataFrame, ::Colon)` is deprecated, use `df[:, :]` instead.\n",
      "│   caller = top-level scope at In[49]:16\n",
      "└ @ Core ./In[49]:16\n",
      "┌ Warning: `getindex(df::DataFrame, col_ind::ColumnIndex)` is deprecated, use `df[!, col_ind]` instead.\n",
      "│   caller = top-level scope at In[49]:16\n",
      "└ @ Core ./In[49]:16\n"
     ]
    },
    {
     "data": {
      "text/html": [
       "<table class=\"data-frame\"><thead><tr><th></th><th>o_lat</th><th>o_lon</th><th>d_lat</th><th>d_lon</th></tr><tr><th></th><th>Any</th><th>Any</th><th>Any</th><th>Any</th></tr></thead><tbody><p>452 rows × 4 columns</p><tr><th>1</th><td>19.4334</td><td>-99.1374</td><td>19.4129</td><td>-99.1195</td></tr><tr><th>2</th><td>19.4334</td><td>-99.1374</td><td>19.4363</td><td>-99.1163</td></tr><tr><th>3</th><td>19.4334</td><td>-99.1374</td><td>19.4526</td><td>-99.1352</td></tr><tr><th>4</th><td>19.4334</td><td>-99.1374</td><td>19.4428</td><td>-99.1583</td></tr><tr><th>5</th><td>19.4334</td><td>-99.1374</td><td>19.4114</td><td>-99.1683</td></tr><tr><th>6</th><td>19.4334</td><td>-99.1374</td><td>19.4145</td><td>-99.1448</td></tr><tr><th>7</th><td>19.4428</td><td>-99.1583</td><td>19.4334</td><td>-99.1374</td></tr><tr><th>8</th><td>19.4428</td><td>-99.1583</td><td>19.4526</td><td>-99.1352</td></tr><tr><th>9</th><td>19.4428</td><td>-99.1583</td><td>19.4901</td><td>-99.139</td></tr><tr><th>10</th><td>19.4428</td><td>-99.1583</td><td>19.4302</td><td>-99.1927</td></tr><tr><th>11</th><td>19.4428</td><td>-99.1583</td><td>19.4584</td><td>-99.1683</td></tr><tr><th>12</th><td>19.4428</td><td>-99.1583</td><td>19.4114</td><td>-99.1683</td></tr><tr><th>13</th><td>19.4428</td><td>-99.1583</td><td>19.4145</td><td>-99.1448</td></tr><tr><th>14</th><td>19.4526</td><td>-99.1352</td><td>19.4363</td><td>-99.1163</td></tr><tr><th>15</th><td>19.4526</td><td>-99.1352</td><td>19.4334</td><td>-99.1374</td></tr><tr><th>16</th><td>19.4526</td><td>-99.1352</td><td>19.4673</td><td>-99.107</td></tr><tr><th>17</th><td>19.4526</td><td>-99.1352</td><td>19.4748</td><td>-99.1241</td></tr><tr><th>18</th><td>19.4526</td><td>-99.1352</td><td>19.4901</td><td>-99.139</td></tr><tr><th>19</th><td>19.4526</td><td>-99.1352</td><td>19.4584</td><td>-99.1683</td></tr><tr><th>20</th><td>19.4526</td><td>-99.1352</td><td>19.4428</td><td>-99.1583</td></tr><tr><th>21</th><td>19.4363</td><td>-99.1163</td><td>19.4129</td><td>-99.1195</td></tr><tr><th>22</th><td>19.4363</td><td>-99.1163</td><td>19.415</td><td>-99.0873</td></tr><tr><th>23</th><td>19.4363</td><td>-99.1163</td><td>19.4375</td><td>-99.1006</td></tr><tr><th>24</th><td>19.4363</td><td>-99.1163</td><td>19.4334</td><td>-99.1374</td></tr><tr><th>25</th><td>19.4363</td><td>-99.1163</td><td>19.4526</td><td>-99.1352</td></tr><tr><th>26</th><td>19.4363</td><td>-99.1163</td><td>19.4673</td><td>-99.107</td></tr><tr><th>27</th><td>19.4363</td><td>-99.1163</td><td>19.4748</td><td>-99.1241</td></tr><tr><th>28</th><td>19.4375</td><td>-99.1006</td><td>19.415</td><td>-99.0873</td></tr><tr><th>29</th><td>19.4375</td><td>-99.1006</td><td>19.4363</td><td>-99.1163</td></tr><tr><th>30</th><td>19.4375</td><td>-99.1006</td><td>19.4548</td><td>-99.0768</td></tr><tr><th>&vellip;</th><td>&vellip;</td><td>&vellip;</td><td>&vellip;</td><td>&vellip;</td></tr></tbody></table>"
      ],
      "text/latex": [
       "\\begin{tabular}{r|cccc}\n",
       "\t& o\\_lat & o\\_lon & d\\_lat & d\\_lon\\\\\n",
       "\t\\hline\n",
       "\t& Any & Any & Any & Any\\\\\n",
       "\t\\hline\n",
       "\t1 & 19.4334 & -99.1374 & 19.4129 & -99.1195 \\\\\n",
       "\t2 & 19.4334 & -99.1374 & 19.4363 & -99.1163 \\\\\n",
       "\t3 & 19.4334 & -99.1374 & 19.4526 & -99.1352 \\\\\n",
       "\t4 & 19.4334 & -99.1374 & 19.4428 & -99.1583 \\\\\n",
       "\t5 & 19.4334 & -99.1374 & 19.4114 & -99.1683 \\\\\n",
       "\t6 & 19.4334 & -99.1374 & 19.4145 & -99.1448 \\\\\n",
       "\t7 & 19.4428 & -99.1583 & 19.4334 & -99.1374 \\\\\n",
       "\t8 & 19.4428 & -99.1583 & 19.4526 & -99.1352 \\\\\n",
       "\t9 & 19.4428 & -99.1583 & 19.4901 & -99.139 \\\\\n",
       "\t10 & 19.4428 & -99.1583 & 19.4302 & -99.1927 \\\\\n",
       "\t11 & 19.4428 & -99.1583 & 19.4584 & -99.1683 \\\\\n",
       "\t12 & 19.4428 & -99.1583 & 19.4114 & -99.1683 \\\\\n",
       "\t13 & 19.4428 & -99.1583 & 19.4145 & -99.1448 \\\\\n",
       "\t14 & 19.4526 & -99.1352 & 19.4363 & -99.1163 \\\\\n",
       "\t15 & 19.4526 & -99.1352 & 19.4334 & -99.1374 \\\\\n",
       "\t16 & 19.4526 & -99.1352 & 19.4673 & -99.107 \\\\\n",
       "\t17 & 19.4526 & -99.1352 & 19.4748 & -99.1241 \\\\\n",
       "\t18 & 19.4526 & -99.1352 & 19.4901 & -99.139 \\\\\n",
       "\t19 & 19.4526 & -99.1352 & 19.4584 & -99.1683 \\\\\n",
       "\t20 & 19.4526 & -99.1352 & 19.4428 & -99.1583 \\\\\n",
       "\t21 & 19.4363 & -99.1163 & 19.4129 & -99.1195 \\\\\n",
       "\t22 & 19.4363 & -99.1163 & 19.415 & -99.0873 \\\\\n",
       "\t23 & 19.4363 & -99.1163 & 19.4375 & -99.1006 \\\\\n",
       "\t24 & 19.4363 & -99.1163 & 19.4334 & -99.1374 \\\\\n",
       "\t25 & 19.4363 & -99.1163 & 19.4526 & -99.1352 \\\\\n",
       "\t26 & 19.4363 & -99.1163 & 19.4673 & -99.107 \\\\\n",
       "\t27 & 19.4363 & -99.1163 & 19.4748 & -99.1241 \\\\\n",
       "\t28 & 19.4375 & -99.1006 & 19.415 & -99.0873 \\\\\n",
       "\t29 & 19.4375 & -99.1006 & 19.4363 & -99.1163 \\\\\n",
       "\t30 & 19.4375 & -99.1006 & 19.4548 & -99.0768 \\\\\n",
       "\t$\\dots$ & $\\dots$ & $\\dots$ & $\\dots$ & $\\dots$ \\\\\n",
       "\\end{tabular}\n"
      ],
      "text/plain": [
       "452×4 DataFrame\n",
       "│ Row │ o_lat   │ o_lon    │ d_lat   │ d_lon    │\n",
       "│     │ \u001b[90mAny\u001b[39m     │ \u001b[90mAny\u001b[39m      │ \u001b[90mAny\u001b[39m     │ \u001b[90mAny\u001b[39m      │\n",
       "├─────┼─────────┼──────────┼─────────┼──────────┤\n",
       "│ 1   │ 19.4334 │ -99.1374 │ 19.4129 │ -99.1195 │\n",
       "│ 2   │ 19.4334 │ -99.1374 │ 19.4363 │ -99.1163 │\n",
       "│ 3   │ 19.4334 │ -99.1374 │ 19.4526 │ -99.1352 │\n",
       "│ 4   │ 19.4334 │ -99.1374 │ 19.4428 │ -99.1583 │\n",
       "│ 5   │ 19.4334 │ -99.1374 │ 19.4114 │ -99.1683 │\n",
       "│ 6   │ 19.4334 │ -99.1374 │ 19.4145 │ -99.1448 │\n",
       "│ 7   │ 19.4428 │ -99.1583 │ 19.4334 │ -99.1374 │\n",
       "│ 8   │ 19.4428 │ -99.1583 │ 19.4526 │ -99.1352 │\n",
       "│ 9   │ 19.4428 │ -99.1583 │ 19.4901 │ -99.139  │\n",
       "│ 10  │ 19.4428 │ -99.1583 │ 19.4302 │ -99.1927 │\n",
       "⋮\n",
       "│ 442 │ 19.3537 │ -99.0393 │ 19.3613 │ -99.0696 │\n",
       "│ 443 │ 19.3537 │ -99.0393 │ 19.3312 │ -99.0279 │\n",
       "│ 444 │ 19.3537 │ -99.0393 │ 19.3373 │ -99.0058 │\n",
       "│ 445 │ 19.3537 │ -99.0393 │ 19.3331 │ -99.047  │\n",
       "│ 446 │ 19.3798 │ -99.0501 │ 19.3782 │ -99.0184 │\n",
       "│ 447 │ 19.3798 │ -99.0501 │ 19.3685 │ -99.0224 │\n",
       "│ 448 │ 19.3798 │ -99.0501 │ 19.3613 │ -99.0696 │\n",
       "│ 449 │ 19.3798 │ -99.0501 │ 19.38   │ -99.0854 │\n",
       "│ 450 │ 19.3798 │ -99.0501 │ 19.3973 │ -99.0777 │\n",
       "│ 451 │ 19.3798 │ -99.0501 │ 19.4194 │ -99.0632 │\n",
       "│ 452 │ 19.3798 │ -99.0501 │ 19.3537 │ -99.0393 │"
      ]
     },
     "execution_count": 12,
     "metadata": {},
     "output_type": "execute_result"
    }
   ],
   "source": [
    "constricted_pairs_df = CSV.File(\"cdmx_distritos/vecinos_expand.csv\") |> DataFrame\n",
    "\n",
    "connected_pairs = Array{Int64}(undef, length(constricted_pairs_df[:][1]), 2)\n",
    "\n",
    "for ci in 1:2\n",
    "    c = coalesce.(constricted_pairs_df[:][ci], 0)\n",
    "    for ri in 1:length(c) \n",
    "        connected_pairs[ri,ci] = c[ri]\n",
    "    end \n",
    "end\n",
    "\n",
    "olat = []\n",
    "olon = []\n",
    "dlat = []\n",
    "dlon = []\n",
    "\n",
    "for i in 1:length(constricted_pairs_df[:][1])\n",
    "    index_o = connected_pairs[i,1]\n",
    "    index_d = connected_pairs[i,2]\n",
    "    push!(olat, centroid_array[index_o,1])\n",
    "    push!(olon, centroid_array[index_o,2])\n",
    "    push!(dlat, centroid_array[index_d,1])\n",
    "    push!(dlon, centroid_array[index_d,2])\n",
    "end\n",
    "\n",
    "OD_constricted_df = DataFrame(o_lat = olat, o_lon = olon, d_lat = dlat, d_lon = dlon) "
   ]
  },
  {
   "cell_type": "code",
   "execution_count": 13,
   "metadata": {
    "kernel": "Julia"
   },
   "outputs": [
    {
     "data": {
      "text/plain": [
       "\"coordenadas_graf.csv\""
      ]
     },
     "execution_count": 13,
     "metadata": {},
     "output_type": "execute_result"
    }
   ],
   "source": [
    "CSV.write(\"coordenadas_graf.csv\",OD_constricted_df;delim=\",\")"
   ]
  },
  {
   "cell_type": "markdown",
   "metadata": {
    "kernel": "Python3"
   },
   "source": [
    "Then I will plot everything to see that it is in fact correct"
   ]
  },
  {
   "cell_type": "code",
   "execution_count": 14,
   "metadata": {
    "kernel": "Python3"
   },
   "outputs": [],
   "source": [
    "data_dots = read_csv('cdmx_distritos/cdmx_centroides_trim.csv')\n",
    "data_graph = read_csv('coordenadas_graf.csv')\n",
    "geoplotlib.shapefiles('cdmx_distritos/O-D_2017',color=[0,0,255],linewidth=1)\n",
    "geoplotlib.set_smoothing(True)\n",
    "geoplotlib.dot(data_dots, point_size = 3)\n",
    "geoplotlib.graph(data_graph,'o_lat','o_lon','d_lat','d_lon',linewidth=2,color='Dark2')\n",
    "geoplotlib.set_smoothing(True)\n",
    "geoplotlib.set_bbox(BoundingBox.CDMX)\n",
    "geoplotlib.show()"
   ]
  },
  {
   "cell_type": "markdown",
   "metadata": {
    "kernel": "Julia"
   },
   "source": [
    "The next step is to modify the weight matrix so that the forbidden connections weight infinite."
   ]
  },
  {
   "cell_type": "code",
   "execution_count": 15,
   "metadata": {
    "kernel": "Julia"
   },
   "outputs": [
    {
     "name": "stderr",
     "output_type": "stream",
     "text": [
      "┌ Warning: `getindex(df::DataFrame, ::Colon)` is deprecated, use `df[:, :]` instead.\n",
      "│   caller = top-level scope at In[61]:2\n",
      "└ @ Core ./In[61]:2\n",
      "┌ Warning: `getindex(df::DataFrame, col_ind::ColumnIndex)` is deprecated, use `df[!, col_ind]` instead.\n",
      "│   caller = top-level scope at In[61]:2\n",
      "└ @ Core ./In[61]:2\n"
     ]
    },
    {
     "data": {
      "text/plain": [
       "85×85 Array{Float64,2}:\n",
       "   0.0          0.0534676    0.0450708  …  Inf          Inf        \n",
       "   0.053412     0.0          0.0580598     Inf          Inf        \n",
       "   0.0451393    0.0580585    0.0           Inf          Inf        \n",
       "   0.0498584  Inf            0.058902      Inf          Inf        \n",
       " Inf          Inf          Inf             Inf          Inf        \n",
       "   0.0636352  Inf          Inf          …  Inf          Inf        \n",
       "   0.0475708    0.0739653  Inf             Inf          Inf        \n",
       "   0.0888799    0.0762349  Inf             Inf          Inf        \n",
       " Inf          Inf          Inf             Inf          Inf        \n",
       " Inf          Inf          Inf             Inf          Inf        \n",
       " Inf          Inf          Inf          …  Inf          Inf        \n",
       " Inf          Inf          Inf             Inf          Inf        \n",
       " Inf          Inf          Inf             Inf          Inf        \n",
       "   ⋮                                    ⋱                          \n",
       " Inf          Inf          Inf             Inf          Inf        \n",
       " Inf          Inf          Inf             Inf          Inf        \n",
       " Inf          Inf          Inf          …  Inf          Inf        \n",
       " Inf          Inf          Inf             Inf          Inf        \n",
       " Inf          Inf          Inf               0.0516981  Inf        \n",
       " Inf          Inf          Inf               0.058758   Inf        \n",
       " Inf          Inf          Inf               0.0880413  Inf        \n",
       " Inf          Inf          Inf          …  Inf          Inf        \n",
       " Inf          Inf          Inf             Inf            0.0778514\n",
       " Inf          Inf          Inf               0.052879     0.0705757\n",
       " Inf          Inf          Inf               0.0          0.0666507\n",
       " Inf          Inf          Inf               0.0667033    0.0      "
      ]
     },
     "execution_count": 15,
     "metadata": {},
     "output_type": "execute_result"
    }
   ],
   "source": [
    "total_constricted_weight = fill(Inf,(85,85))\n",
    "\n",
    "for i in 1:length(constricted_pairs_df[:][1])\n",
    "    index_o = connected_pairs[i,1]\n",
    "    index_d = connected_pairs[i,2]\n",
    "    total_constricted_weight[index_o,index_d] = total_weight[index_o,index_d]\n",
    "end\n",
    "\n",
    "for i in 1:85\n",
    "    total_constricted_weight[i,i] = 0\n",
    "end\n",
    "\n",
    "total_constricted_weight"
   ]
  },
  {
   "cell_type": "markdown",
   "metadata": {
    "kernel": "Julia"
   },
   "source": [
    "And that is the weight matrix of a complete graph representing all the possible connections in the city."
   ]
  },
  {
   "cell_type": "markdown",
   "metadata": {
    "kernel": "Julia"
   },
   "source": [
    "## Example calculation of the shortest path tree"
   ]
  },
  {
   "cell_type": "markdown",
   "metadata": {
    "kernel": "Julia"
   },
   "source": [
    "This is an example calcuation using LightGraphs, of the tree with node 71 (milpa alta) as the source node. The shortest path in this case must be understood as the **path that is used by the most people in each vertex and connects the nearest neigboring nodes**. "
   ]
  },
  {
   "cell_type": "code",
   "execution_count": 21,
   "metadata": {
    "kernel": "Julia"
   },
   "outputs": [
    {
     "data": {
      "text/html": [
       "<table class=\"data-frame\"><thead><tr><th></th><th>o_lat</th><th>o_lon</th><th>d_lat</th><th>d_lon</th></tr><tr><th></th><th>Any</th><th>Any</th><th>Any</th><th>Any</th></tr></thead><tbody><p>85 rows × 4 columns</p><tr><th>1</th><td>19.4334</td><td>-99.1374</td><td>19.4114</td><td>-99.1683</td></tr><tr><th>2</th><td>19.4428</td><td>-99.1583</td><td>19.4114</td><td>-99.1683</td></tr><tr><th>3</th><td>19.4526</td><td>-99.1352</td><td>19.4334</td><td>-99.1374</td></tr><tr><th>4</th><td>19.4363</td><td>-99.1163</td><td>19.4334</td><td>-99.1374</td></tr><tr><th>5</th><td>19.4375</td><td>-99.1006</td><td>19.4363</td><td>-99.1163</td></tr><tr><th>6</th><td>19.4129</td><td>-99.1195</td><td>19.4145</td><td>-99.1448</td></tr><tr><th>7</th><td>19.4145</td><td>-99.1448</td><td>19.4114</td><td>-99.1683</td></tr><tr><th>8</th><td>19.4114</td><td>-99.1683</td><td>19.1395</td><td>-99.0511</td></tr><tr><th>9</th><td>19.3934</td><td>-99.1724</td><td>19.4114</td><td>-99.1683</td></tr><tr><th>10</th><td>19.394</td><td>-99.1469</td><td>19.4114</td><td>-99.1683</td></tr><tr><th>11</th><td>19.3916</td><td>-99.1304</td><td>19.394</td><td>-99.1469</td></tr><tr><th>12</th><td>19.3947</td><td>-99.1107</td><td>19.3916</td><td>-99.1304</td></tr><tr><th>13</th><td>19.3722</td><td>-99.1257</td><td>19.394</td><td>-99.1469</td></tr><tr><th>14</th><td>19.3699</td><td>-99.1535</td><td>19.394</td><td>-99.1469</td></tr><tr><th>15</th><td>19.3756</td><td>-99.1759</td><td>19.3934</td><td>-99.1724</td></tr><tr><th>16</th><td>19.4302</td><td>-99.1927</td><td>19.4114</td><td>-99.1683</td></tr><tr><th>17</th><td>19.4613</td><td>-99.1987</td><td>19.4302</td><td>-99.1927</td></tr><tr><th>18</th><td>19.4865</td><td>-99.2075</td><td>19.4613</td><td>-99.1987</td></tr><tr><th>19</th><td>19.5009</td><td>-99.1909</td><td>19.4613</td><td>-99.1987</td></tr><tr><th>20</th><td>19.4832</td><td>-99.1702</td><td>19.4584</td><td>-99.1683</td></tr><tr><th>21</th><td>19.4584</td><td>-99.1683</td><td>19.4428</td><td>-99.1583</td></tr><tr><th>22</th><td>19.5684</td><td>-99.1304</td><td>19.5386</td><td>-99.1314</td></tr><tr><th>23</th><td>19.5389</td><td>-99.1492</td><td>19.513</td><td>-99.141</td></tr><tr><th>24</th><td>19.5386</td><td>-99.1314</td><td>19.513</td><td>-99.141</td></tr><tr><th>25</th><td>19.513</td><td>-99.141</td><td>19.4901</td><td>-99.139</td></tr><tr><th>26</th><td>19.4901</td><td>-99.139</td><td>19.4428</td><td>-99.1583</td></tr><tr><th>27</th><td>19.498</td><td>-99.1064</td><td>19.4748</td><td>-99.1241</td></tr><tr><th>28</th><td>19.4748</td><td>-99.1241</td><td>19.4526</td><td>-99.1352</td></tr><tr><th>29</th><td>19.4932</td><td>-99.0921</td><td>19.4673</td><td>-99.107</td></tr><tr><th>30</th><td>19.4911</td><td>-99.0757</td><td>19.4932</td><td>-99.0921</td></tr><tr><th>&vellip;</th><td>&vellip;</td><td>&vellip;</td><td>&vellip;</td><td>&vellip;</td></tr></tbody></table>"
      ],
      "text/latex": [
       "\\begin{tabular}{r|cccc}\n",
       "\t& o\\_lat & o\\_lon & d\\_lat & d\\_lon\\\\\n",
       "\t\\hline\n",
       "\t& Any & Any & Any & Any\\\\\n",
       "\t\\hline\n",
       "\t1 & 19.4334 & -99.1374 & 19.4114 & -99.1683 \\\\\n",
       "\t2 & 19.4428 & -99.1583 & 19.4114 & -99.1683 \\\\\n",
       "\t3 & 19.4526 & -99.1352 & 19.4334 & -99.1374 \\\\\n",
       "\t4 & 19.4363 & -99.1163 & 19.4334 & -99.1374 \\\\\n",
       "\t5 & 19.4375 & -99.1006 & 19.4363 & -99.1163 \\\\\n",
       "\t6 & 19.4129 & -99.1195 & 19.4145 & -99.1448 \\\\\n",
       "\t7 & 19.4145 & -99.1448 & 19.4114 & -99.1683 \\\\\n",
       "\t8 & 19.4114 & -99.1683 & 19.1395 & -99.0511 \\\\\n",
       "\t9 & 19.3934 & -99.1724 & 19.4114 & -99.1683 \\\\\n",
       "\t10 & 19.394 & -99.1469 & 19.4114 & -99.1683 \\\\\n",
       "\t11 & 19.3916 & -99.1304 & 19.394 & -99.1469 \\\\\n",
       "\t12 & 19.3947 & -99.1107 & 19.3916 & -99.1304 \\\\\n",
       "\t13 & 19.3722 & -99.1257 & 19.394 & -99.1469 \\\\\n",
       "\t14 & 19.3699 & -99.1535 & 19.394 & -99.1469 \\\\\n",
       "\t15 & 19.3756 & -99.1759 & 19.3934 & -99.1724 \\\\\n",
       "\t16 & 19.4302 & -99.1927 & 19.4114 & -99.1683 \\\\\n",
       "\t17 & 19.4613 & -99.1987 & 19.4302 & -99.1927 \\\\\n",
       "\t18 & 19.4865 & -99.2075 & 19.4613 & -99.1987 \\\\\n",
       "\t19 & 19.5009 & -99.1909 & 19.4613 & -99.1987 \\\\\n",
       "\t20 & 19.4832 & -99.1702 & 19.4584 & -99.1683 \\\\\n",
       "\t21 & 19.4584 & -99.1683 & 19.4428 & -99.1583 \\\\\n",
       "\t22 & 19.5684 & -99.1304 & 19.5386 & -99.1314 \\\\\n",
       "\t23 & 19.5389 & -99.1492 & 19.513 & -99.141 \\\\\n",
       "\t24 & 19.5386 & -99.1314 & 19.513 & -99.141 \\\\\n",
       "\t25 & 19.513 & -99.141 & 19.4901 & -99.139 \\\\\n",
       "\t26 & 19.4901 & -99.139 & 19.4428 & -99.1583 \\\\\n",
       "\t27 & 19.498 & -99.1064 & 19.4748 & -99.1241 \\\\\n",
       "\t28 & 19.4748 & -99.1241 & 19.4526 & -99.1352 \\\\\n",
       "\t29 & 19.4932 & -99.0921 & 19.4673 & -99.107 \\\\\n",
       "\t30 & 19.4911 & -99.0757 & 19.4932 & -99.0921 \\\\\n",
       "\t$\\dots$ & $\\dots$ & $\\dots$ & $\\dots$ & $\\dots$ \\\\\n",
       "\\end{tabular}\n"
      ],
      "text/plain": [
       "85×4 DataFrame\n",
       "│ Row │ o_lat   │ o_lon    │ d_lat   │ d_lon    │\n",
       "│     │ \u001b[90mAny\u001b[39m     │ \u001b[90mAny\u001b[39m      │ \u001b[90mAny\u001b[39m     │ \u001b[90mAny\u001b[39m      │\n",
       "├─────┼─────────┼──────────┼─────────┼──────────┤\n",
       "│ 1   │ 19.4334 │ -99.1374 │ 19.4114 │ -99.1683 │\n",
       "│ 2   │ 19.4428 │ -99.1583 │ 19.4114 │ -99.1683 │\n",
       "│ 3   │ 19.4526 │ -99.1352 │ 19.4334 │ -99.1374 │\n",
       "│ 4   │ 19.4363 │ -99.1163 │ 19.4334 │ -99.1374 │\n",
       "│ 5   │ 19.4375 │ -99.1006 │ 19.4363 │ -99.1163 │\n",
       "│ 6   │ 19.4129 │ -99.1195 │ 19.4145 │ -99.1448 │\n",
       "│ 7   │ 19.4145 │ -99.1448 │ 19.4114 │ -99.1683 │\n",
       "│ 8   │ 19.4114 │ -99.1683 │ 19.1395 │ -99.0511 │\n",
       "│ 9   │ 19.3934 │ -99.1724 │ 19.4114 │ -99.1683 │\n",
       "│ 10  │ 19.394  │ -99.1469 │ 19.4114 │ -99.1683 │\n",
       "⋮\n",
       "│ 75  │ 19.2502 │ -98.9896 │ 19.3014 │ -99.0283 │\n",
       "│ 76  │ 19.3014 │ -99.0283 │ 19.319  │ -99.0597 │\n",
       "│ 77  │ 19.319  │ -99.0597 │ 19.33   │ -99.0807 │\n",
       "│ 78  │ 19.3331 │ -99.047  │ 19.3448 │ -99.0909 │\n",
       "│ 79  │ 19.3312 │ -99.0279 │ 19.3331 │ -99.047  │\n",
       "│ 80  │ 19.3373 │ -99.0058 │ 19.3537 │ -99.0393 │\n",
       "│ 81  │ 19.3169 │ -98.9917 │ 19.3373 │ -99.0058 │\n",
       "│ 82  │ 19.3782 │ -99.0184 │ 19.3798 │ -99.0501 │\n",
       "│ 83  │ 19.3685 │ -99.0224 │ 19.3798 │ -99.0501 │\n",
       "│ 84  │ 19.3537 │ -99.0393 │ 19.3613 │ -99.0696 │\n",
       "│ 85  │ 19.3798 │ -99.0501 │ 19.38   │ -99.0854 │"
      ]
     },
     "execution_count": 21,
     "metadata": {},
     "output_type": "execute_result"
    }
   ],
   "source": [
    "using LightGraphs\n",
    "\n",
    "ds = dijkstra_shortest_paths(complete_digraph(85), 8, total_constricted_weight)\n",
    "\n",
    "test_d = ds.parents\n",
    "\n",
    "olat71 = []\n",
    "olon71 = []\n",
    "dlat71 = []\n",
    "dlon71 = []\n",
    "\n",
    "for i in 1:85\n",
    "    index_d = test_d[i]\n",
    "    push!(olat71, centroid_array[i,1])\n",
    "    push!(olon71, centroid_array[i,2])\n",
    "    if index_d != 0\n",
    "        push!(dlat71, centroid_array[index_d,1])\n",
    "        push!(dlon71, centroid_array[index_d,2])\n",
    "    else\n",
    "        push!(dlat71, centroid_array[71,1])\n",
    "        push!(dlon71, centroid_array[71,2])\n",
    "    end\n",
    "end\n",
    "\n",
    "shortest_path_tree_71 = DataFrame(o_lat = olat71, o_lon = olon71, d_lat = dlat71, d_lon = dlon71)"
   ]
  },
  {
   "cell_type": "code",
   "execution_count": 22,
   "metadata": {
    "kernel": "Julia"
   },
   "outputs": [
    {
     "data": {
      "text/plain": [
       "\"spt_71.csv\""
      ]
     },
     "execution_count": 22,
     "metadata": {},
     "output_type": "execute_result"
    }
   ],
   "source": [
    "CSV.write(\"spt_71.csv\",shortest_path_tree_71;delim=\",\")"
   ]
  },
  {
   "cell_type": "code",
   "execution_count": 23,
   "metadata": {
    "kernel": "Python3"
   },
   "outputs": [],
   "source": [
    "data_dots = read_csv('cdmx_distritos/cdmx_centroides_trim.csv')\n",
    "data_graph = read_csv('spt_71.csv')\n",
    "geoplotlib.shapefiles('cdmx_distritos/O-D_2017',color=[0,0,255],linewidth=1)\n",
    "geoplotlib.set_smoothing(True)\n",
    "geoplotlib.dot(data_dots, point_size = 3)\n",
    "geoplotlib.graph(data_graph,'o_lat','o_lon','d_lat','d_lon',linewidth=2,color='Dark2')\n",
    "geoplotlib.set_smoothing(True)\n",
    "geoplotlib.set_bbox(BoundingBox.CDMX)\n",
    "geoplotlib.show()"
   ]
  },
  {
   "cell_type": "markdown",
   "metadata": {
    "kernel": "SoS"
   },
   "source": [
    "A second example is developed below using only the weight term associated with the number of users trough a path. The shortest path in this case must be understood as the **path that is used by the most people in each vertex**."
   ]
  },
  {
   "cell_type": "code",
   "execution_count": 24,
   "metadata": {
    "kernel": "Julia"
   },
   "outputs": [
    {
     "name": "stderr",
     "output_type": "stream",
     "text": [
      "┌ Warning: `getindex(df::DataFrame, ::Colon)` is deprecated, use `df[:, :]` instead.\n",
      "│   caller = top-level scope at In[97]:2\n",
      "└ @ Core ./In[97]:2\n",
      "┌ Warning: `getindex(df::DataFrame, col_ind::ColumnIndex)` is deprecated, use `df[!, col_ind]` instead.\n",
      "│   caller = top-level scope at In[97]:2\n",
      "└ @ Core ./In[97]:2\n"
     ]
    },
    {
     "data": {
      "text/plain": [
       "\"uspt_71.csv\""
      ]
     },
     "execution_count": 24,
     "metadata": {},
     "output_type": "execute_result"
    }
   ],
   "source": [
    "users_constricted_weight = fill(Inf,(85,85))\n",
    "\n",
    "for i in 1:length(constricted_pairs_df[:][1])\n",
    "    index_o = connected_pairs[i,1]\n",
    "    index_d = connected_pairs[i,2]\n",
    "    users_constricted_weight[index_o,index_d] = weight₁[index_o,index_d]\n",
    "end\n",
    "\n",
    "for i in 1:85\n",
    "    users_constricted_weight[i,i] = 0\n",
    "end\n",
    "\n",
    "ds = dijkstra_shortest_paths(complete_digraph(85), 8, users_constricted_weight)\n",
    "\n",
    "test_d = ds.parents\n",
    "\n",
    "olat71 = []\n",
    "olon71 = []\n",
    "dlat71 = []\n",
    "dlon71 = []\n",
    "\n",
    "for i in 1:85\n",
    "    index_d = test_d[i]\n",
    "    push!(olat71, centroid_array[i,1])\n",
    "    push!(olon71, centroid_array[i,2])\n",
    "    if index_d != 0\n",
    "        push!(dlat71, centroid_array[index_d,1])\n",
    "        push!(dlon71, centroid_array[index_d,2])\n",
    "    else\n",
    "        push!(dlat71, centroid_array[71,1])\n",
    "        push!(dlon71, centroid_array[71,2])\n",
    "    end\n",
    "end\n",
    "\n",
    "users_shortest_path_tree_71 = DataFrame(o_lat = olat71, o_lon = olon71, d_lat = dlat71, d_lon = dlon71)\n",
    "CSV.write(\"uspt_71.csv\",users_shortest_path_tree_71;delim=\",\")"
   ]
  },
  {
   "cell_type": "code",
   "execution_count": 25,
   "metadata": {
    "kernel": "Python3"
   },
   "outputs": [],
   "source": [
    "%with python3\n",
    "data_dots = read_csv('cdmx_distritos/cdmx_centroides_trim.csv')\n",
    "data_graph = read_csv('uspt_71.csv')\n",
    "geoplotlib.shapefiles('cdmx_distritos/O-D_2017',color=[0,0,255],linewidth=1)\n",
    "geoplotlib.set_smoothing(True)\n",
    "geoplotlib.dot(data_dots, point_size = 3)\n",
    "geoplotlib.graph(data_graph,'o_lat','o_lon','d_lat','d_lon',linewidth=2,color='Dark2')\n",
    "geoplotlib.set_smoothing(True)\n",
    "geoplotlib.set_bbox(BoundingBox.CDMX)\n",
    "geoplotlib.show()"
   ]
  },
  {
   "cell_type": "markdown",
   "metadata": {
    "kernel": "Python3"
   },
   "source": [
    "## Comparison of two examples"
   ]
  },
  {
   "cell_type": "markdown",
   "metadata": {
    "kernel": "Python3"
   },
   "source": [
    "<table>\n",
    "<tr>\n",
    "<td><h3> Shortest path using total weight </h3></td>\n",
    "<td><h3> Shortest path using number of users </h3></td>\n",
    "</tr>\n",
    "<tr>\n",
    "<td> <img src=\"spt_71.png\" style=\"width: 450px;\"/> </td>\n",
    "<td> <img src=\"uspt_71.png\" style=\"width: 450px;\"/> </td>\n",
    "</tr></table>"
   ]
  }
 ],
 "metadata": {
  "@webio": {
   "lastCommId": null,
   "lastKernelId": null
  },
  "hide_input": false,
  "kernelspec": {
   "display_name": "SoS",
   "language": "sos",
   "name": "sos"
  },
  "language_info": {
   "codemirror_mode": "sos",
   "file_extension": ".sos",
   "mimetype": "text/x-sos",
   "name": "sos",
   "nbconvert_exporter": "sos_notebook.converter.SoS_Exporter",
   "pygments_lexer": "sos"
  },
  "latex_envs": {
   "LaTeX_envs_menu_present": true,
   "autoclose": false,
   "autocomplete": true,
   "bibliofile": "biblio.bib",
   "cite_by": "apalike",
   "current_citInitial": 1,
   "eqLabelWithNumbers": true,
   "eqNumInitial": 1,
   "hotkeys": {
    "equation": "Ctrl-E",
    "itemize": "Ctrl-I"
   },
   "labels_anchors": false,
   "latex_user_defs": false,
   "report_style_numbering": false,
   "user_envs_cfg": false
  },
  "sos": {
   "kernels": [
    [
     "Julia",
     "julia-1.1",
     "Julia",
     "#ebd8eb",
     ""
    ],
    [
     "Python3",
     "python3",
     "Python3",
     "#FFD91A",
     {
      "name": "ipython",
      "version": 3
     }
    ],
    [
     "SoS",
     "sos",
     "",
     "",
     "sos"
    ]
   ],
   "panel": {
    "displayed": true,
    "height": 0
   },
   "version": "0.20.2"
  },
  "toc": {
   "base_numbering": 1,
   "nav_menu": {},
   "number_sections": true,
   "sideBar": true,
   "skip_h1_title": false,
   "title_cell": "Table of Contents",
   "title_sidebar": "Contenido",
   "toc_cell": false,
   "toc_position": {},
   "toc_section_display": true,
   "toc_window_display": false
  }
 },
 "nbformat": 4,
 "nbformat_minor": 4
}
