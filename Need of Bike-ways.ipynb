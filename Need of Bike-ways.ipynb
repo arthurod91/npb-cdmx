{
 "cells": [
  {
   "cell_type": "markdown",
   "metadata": {
    "kernel": "Julia"
   },
   "source": [
    "# Calculation of the need of the bike-ways network"
   ]
  },
  {
   "cell_type": "markdown",
   "metadata": {
    "heading_collapsed": true,
    "kernel": "SoS"
   },
   "source": [
    "## Plotting the basic geographical information"
   ]
  },
  {
   "cell_type": "code",
   "execution_count": 1,
   "metadata": {
    "hidden": true,
    "kernel": "SoS"
   },
   "outputs": [],
   "source": [
    "sos_north = 19.6\n",
    "sos_west = -99.367\n",
    "sos_south = 19.2\n",
    "sos_east = -98.933"
   ]
  },
  {
   "cell_type": "code",
   "execution_count": 2,
   "metadata": {
    "hidden": true,
    "kernel": "Python3"
   },
   "outputs": [],
   "source": [
    "import geoplotlib\n",
    "from geoplotlib.utils import BoundingBox\n",
    "from geoplotlib.utils import read_csv\n",
    "\n",
    "BoundingBox.CDMX = BoundingBox(sos_north,sos_west,sos_south,sos_east)"
   ]
  },
  {
   "cell_type": "code",
   "execution_count": 3,
   "metadata": {
    "hidden": true,
    "kernel": "Python3"
   },
   "outputs": [],
   "source": [
    "data_dots = read_csv('cdmx_distritos/cdmx_centroides_trim.csv')\n",
    "geoplotlib.shapefiles('cdmx_distritos/O-D_2017',color=[0,0,255],linewidth=1)\n",
    "geoplotlib.dot(data_dots, point_size = 3)\n",
    "geoplotlib.set_smoothing(True)\n",
    "geoplotlib.set_bbox(BoundingBox.CDMX)\n",
    "geoplotlib.show()"
   ]
  },
  {
   "cell_type": "markdown",
   "metadata": {
    "hidden": true,
    "kernel": "Python3"
   },
   "source": [
    "<img src=\"gpl-cdmx-distpunt.png\" style=\"width: 350px;\">"
   ]
  },
  {
   "cell_type": "markdown",
   "metadata": {
    "heading_collapsed": true,
    "kernel": "Python3"
   },
   "source": [
    "## Computing the weights of the complete graph"
   ]
  },
  {
   "cell_type": "markdown",
   "metadata": {
    "hidden": true,
    "kernel": "SoS"
   },
   "source": [
    "***\n",
    "### Considering the number of users\n",
    "\n",
    "I will supose for this part that every user of any transportation mode is a potential future user of the bike-ways network that is our object of design. For that I will import the data from the origin-destination study to make a weighted graph, with an initial weight term as a function of the ammount of potential users that every link might have. Let's extract o-d data from the csv file into a DataFrame"
   ]
  },
  {
   "cell_type": "code",
   "execution_count": 4,
   "metadata": {
    "collapsed": true,
    "hidden": true,
    "kernel": "Julia"
   },
   "outputs": [
    {
     "data": {
      "text/html": [
       "<table class=\"data-frame\"><thead><tr><th></th><th>1 Centro Histórico                                                                </th><th>2 Buenavista-Reforma                                                              </th><th>3 Tlatelolco                                                                      </th><th>4 Morelos                                                                         </th><th>5 Moctezuma                                                                       </th><th>6 Balbuena                                                                        </th><th>7 Obrera                                                                          </th><th>8 Condesa                                                                         </th><th>9 Nápoles                                                                         </th><th>10 Vértiz Narvarte                                                                 </th><th>11 Reforma Iztaccíhuatl                                                            </th><th>12 Palacio de los Deportes                                                         </th><th>13 San Andrés Tetepilco                                                            </th><th>14 Portales                                                                        </th><th>15 Del Valle                                                                       </th><th>16 Chapultepec-Polanco                                                             </th><th>17 Panteones                                                                       </th><th>18 Tezozómoc                                                                       </th><th>19 El Rosario                                                                      </th><th>20 Industrial Vallejo                                                              </th><th>21 La Raza                                                                         </th><th>22 Cuautepec                                                                       </th><th>23 Reclusorio Norte                                                                </th><th>24 Ticomán                                                                         </th><th>25 Nueva Industrial Vallejo                                                        </th><th>26 Instituto Politécnico                                                           </th><th>27 Tepeyac                                                                         </th><th>28 La Villa                                                                        </th><th>29 Nueva Atzacoalco                                                                </th><th>30 San Felipe de Jesús                                                             </th><th>31 Deportivo los Galeana                                                           </th><th>32 Bondojito                                                                       </th><th>33 San Juan de Aragón                                                              </th><th>34 Aeropuerto                                                                      </th><th>35 Pantitlán                                                                       </th><th>36 Zaragoza                                                                        </th><th>37 UPIICSA                                                                         </th><th>38 Central de Abastos                                                              </th><th>39 UAM Iztapalapa                                                                  </th><th>40 Escuadrón 201                                                                   </th><th>41 Parque Cerro de la Estrella                                                     </th><th>42 Lomas Estrella                                                                  </th><th>43 Canal Nacional                                                                  </th><th>44 Coapa                                                                           </th><th>45 Culhuacán CTM                                                                   </th><th>46 Campestre Churubusco                                                            </th><th>47 Viveros                                                                         </th><th>48 Pedregal de Santo Domingo                                                       </th><th>49 Xotepingo                                                                       </th><th>50 Estadio Azteca                                                                  </th><th>51 Ciudad Universitaria                                                            </th><th>52 Olivar de los Padres-San Jerónimo                                               </th><th>53 Las Águilas                                                                     </th><th>54 Santa Lucia                                                                     </th><th>55 Molinos                                                                         </th><th>56 Santa Fe                                                                        </th><th>57 Observatorio                                                                    </th><th>58 Las Lomas                                                                       </th><th>59 Cuajimalpa                                                                      </th><th>60 San Lorenzo Acopilco                                                            </th><th>61 San Bartolo-San Mateo                                                           </th><th>62 Cerro del Judío                                                                 </th><th>63 La Magdalena Contreras                                                          </th><th>64 Villa Olímpica                                                                  </th><th>65 Padierna                                                                        </th><th>66 San Pedro Mártir                                                                </th><th>67 Pueblo del Ajusco                                                               </th><th>68 Tepepan                                                                         </th><th>69 Noria                                                                           </th><th>70 Nativitas                                                                       </th><th>71 Milpa Alta                                                                      </th><th>72 Tulyehualco                                                                     </th><th>73 El Molino Tezonco                                                               </th><th>74 Tláhuac                                                                         </th><th>75 Mixquic                                                                         </th><th>76 Santa Catarina                                                                  </th><th>77 Reclusorio Oriente                                                              </th><th>78 Desarrollo Urbano Quetzalcóatl                                                  </th><th>79 Buenavista Iztapalapa                                                           </th><th>80 Santa María Xalpa                                                               </th><th>81 San Miguel Teotongo                                                             </th><th>82 Santa Martha Acatitla                                                           </th><th>83 Juan Escutia                                                                    </th><th>84 Santa Cruz Meyehualco                                                           </th><th>85 Ejército Constitucionalista                                                     </th></tr><tr><th></th><th>Int64⍰</th><th>Int64⍰</th><th>Int64⍰</th><th>Int64⍰</th><th>Int64⍰</th><th>Int64⍰</th><th>Int64⍰</th><th>Int64⍰</th><th>Int64⍰</th><th>Int64⍰</th><th>Int64⍰</th><th>Int64⍰</th><th>Int64⍰</th><th>Int64⍰</th><th>Int64⍰</th><th>Int64⍰</th><th>Int64⍰</th><th>Int64⍰</th><th>Int64⍰</th><th>Int64⍰</th><th>Int64⍰</th><th>Int64⍰</th><th>Int64⍰</th><th>Int64⍰</th><th>Int64⍰</th><th>Int64⍰</th><th>Int64⍰</th><th>Int64⍰</th><th>Int64⍰</th><th>Int64⍰</th><th>Int64⍰</th><th>Int64⍰</th><th>Int64⍰</th><th>Int64⍰</th><th>Int64⍰</th><th>Int64⍰</th><th>Int64⍰</th><th>Int64⍰</th><th>Int64⍰</th><th>Int64⍰</th><th>Int64⍰</th><th>Int64⍰</th><th>Int64⍰</th><th>Int64⍰</th><th>Int64⍰</th><th>Int64⍰</th><th>Int64⍰</th><th>Int64⍰</th><th>Int64⍰</th><th>Int64⍰</th><th>Int64⍰</th><th>Int64⍰</th><th>Int64⍰</th><th>Int64⍰</th><th>Int64⍰</th><th>Int64⍰</th><th>Int64⍰</th><th>Int64⍰</th><th>Int64⍰</th><th>Int64⍰</th><th>Int64⍰</th><th>Int64⍰</th><th>Int64⍰</th><th>Int64⍰</th><th>Int64⍰</th><th>Int64⍰</th><th>Int64⍰</th><th>Int64⍰</th><th>Int64⍰</th><th>Int64⍰</th><th>Int64⍰</th><th>Int64⍰</th><th>Int64⍰</th><th>Int64⍰</th><th>Int64⍰</th><th>Int64⍰</th><th>Int64⍰</th><th>Int64⍰</th><th>Int64⍰</th><th>Int64⍰</th><th>Int64⍰</th><th>Int64⍰</th><th>Int64⍰</th><th>Int64⍰</th><th>Int64⍰</th></tr></thead><tbody><p>85 rows × 85 columns</p><tr><th>1</th><td>70895</td><td>12474</td><td>16855</td><td>10910</td><td>10448</td><td>9127</td><td>8522</td><td>5779</td><td>2432</td><td>5198</td><td>3030</td><td>7362</td><td>4769</td><td>4612</td><td>3473</td><td>5784</td><td>3754</td><td>3151</td><td>2103</td><td>3336</td><td>6252</td><td>1958</td><td>3739</td><td>2850</td><td>4600</td><td>4359</td><td>3993</td><td>2681</td><td>4043</td><td>3005</td><td>4291</td><td>4278</td><td>4346</td><td>116</td><td>5087</td><td>2918</td><td>3456</td><td>3187</td><td>2405</td><td>3460</td><td>3145</td><td>3833</td><td>3821</td><td>3320</td><td>3480</td><td>4077</td><td>4144</td><td>3804</td><td>2694</td><td>1440</td><td>1763</td><td>1621</td><td>862</td><td>1810</td><td>2921</td><td>1868</td><td>2484</td><td>1579</td><td>2471</td><td>506</td><td>1187</td><td>2537</td><td>1274</td><td>1621</td><td>2716</td><td>2668</td><td>1152</td><td>2762</td><td>3372</td><td>1919</td><td>2375</td><td>2321</td><td>2283</td><td>1442</td><td>1189</td><td>2315</td><td>4014</td><td>2323</td><td>3208</td><td>3038</td><td>1901</td><td>4170</td><td>3757</td><td>3169</td><td>2655</td></tr><tr><th>2</th><td>13314</td><td>85240</td><td>19832</td><td>4799</td><td>5988</td><td>4301</td><td>6013</td><td>13606</td><td>4832</td><td>3374</td><td>1203</td><td>2174</td><td>3886</td><td>2920</td><td>5294</td><td>10428</td><td>6550</td><td>2629</td><td>2904</td><td>4524</td><td>14298</td><td>1183</td><td>3153</td><td>1291</td><td>3410</td><td>4077</td><td>2431</td><td>5022</td><td>3266</td><td>2728</td><td>2838</td><td>2825</td><td>1318</td><td>52</td><td>3465</td><td>1816</td><td>1367</td><td>2256</td><td>1802</td><td>1823</td><td>1934</td><td>1262</td><td>1485</td><td>2756</td><td>1334</td><td>932</td><td>3368</td><td>2811</td><td>1269</td><td>851</td><td>2430</td><td>2175</td><td>2300</td><td>1756</td><td>1821</td><td>2042</td><td>2754</td><td>1920</td><td>1912</td><td>204</td><td>1010</td><td>612</td><td>869</td><td>2674</td><td>1416</td><td>1617</td><td>355</td><td>1769</td><td>783</td><td>1284</td><td>351</td><td>405</td><td>1180</td><td>823</td><td>383</td><td>339</td><td>893</td><td>1635</td><td>671</td><td>832</td><td>1164</td><td>1388</td><td>1319</td><td>1136</td><td>733</td></tr><tr><th>3</th><td>15254</td><td>19880</td><td>88186</td><td>6639</td><td>1657</td><td>898</td><td>3657</td><td>3141</td><td>684</td><td>663</td><td>219</td><td>357</td><td>592</td><td>1759</td><td>2337</td><td>4290</td><td>977</td><td>1544</td><td>1554</td><td>2553</td><td>4048</td><td>599</td><td>1093</td><td>969</td><td>2861</td><td>6597</td><td>1768</td><td>7214</td><td>2463</td><td>1431</td><td>815</td><td>2457</td><td>1385</td><td>554</td><td>484</td><td>223</td><td>284</td><td>296</td><td>331</td><td>475</td><td>675</td><td>0</td><td>130</td><td>726</td><td>1217</td><td>223</td><td>1148</td><td>999</td><td>51</td><td>210</td><td>1095</td><td>113</td><td>226</td><td>0</td><td>565</td><td>574</td><td>231</td><td>859</td><td>161</td><td>0</td><td>162</td><td>520</td><td>534</td><td>660</td><td>444</td><td>415</td><td>228</td><td>234</td><td>0</td><td>73</td><td>160</td><td>0</td><td>239</td><td>83</td><td>0</td><td>117</td><td>121</td><td>303</td><td>317</td><td>618</td><td>102</td><td>270</td><td>405</td><td>0</td><td>280</td></tr><tr><th>4</th><td>10625</td><td>4981</td><td>6734</td><td>69745</td><td>14820</td><td>17286</td><td>2510</td><td>3305</td><td>1461</td><td>448</td><td>591</td><td>2396</td><td>1507</td><td>1087</td><td>1647</td><td>1990</td><td>598</td><td>373</td><td>757</td><td>532</td><td>1495</td><td>89</td><td>230</td><td>502</td><td>928</td><td>2360</td><td>821</td><td>2121</td><td>1194</td><td>757</td><td>995</td><td>6581</td><td>3359</td><td>487</td><td>1723</td><td>2775</td><td>1976</td><td>1047</td><td>453</td><td>377</td><td>717</td><td>595</td><td>1230</td><td>1008</td><td>498</td><td>641</td><td>1446</td><td>353</td><td>253</td><td>226</td><td>1160</td><td>356</td><td>400</td><td>312</td><td>633</td><td>439</td><td>754</td><td>737</td><td>642</td><td>0</td><td>381</td><td>129</td><td>423</td><td>412</td><td>255</td><td>136</td><td>282</td><td>418</td><td>112</td><td>0</td><td>426</td><td>104</td><td>434</td><td>159</td><td>242</td><td>170</td><td>304</td><td>368</td><td>565</td><td>615</td><td>1251</td><td>1928</td><td>1335</td><td>375</td><td>763</td></tr><tr><th>5</th><td>10365</td><td>6492</td><td>1781</td><td>15412</td><td>72862</td><td>5333</td><td>1439</td><td>3107</td><td>1535</td><td>497</td><td>66</td><td>968</td><td>709</td><td>627</td><td>1864</td><td>2343</td><td>1169</td><td>576</td><td>518</td><td>634</td><td>1509</td><td>0</td><td>320</td><td>313</td><td>1389</td><td>2000</td><td>101</td><td>1286</td><td>1614</td><td>1173</td><td>1982</td><td>2963</td><td>4668</td><td>786</td><td>2231</td><td>2069</td><td>732</td><td>833</td><td>256</td><td>325</td><td>95</td><td>498</td><td>362</td><td>165</td><td>226</td><td>499</td><td>1736</td><td>162</td><td>119</td><td>507</td><td>1211</td><td>273</td><td>0</td><td>75</td><td>104</td><td>136</td><td>113</td><td>245</td><td>111</td><td>0</td><td>188</td><td>316</td><td>325</td><td>278</td><td>157</td><td>123</td><td>0</td><td>130</td><td>124</td><td>215</td><td>0</td><td>113</td><td>110</td><td>376</td><td>0</td><td>104</td><td>97</td><td>266</td><td>91</td><td>419</td><td>398</td><td>1349</td><td>1034</td><td>282</td><td>729</td></tr><tr><th>6</th><td>9106</td><td>4252</td><td>756</td><td>17654</td><td>5129</td><td>62741</td><td>4908</td><td>4374</td><td>697</td><td>3100</td><td>2276</td><td>6376</td><td>2237</td><td>1364</td><td>2864</td><td>2967</td><td>1112</td><td>607</td><td>582</td><td>265</td><td>1355</td><td>0</td><td>628</td><td>327</td><td>414</td><td>553</td><td>691</td><td>1431</td><td>1536</td><td>823</td><td>1052</td><td>2114</td><td>687</td><td>0</td><td>3574</td><td>4941</td><td>4083</td><td>1708</td><td>981</td><td>1939</td><td>1237</td><td>271</td><td>2016</td><td>1088</td><td>611</td><td>1395</td><td>1855</td><td>744</td><td>1210</td><td>404</td><td>1382</td><td>392</td><td>753</td><td>581</td><td>546</td><td>722</td><td>749</td><td>1378</td><td>696</td><td>116</td><td>102</td><td>117</td><td>516</td><td>640</td><td>456</td><td>372</td><td>0</td><td>240</td><td>405</td><td>607</td><td>546</td><td>260</td><td>125</td><td>916</td><td>429</td><td>248</td><td>577</td><td>1977</td><td>1180</td><td>757</td><td>1034</td><td>959</td><td>785</td><td>2226</td><td>1397</td></tr><tr><th>7</th><td>10101</td><td>5260</td><td>3932</td><td>2554</td><td>1439</td><td>4438</td><td>62211</td><td>9146</td><td>2829</td><td>7156</td><td>2592</td><td>2808</td><td>2237</td><td>4290</td><td>3624</td><td>2720</td><td>1092</td><td>901</td><td>945</td><td>1017</td><td>1455</td><td>588</td><td>666</td><td>339</td><td>957</td><td>986</td><td>664</td><td>801</td><td>373</td><td>309</td><td>609</td><td>1080</td><td>1145</td><td>0</td><td>1811</td><td>678</td><td>2565</td><td>646</td><td>1150</td><td>909</td><td>2108</td><td>1587</td><td>2324</td><td>966</td><td>1286</td><td>1614</td><td>1591</td><td>1214</td><td>1037</td><td>391</td><td>1371</td><td>707</td><td>1109</td><td>1058</td><td>991</td><td>1661</td><td>2071</td><td>518</td><td>1423</td><td>133</td><td>1480</td><td>1018</td><td>944</td><td>1551</td><td>891</td><td>661</td><td>145</td><td>542</td><td>599</td><td>318</td><td>411</td><td>448</td><td>982</td><td>709</td><td>704</td><td>512</td><td>2030</td><td>952</td><td>683</td><td>937</td><td>717</td><td>989</td><td>1603</td><td>1184</td><td>1142</td></tr><tr><th>8</th><td>5593</td><td>13680</td><td>3535</td><td>3473</td><td>3227</td><td>4067</td><td>8327</td><td>72322</td><td>6851</td><td>6623</td><td>1755</td><td>2586</td><td>4566</td><td>2133</td><td>11296</td><td>18271</td><td>2826</td><td>1783</td><td>2003</td><td>1530</td><td>4578</td><td>575</td><td>1980</td><td>572</td><td>1695</td><td>1714</td><td>560</td><td>1357</td><td>723</td><td>1306</td><td>1825</td><td>652</td><td>2338</td><td>128</td><td>3051</td><td>836</td><td>1874</td><td>2236</td><td>1671</td><td>675</td><td>1278</td><td>1244</td><td>1797</td><td>2146</td><td>1697</td><td>2151</td><td>5118</td><td>1747</td><td>1233</td><td>897</td><td>2871</td><td>2793</td><td>2013</td><td>1782</td><td>3171</td><td>2188</td><td>5115</td><td>3773</td><td>2472</td><td>293</td><td>1517</td><td>1121</td><td>2003</td><td>2966</td><td>1144</td><td>1719</td><td>627</td><td>1788</td><td>1034</td><td>628</td><td>333</td><td>482</td><td>843</td><td>711</td><td>330</td><td>658</td><td>840</td><td>1374</td><td>821</td><td>839</td><td>527</td><td>1137</td><td>703</td><td>831</td><td>1749</td></tr><tr><th>9</th><td>2552</td><td>5185</td><td>615</td><td>1320</td><td>1654</td><td>869</td><td>3148</td><td>6515</td><td>28015</td><td>6068</td><td>1089</td><td>1528</td><td>1639</td><td>3191</td><td>15514</td><td>7956</td><td>757</td><td>434</td><td>280</td><td>1490</td><td>1651</td><td>250</td><td>692</td><td>314</td><td>1116</td><td>629</td><td>329</td><td>1685</td><td>1243</td><td>740</td><td>282</td><td>207</td><td>1169</td><td>162</td><td>1517</td><td>760</td><td>1797</td><td>959</td><td>805</td><td>715</td><td>308</td><td>944</td><td>1009</td><td>2101</td><td>2747</td><td>1888</td><td>3886</td><td>1495</td><td>1655</td><td>623</td><td>2975</td><td>1302</td><td>3659</td><td>3575</td><td>2128</td><td>4974</td><td>3030</td><td>3201</td><td>1635</td><td>151</td><td>767</td><td>716</td><td>1886</td><td>1845</td><td>1218</td><td>401</td><td>108</td><td>1356</td><td>325</td><td>732</td><td>318</td><td>324</td><td>76</td><td>454</td><td>226</td><td>386</td><td>683</td><td>1108</td><td>0</td><td>416</td><td>357</td><td>0</td><td>348</td><td>627</td><td>656</td></tr><tr><th>10</th><td>5832</td><td>3674</td><td>663</td><td>892</td><td>602</td><td>3574</td><td>7217</td><td>5910</td><td>5792</td><td>31231</td><td>2775</td><td>2698</td><td>3497</td><td>6743</td><td>8131</td><td>2906</td><td>888</td><td>96</td><td>0</td><td>732</td><td>920</td><td>0</td><td>435</td><td>237</td><td>596</td><td>844</td><td>157</td><td>1048</td><td>190</td><td>361</td><td>199</td><td>92</td><td>422</td><td>402</td><td>778</td><td>757</td><td>1336</td><td>922</td><td>711</td><td>881</td><td>407</td><td>1124</td><td>712</td><td>1212</td><td>2290</td><td>1197</td><td>2733</td><td>267</td><td>1225</td><td>739</td><td>1681</td><td>598</td><td>1124</td><td>744</td><td>765</td><td>362</td><td>469</td><td>807</td><td>619</td><td>0</td><td>75</td><td>232</td><td>850</td><td>1385</td><td>376</td><td>318</td><td>327</td><td>230</td><td>539</td><td>420</td><td>632</td><td>646</td><td>484</td><td>232</td><td>373</td><td>183</td><td>221</td><td>368</td><td>416</td><td>199</td><td>363</td><td>357</td><td>304</td><td>621</td><td>1629</td></tr><tr><th>11</th><td>2757</td><td>1300</td><td>270</td><td>859</td><td>125</td><td>2304</td><td>2248</td><td>1689</td><td>993</td><td>2754</td><td>24681</td><td>6315</td><td>4211</td><td>3364</td><td>4560</td><td>2636</td><td>154</td><td>0</td><td>139</td><td>747</td><td>551</td><td>0</td><td>136</td><td>0</td><td>0</td><td>328</td><td>185</td><td>388</td><td>248</td><td>82</td><td>164</td><td>294</td><td>118</td><td>135</td><td>542</td><td>201</td><td>358</td><td>1262</td><td>603</td><td>816</td><td>684</td><td>455</td><td>383</td><td>638</td><td>927</td><td>793</td><td>1819</td><td>334</td><td>454</td><td>293</td><td>1194</td><td>133</td><td>467</td><td>178</td><td>652</td><td>29</td><td>244</td><td>435</td><td>776</td><td>24</td><td>137</td><td>126</td><td>462</td><td>895</td><td>0</td><td>0</td><td>78</td><td>236</td><td>169</td><td>282</td><td>0</td><td>348</td><td>660</td><td>78</td><td>0</td><td>180</td><td>411</td><td>181</td><td>192</td><td>425</td><td>0</td><td>245</td><td>120</td><td>289</td><td>457</td></tr><tr><th>12</th><td>6788</td><td>2468</td><td>357</td><td>2137</td><td>1250</td><td>6443</td><td>2736</td><td>2573</td><td>1258</td><td>2785</td><td>6695</td><td>86794</td><td>8659</td><td>2652</td><td>3220</td><td>1785</td><td>403</td><td>0</td><td>346</td><td>436</td><td>1182</td><td>0</td><td>146</td><td>0</td><td>272</td><td>1342</td><td>367</td><td>234</td><td>103</td><td>227</td><td>242</td><td>1112</td><td>1019</td><td>234</td><td>1424</td><td>751</td><td>7195</td><td>11114</td><td>2268</td><td>2294</td><td>2261</td><td>919</td><td>780</td><td>1339</td><td>424</td><td>2650</td><td>1060</td><td>509</td><td>606</td><td>270</td><td>1242</td><td>168</td><td>310</td><td>0</td><td>531</td><td>221</td><td>452</td><td>1320</td><td>524</td><td>47</td><td>130</td><td>347</td><td>166</td><td>1107</td><td>108</td><td>118</td><td>692</td><td>545</td><td>1048</td><td>845</td><td>0</td><td>395</td><td>775</td><td>655</td><td>132</td><td>781</td><td>2189</td><td>1442</td><td>2019</td><td>549</td><td>854</td><td>1348</td><td>930</td><td>1665</td><td>1354</td></tr><tr><th>13</th><td>4998</td><td>4617</td><td>589</td><td>1142</td><td>715</td><td>2069</td><td>1779</td><td>3528</td><td>1468</td><td>3977</td><td>3955</td><td>8926</td><td>63312</td><td>8467</td><td>6302</td><td>2554</td><td>163</td><td>133</td><td>759</td><td>125</td><td>790</td><td>245</td><td>212</td><td>154</td><td>104</td><td>552</td><td>649</td><td>831</td><td>0</td><td>570</td><td>292</td><td>311</td><td>229</td><td>721</td><td>637</td><td>0</td><td>1340</td><td>5834</td><td>1753</td><td>9053</td><td>1999</td><td>2026</td><td>1467</td><td>2561</td><td>2112</td><td>5914</td><td>3608</td><td>2386</td><td>509</td><td>614</td><td>2543</td><td>1067</td><td>801</td><td>190</td><td>1053</td><td>616</td><td>301</td><td>382</td><td>425</td><td>19</td><td>143</td><td>218</td><td>652</td><td>742</td><td>413</td><td>232</td><td>0</td><td>506</td><td>634</td><td>637</td><td>685</td><td>554</td><td>968</td><td>687</td><td>645</td><td>794</td><td>1225</td><td>1248</td><td>1232</td><td>710</td><td>329</td><td>1478</td><td>525</td><td>1121</td><td>1026</td></tr><tr><th>14</th><td>4747</td><td>2509</td><td>1596</td><td>1087</td><td>552</td><td>1228</td><td>3706</td><td>2321</td><td>2990</td><td>6550</td><td>3097</td><td>2652</td><td>9225</td><td>37333</td><td>14393</td><td>3622</td><td>473</td><td>0</td><td>616</td><td>664</td><td>245</td><td>187</td><td>328</td><td>155</td><td>1123</td><td>606</td><td>270</td><td>816</td><td>594</td><td>87</td><td>309</td><td>529</td><td>548</td><td>0</td><td>991</td><td>615</td><td>2261</td><td>1078</td><td>2011</td><td>2772</td><td>3057</td><td>1398</td><td>1592</td><td>2202</td><td>2354</td><td>5383</td><td>7341</td><td>2199</td><td>2618</td><td>1543</td><td>2609</td><td>2026</td><td>2438</td><td>1384</td><td>1163</td><td>1420</td><td>844</td><td>624</td><td>984</td><td>45</td><td>1493</td><td>1681</td><td>1442</td><td>1340</td><td>1226</td><td>2198</td><td>554</td><td>812</td><td>666</td><td>680</td><td>440</td><td>965</td><td>972</td><td>763</td><td>812</td><td>942</td><td>1740</td><td>1147</td><td>906</td><td>2014</td><td>804</td><td>435</td><td>1257</td><td>893</td><td>372</td></tr><tr><th>15</th><td>3691</td><td>5198</td><td>2426</td><td>1587</td><td>1893</td><td>3086</td><td>3723</td><td>11996</td><td>16095</td><td>7476</td><td>4372</td><td>2968</td><td>5855</td><td>13662</td><td>79297</td><td>8871</td><td>1958</td><td>1288</td><td>2042</td><td>973</td><td>2325</td><td>204</td><td>585</td><td>619</td><td>1833</td><td>1149</td><td>562</td><td>823</td><td>672</td><td>569</td><td>991</td><td>1161</td><td>2076</td><td>718</td><td>1074</td><td>398</td><td>1255</td><td>2656</td><td>1295</td><td>2811</td><td>1604</td><td>3082</td><td>3616</td><td>4412</td><td>2550</td><td>4040</td><td>13527</td><td>1963</td><td>2836</td><td>1125</td><td>5399</td><td>7303</td><td>10879</td><td>6253</td><td>5596</td><td>4574</td><td>4433</td><td>2652</td><td>3561</td><td>182</td><td>2680</td><td>2675</td><td>3200</td><td>2380</td><td>3257</td><td>2198</td><td>687</td><td>2072</td><td>542</td><td>1007</td><td>765</td><td>591</td><td>1365</td><td>1108</td><td>1697</td><td>1545</td><td>1813</td><td>2242</td><td>899</td><td>1293</td><td>563</td><td>715</td><td>331</td><td>1332</td><td>830</td></tr><tr><th>16</th><td>5419</td><td>10306</td><td>4321</td><td>2578</td><td>2052</td><td>3330</td><td>2946</td><td>18288</td><td>8305</td><td>2891</td><td>2172</td><td>2215</td><td>2502</td><td>3532</td><td>9524</td><td>103151</td><td>18551</td><td>5669</td><td>5098</td><td>7241</td><td>13617</td><td>1078</td><td>1679</td><td>550</td><td>2262</td><td>2180</td><td>1982</td><td>1768</td><td>840</td><td>1419</td><td>3213</td><td>2828</td><td>1659</td><td>158</td><td>2024</td><td>1024</td><td>1559</td><td>1839</td><td>1245</td><td>1369</td><td>1257</td><td>1868</td><td>3355</td><td>2503</td><td>3202</td><td>2434</td><td>5840</td><td>1170</td><td>1517</td><td>814</td><td>2359</td><td>3634</td><td>5042</td><td>4358</td><td>5497</td><td>8622</td><td>9021</td><td>13538</td><td>6992</td><td>1042</td><td>1308</td><td>1985</td><td>1726</td><td>2514</td><td>2994</td><td>1591</td><td>643</td><td>1369</td><td>961</td><td>628</td><td>102</td><td>1293</td><td>907</td><td>483</td><td>1123</td><td>658</td><td>1569</td><td>1358</td><td>492</td><td>1740</td><td>1004</td><td>1175</td><td>1441</td><td>761</td><td>1087</td></tr><tr><th>17</th><td>4221</td><td>5821</td><td>844</td><td>805</td><td>1030</td><td>913</td><td>1388</td><td>2374</td><td>854</td><td>733</td><td>154</td><td>248</td><td>163</td><td>413</td><td>2066</td><td>19043</td><td>71135</td><td>9051</td><td>4225</td><td>6208</td><td>17498</td><td>0</td><td>330</td><td>185</td><td>1260</td><td>1176</td><td>383</td><td>89</td><td>0</td><td>226</td><td>0</td><td>348</td><td>421</td><td>164</td><td>359</td><td>291</td><td>249</td><td>145</td><td>98</td><td>155</td><td>223</td><td>0</td><td>388</td><td>618</td><td>339</td><td>245</td><td>1799</td><td>331</td><td>566</td><td>0</td><td>977</td><td>173</td><td>349</td><td>244</td><td>73</td><td>407</td><td>1148</td><td>2572</td><td>1883</td><td>64</td><td>54</td><td>225</td><td>344</td><td>807</td><td>100</td><td>369</td><td>78</td><td>0</td><td>185</td><td>138</td><td>0</td><td>0</td><td>0</td><td>319</td><td>0</td><td>94</td><td>260</td><td>368</td><td>115</td><td>206</td><td>100</td><td>138</td><td>559</td><td>0</td><td>92</td></tr><tr><th>18</th><td>3308</td><td>2504</td><td>1305</td><td>403</td><td>463</td><td>696</td><td>1183</td><td>1319</td><td>434</td><td>0</td><td>0</td><td>103</td><td>276</td><td>0</td><td>1157</td><td>5638</td><td>9363</td><td>55269</td><td>8645</td><td>12370</td><td>5670</td><td>142</td><td>346</td><td>395</td><td>1091</td><td>1286</td><td>667</td><td>129</td><td>342</td><td>210</td><td>214</td><td>0</td><td>590</td><td>91</td><td>93</td><td>0</td><td>0</td><td>0</td><td>95</td><td>94</td><td>765</td><td>89</td><td>130</td><td>195</td><td>89</td><td>436</td><td>502</td><td>362</td><td>79</td><td>279</td><td>308</td><td>97</td><td>176</td><td>217</td><td>776</td><td>396</td><td>203</td><td>391</td><td>579</td><td>0</td><td>81</td><td>89</td><td>93</td><td>288</td><td>0</td><td>0</td><td>0</td><td>0</td><td>0</td><td>0</td><td>0</td><td>0</td><td>0</td><td>0</td><td>0</td><td>0</td><td>123</td><td>231</td><td>172</td><td>114</td><td>125</td><td>0</td><td>0</td><td>0</td><td>0</td></tr><tr><th>19</th><td>2470</td><td>3437</td><td>1452</td><td>975</td><td>614</td><td>582</td><td>926</td><td>2147</td><td>385</td><td>149</td><td>139</td><td>346</td><td>759</td><td>484</td><td>1998</td><td>4870</td><td>4919</td><td>8804</td><td>50085</td><td>15161</td><td>4748</td><td>624</td><td>835</td><td>761</td><td>1807</td><td>3988</td><td>1475</td><td>1378</td><td>570</td><td>832</td><td>1131</td><td>826</td><td>1112</td><td>210</td><td>334</td><td>58</td><td>266</td><td>347</td><td>95</td><td>402</td><td>294</td><td>268</td><td>245</td><td>340</td><td>291</td><td>530</td><td>824</td><td>327</td><td>111</td><td>52</td><td>1164</td><td>0</td><td>415</td><td>599</td><td>392</td><td>419</td><td>204</td><td>615</td><td>190</td><td>0</td><td>0</td><td>0</td><td>299</td><td>475</td><td>0</td><td>154</td><td>219</td><td>0</td><td>124</td><td>105</td><td>0</td><td>0</td><td>0</td><td>0</td><td>108</td><td>183</td><td>215</td><td>115</td><td>0</td><td>105</td><td>0</td><td>95</td><td>90</td><td>107</td><td>218</td></tr><tr><th>20</th><td>3150</td><td>5125</td><td>2858</td><td>610</td><td>1016</td><td>400</td><td>1328</td><td>1710</td><td>1743</td><td>608</td><td>531</td><td>585</td><td>447</td><td>563</td><td>865</td><td>7323</td><td>6182</td><td>12230</td><td>12516</td><td>81076</td><td>19154</td><td>3810</td><td>1123</td><td>2624</td><td>3286</td><td>6992</td><td>1594</td><td>1642</td><td>1976</td><td>1734</td><td>2905</td><td>1439</td><td>1460</td><td>0</td><td>491</td><td>326</td><td>630</td><td>379</td><td>253</td><td>487</td><td>279</td><td>451</td><td>0</td><td>130</td><td>653</td><td>322</td><td>1716</td><td>831</td><td>747</td><td>430</td><td>349</td><td>331</td><td>605</td><td>411</td><td>976</td><td>364</td><td>362</td><td>2230</td><td>686</td><td>20</td><td>263</td><td>240</td><td>101</td><td>376</td><td>0</td><td>127</td><td>0</td><td>0</td><td>147</td><td>124</td><td>0</td><td>155</td><td>107</td><td>0</td><td>256</td><td>213</td><td>579</td><td>127</td><td>275</td><td>294</td><td>200</td><td>363</td><td>198</td><td>483</td><td>346</td></tr><tr><th>21</th><td>6234</td><td>13644</td><td>4213</td><td>1702</td><td>1223</td><td>1169</td><td>1137</td><td>4750</td><td>1574</td><td>870</td><td>551</td><td>1076</td><td>730</td><td>245</td><td>1926</td><td>13312</td><td>18172</td><td>5099</td><td>3967</td><td>20274</td><td>74155</td><td>1764</td><td>1604</td><td>855</td><td>2347</td><td>3220</td><td>1339</td><td>2367</td><td>1555</td><td>647</td><td>749</td><td>634</td><td>1084</td><td>0</td><td>1137</td><td>611</td><td>488</td><td>164</td><td>591</td><td>272</td><td>470</td><td>784</td><td>382</td><td>917</td><td>257</td><td>706</td><td>846</td><td>858</td><td>618</td><td>342</td><td>1344</td><td>253</td><td>676</td><td>441</td><td>944</td><td>1055</td><td>715</td><td>1387</td><td>918</td><td>47</td><td>89</td><td>0</td><td>447</td><td>792</td><td>237</td><td>146</td><td>392</td><td>497</td><td>0</td><td>128</td><td>840</td><td>131</td><td>345</td><td>0</td><td>382</td><td>78</td><td>197</td><td>304</td><td>316</td><td>235</td><td>105</td><td>186</td><td>642</td><td>586</td><td>131</td></tr><tr><th>22</th><td>2177</td><td>1507</td><td>599</td><td>89</td><td>0</td><td>0</td><td>640</td><td>575</td><td>250</td><td>0</td><td>0</td><td>0</td><td>245</td><td>292</td><td>452</td><td>1078</td><td>0</td><td>0</td><td>410</td><td>3843</td><td>1645</td><td>70476</td><td>14793</td><td>14423</td><td>4535</td><td>4303</td><td>772</td><td>1510</td><td>406</td><td>169</td><td>337</td><td>616</td><td>0</td><td>76</td><td>0</td><td>0</td><td>0</td><td>215</td><td>0</td><td>0</td><td>0</td><td>0</td><td>0</td><td>249</td><td>103</td><td>0</td><td>308</td><td>391</td><td>94</td><td>90</td><td>409</td><td>0</td><td>0</td><td>0</td><td>0</td><td>119</td><td>0</td><td>103</td><td>119</td><td>0</td><td>0</td><td>0</td><td>98</td><td>318</td><td>0</td><td>0</td><td>0</td><td>89</td><td>0</td><td>0</td><td>0</td><td>0</td><td>69</td><td>0</td><td>76</td><td>0</td><td>0</td><td>0</td><td>0</td><td>0</td><td>109</td><td>0</td><td>0</td><td>0</td><td>0</td></tr><tr><th>23</th><td>3643</td><td>3005</td><td>1109</td><td>230</td><td>320</td><td>518</td><td>986</td><td>1764</td><td>889</td><td>435</td><td>136</td><td>146</td><td>212</td><td>438</td><td>489</td><td>1563</td><td>220</td><td>346</td><td>1045</td><td>1009</td><td>1301</td><td>14387</td><td>47212</td><td>15377</td><td>7337</td><td>7287</td><td>838</td><td>2078</td><td>349</td><td>90</td><td>110</td><td>450</td><td>0</td><td>253</td><td>0</td><td>0</td><td>0</td><td>0</td><td>0</td><td>91</td><td>0</td><td>0</td><td>176</td><td>0</td><td>220</td><td>376</td><td>228</td><td>0</td><td>0</td><td>197</td><td>430</td><td>180</td><td>112</td><td>0</td><td>217</td><td>0</td><td>0</td><td>337</td><td>192</td><td>0</td><td>0</td><td>119</td><td>104</td><td>110</td><td>204</td><td>0</td><td>0</td><td>0</td><td>0</td><td>70</td><td>0</td><td>0</td><td>0</td><td>0</td><td>0</td><td>94</td><td>0</td><td>0</td><td>0</td><td>0</td><td>0</td><td>0</td><td>216</td><td>163</td><td>136</td></tr><tr><th>24</th><td>2994</td><td>1290</td><td>969</td><td>478</td><td>313</td><td>327</td><td>339</td><td>572</td><td>314</td><td>237</td><td>0</td><td>0</td><td>154</td><td>155</td><td>535</td><td>550</td><td>185</td><td>507</td><td>689</td><td>2623</td><td>1044</td><td>14998</td><td>15505</td><td>43775</td><td>7753</td><td>3716</td><td>1428</td><td>1973</td><td>333</td><td>163</td><td>284</td><td>828</td><td>0</td><td>0</td><td>206</td><td>252</td><td>0</td><td>176</td><td>0</td><td>106</td><td>82</td><td>83</td><td>0</td><td>0</td><td>237</td><td>246</td><td>176</td><td>209</td><td>0</td><td>232</td><td>826</td><td>0</td><td>78</td><td>0</td><td>0</td><td>0</td><td>115</td><td>217</td><td>418</td><td>0</td><td>0</td><td>0</td><td>0</td><td>231</td><td>0</td><td>0</td><td>0</td><td>127</td><td>0</td><td>0</td><td>0</td><td>0</td><td>0</td><td>0</td><td>93</td><td>0</td><td>0</td><td>0</td><td>0</td><td>0</td><td>0</td><td>0</td><td>96</td><td>120</td><td>0</td></tr><tr><th>25</th><td>4448</td><td>3242</td><td>2623</td><td>906</td><td>1259</td><td>414</td><td>1051</td><td>1845</td><td>1265</td><td>596</td><td>0</td><td>272</td><td>104</td><td>1030</td><td>1929</td><td>2107</td><td>1260</td><td>985</td><td>1627</td><td>2791</td><td>2342</td><td>4561</td><td>6763</td><td>8195</td><td>76379</td><td>13804</td><td>1966</td><td>3644</td><td>1243</td><td>1408</td><td>1098</td><td>1546</td><td>494</td><td>0</td><td>467</td><td>44</td><td>477</td><td>0</td><td>0</td><td>0</td><td>0</td><td>0</td><td>0</td><td>310</td><td>416</td><td>255</td><td>728</td><td>452</td><td>213</td><td>112</td><td>1662</td><td>121</td><td>97</td><td>92</td><td>293</td><td>872</td><td>390</td><td>1003</td><td>520</td><td>91</td><td>79</td><td>0</td><td>122</td><td>233</td><td>98</td><td>267</td><td>0</td><td>220</td><td>77</td><td>130</td><td>92</td><td>0</td><td>0</td><td>0</td><td>87</td><td>0</td><td>262</td><td>105</td><td>203</td><td>177</td><td>104</td><td>181</td><td>297</td><td>90</td><td>102</td></tr><tr><th>26</th><td>3720</td><td>4055</td><td>7246</td><td>2353</td><td>1873</td><td>742</td><td>1075</td><td>1972</td><td>896</td><td>1060</td><td>385</td><td>1212</td><td>436</td><td>227</td><td>1354</td><td>2391</td><td>1186</td><td>1190</td><td>3723</td><td>6556</td><td>3876</td><td>4086</td><td>6704</td><td>3456</td><td>13558</td><td>67081</td><td>3709</td><td>6449</td><td>5987</td><td>1601</td><td>3980</td><td>3898</td><td>2365</td><td>176</td><td>631</td><td>464</td><td>278</td><td>244</td><td>732</td><td>102</td><td>523</td><td>147</td><td>236</td><td>270</td><td>249</td><td>417</td><td>911</td><td>256</td><td>97</td><td>0</td><td>780</td><td>293</td><td>424</td><td>71</td><td>597</td><td>1039</td><td>524</td><td>1355</td><td>226</td><td>19</td><td>309</td><td>140</td><td>0</td><td>323</td><td>325</td><td>0</td><td>0</td><td>120</td><td>376</td><td>92</td><td>0</td><td>0</td><td>122</td><td>327</td><td>0</td><td>577</td><td>190</td><td>242</td><td>418</td><td>708</td><td>306</td><td>741</td><td>773</td><td>114</td><td>0</td></tr><tr><th>27</th><td>3629</td><td>2453</td><td>1406</td><td>637</td><td>101</td><td>818</td><td>664</td><td>655</td><td>405</td><td>157</td><td>185</td><td>367</td><td>503</td><td>286</td><td>541</td><td>1974</td><td>383</td><td>667</td><td>1691</td><td>1950</td><td>1434</td><td>669</td><td>838</td><td>1428</td><td>1791</td><td>3821</td><td>47526</td><td>8615</td><td>10321</td><td>2300</td><td>1912</td><td>3154</td><td>907</td><td>178</td><td>82</td><td>0</td><td>378</td><td>187</td><td>174</td><td>0</td><td>0</td><td>238</td><td>295</td><td>99</td><td>0</td><td>218</td><td>365</td><td>92</td><td>0</td><td>76</td><td>666</td><td>140</td><td>0</td><td>0</td><td>0</td><td>0</td><td>363</td><td>543</td><td>285</td><td>21</td><td>203</td><td>0</td><td>0</td><td>130</td><td>86</td><td>0</td><td>145</td><td>116</td><td>0</td><td>0</td><td>0</td><td>0</td><td>122</td><td>81</td><td>0</td><td>0</td><td>0</td><td>121</td><td>494</td><td>96</td><td>0</td><td>0</td><td>0</td><td>0</td><td>92</td></tr><tr><th>28</th><td>2625</td><td>4683</td><td>8217</td><td>2337</td><td>1463</td><td>1431</td><td>513</td><td>1369</td><td>1556</td><td>922</td><td>321</td><td>470</td><td>831</td><td>719</td><td>809</td><td>1983</td><td>218</td><td>0</td><td>1576</td><td>1886</td><td>2172</td><td>1026</td><td>2518</td><td>2038</td><td>3163</td><td>7265</td><td>8352</td><td>43473</td><td>4195</td><td>2228</td><td>3449</td><td>9273</td><td>1262</td><td>0</td><td>417</td><td>291</td><td>0</td><td>252</td><td>223</td><td>101</td><td>121</td><td>535</td><td>100</td><td>261</td><td>83</td><td>296</td><td>489</td><td>629</td><td>0</td><td>353</td><td>1294</td><td>203</td><td>237</td><td>0</td><td>141</td><td>133</td><td>551</td><td>660</td><td>339</td><td>18</td><td>0</td><td>0</td><td>0</td><td>112</td><td>154</td><td>214</td><td>0</td><td>112</td><td>76</td><td>0</td><td>157</td><td>0</td><td>228</td><td>0</td><td>0</td><td>372</td><td>0</td><td>0</td><td>82</td><td>172</td><td>154</td><td>92</td><td>124</td><td>0</td><td>0</td></tr><tr><th>29</th><td>4483</td><td>3822</td><td>2109</td><td>1127</td><td>1634</td><td>878</td><td>373</td><td>916</td><td>1243</td><td>190</td><td>0</td><td>225</td><td>124</td><td>594</td><td>696</td><td>868</td><td>0</td><td>342</td><td>570</td><td>1972</td><td>1713</td><td>293</td><td>462</td><td>333</td><td>1352</td><td>6441</td><td>10414</td><td>3970</td><td>67885</td><td>5163</td><td>5002</td><td>7330</td><td>1186</td><td>107</td><td>221</td><td>92</td><td>259</td><td>0</td><td>190</td><td>511</td><td>97</td><td>352</td><td>0</td><td>94</td><td>323</td><td>0</td><td>0</td><td>0</td><td>119</td><td>98</td><td>1908</td><td>155</td><td>0</td><td>0</td><td>0</td><td>187</td><td>184</td><td>0</td><td>84</td><td>18</td><td>0</td><td>0</td><td>104</td><td>236</td><td>0</td><td>0</td><td>0</td><td>104</td><td>0</td><td>0</td><td>0</td><td>0</td><td>396</td><td>0</td><td>111</td><td>0</td><td>121</td><td>94</td><td>0</td><td>0</td><td>158</td><td>0</td><td>103</td><td>0</td><td>104</td></tr><tr><th>30</th><td>2872</td><td>2417</td><td>1381</td><td>757</td><td>1163</td><td>823</td><td>309</td><td>1308</td><td>886</td><td>476</td><td>82</td><td>227</td><td>570</td><td>0</td><td>569</td><td>1306</td><td>226</td><td>210</td><td>832</td><td>1595</td><td>647</td><td>169</td><td>90</td><td>98</td><td>1311</td><td>1940</td><td>2176</td><td>2443</td><td>5379</td><td>71636</td><td>13458</td><td>1792</td><td>1413</td><td>269</td><td>505</td><td>0</td><td>353</td><td>122</td><td>0</td><td>281</td><td>81</td><td>0</td><td>138</td><td>476</td><td>0</td><td>262</td><td>541</td><td>101</td><td>0</td><td>0</td><td>338</td><td>193</td><td>0</td><td>0</td><td>0</td><td>0</td><td>104</td><td>272</td><td>80</td><td>0</td><td>0</td><td>0</td><td>87</td><td>185</td><td>0</td><td>0</td><td>0</td><td>0</td><td>101</td><td>0</td><td>0</td><td>0</td><td>0</td><td>0</td><td>0</td><td>0</td><td>249</td><td>0</td><td>0</td><td>0</td><td>0</td><td>0</td><td>297</td><td>0</td><td>80</td></tr><tr><th>&vellip;</th><td>&vellip;</td><td>&vellip;</td><td>&vellip;</td><td>&vellip;</td><td>&vellip;</td><td>&vellip;</td><td>&vellip;</td><td>&vellip;</td><td>&vellip;</td><td>&vellip;</td><td>&vellip;</td><td>&vellip;</td><td>&vellip;</td><td>&vellip;</td><td>&vellip;</td><td>&vellip;</td><td>&vellip;</td><td>&vellip;</td><td>&vellip;</td><td>&vellip;</td><td>&vellip;</td><td>&vellip;</td><td>&vellip;</td><td>&vellip;</td><td>&vellip;</td><td>&vellip;</td><td>&vellip;</td><td>&vellip;</td><td>&vellip;</td><td>&vellip;</td><td>&vellip;</td><td>&vellip;</td><td>&vellip;</td><td>&vellip;</td><td>&vellip;</td><td>&vellip;</td><td>&vellip;</td><td>&vellip;</td><td>&vellip;</td><td>&vellip;</td><td>&vellip;</td><td>&vellip;</td><td>&vellip;</td><td>&vellip;</td><td>&vellip;</td><td>&vellip;</td><td>&vellip;</td><td>&vellip;</td><td>&vellip;</td><td>&vellip;</td><td>&vellip;</td><td>&vellip;</td><td>&vellip;</td><td>&vellip;</td><td>&vellip;</td><td>&vellip;</td><td>&vellip;</td><td>&vellip;</td><td>&vellip;</td><td>&vellip;</td><td>&vellip;</td><td>&vellip;</td><td>&vellip;</td><td>&vellip;</td><td>&vellip;</td><td>&vellip;</td><td>&vellip;</td><td>&vellip;</td><td>&vellip;</td><td>&vellip;</td><td>&vellip;</td><td>&vellip;</td><td>&vellip;</td><td>&vellip;</td><td>&vellip;</td><td>&vellip;</td><td>&vellip;</td><td>&vellip;</td><td>&vellip;</td><td>&vellip;</td><td>&vellip;</td><td>&vellip;</td><td>&vellip;</td><td>&vellip;</td><td>&vellip;</td></tr></tbody></table>"
      ],
      "text/latex": [
       "\\begin{tabular}{r|ccccccccccccccccccccccccccccccccccccccccccccccccccccccccccccccccccccccccccccccccccccc}\n",
       "\t& 1 Centro Histórico                                                                 & 2 Buenavista-Reforma                                                               & 3 Tlatelolco                                                                       & 4 Morelos                                                                          & 5 Moctezuma                                                                        & 6 Balbuena                                                                         & 7 Obrera                                                                           & 8 Condesa                                                                          & 9 Nápoles                                                                          & 10 Vértiz Narvarte                                                                  & 11 Reforma Iztaccíhuatl                                                             & 12 Palacio de los Deportes                                                          & 13 San Andrés Tetepilco                                                             & 14 Portales                                                                         & 15 Del Valle                                                                        & 16 Chapultepec-Polanco                                                              & 17 Panteones                                                                        & 18 Tezozómoc                                                                        & 19 El Rosario                                                                       & 20 Industrial Vallejo                                                               & 21 La Raza                                                                          & 22 Cuautepec                                                                        & 23 Reclusorio Norte                                                                 & 24 Ticomán                                                                          & 25 Nueva Industrial Vallejo                                                         & 26 Instituto Politécnico                                                            & 27 Tepeyac                                                                          & 28 La Villa                                                                         & 29 Nueva Atzacoalco                                                                 & 30 San Felipe de Jesús                                                              & 31 Deportivo los Galeana                                                            & 32 Bondojito                                                                        & 33 San Juan de Aragón                                                               & 34 Aeropuerto                                                                       & 35 Pantitlán                                                                        & 36 Zaragoza                                                                         & 37 UPIICSA                                                                          & 38 Central de Abastos                                                               & 39 UAM Iztapalapa                                                                   & 40 Escuadrón 201                                                                    & 41 Parque Cerro de la Estrella                                                      & 42 Lomas Estrella                                                                   & 43 Canal Nacional                                                                   & 44 Coapa                                                                            & 45 Culhuacán CTM                                                                    & 46 Campestre Churubusco                                                             & 47 Viveros                                                                          & 48 Pedregal de Santo Domingo                                                        & 49 Xotepingo                                                                        & 50 Estadio Azteca                                                                   & 51 Ciudad Universitaria                                                             & 52 Olivar de los Padres-San Jerónimo                                                & 53 Las Águilas                                                                      & 54 Santa Lucia                                                                      & 55 Molinos                                                                          & 56 Santa Fe                                                                         & 57 Observatorio                                                                     & 58 Las Lomas                                                                        & 59 Cuajimalpa                                                                       & 60 San Lorenzo Acopilco                                                             & 61 San Bartolo-San Mateo                                                            & 62 Cerro del Judío                                                                  & 63 La Magdalena Contreras                                                           & 64 Villa Olímpica                                                                   & 65 Padierna                                                                         & 66 San Pedro Mártir                                                                 & 67 Pueblo del Ajusco                                                                & 68 Tepepan                                                                          & 69 Noria                                                                            & 70 Nativitas                                                                        & 71 Milpa Alta                                                                       & 72 Tulyehualco                                                                      & 73 El Molino Tezonco                                                                & 74 Tláhuac                                                                          & 75 Mixquic                                                                          & 76 Santa Catarina                                                                   & 77 Reclusorio Oriente                                                               & 78 Desarrollo Urbano Quetzalcóatl                                                   & 79 Buenavista Iztapalapa                                                            & 80 Santa María Xalpa                                                                & 81 San Miguel Teotongo                                                              & 82 Santa Martha Acatitla                                                            & 83 Juan Escutia                                                                     & 84 Santa Cruz Meyehualco                                                            & 85 Ejército Constitucionalista                                                     \\\\\n",
       "\t\\hline\n",
       "\t& Int64⍰ & Int64⍰ & Int64⍰ & Int64⍰ & Int64⍰ & Int64⍰ & Int64⍰ & Int64⍰ & Int64⍰ & Int64⍰ & Int64⍰ & Int64⍰ & Int64⍰ & Int64⍰ & Int64⍰ & Int64⍰ & Int64⍰ & Int64⍰ & Int64⍰ & Int64⍰ & Int64⍰ & Int64⍰ & Int64⍰ & Int64⍰ & Int64⍰ & Int64⍰ & Int64⍰ & Int64⍰ & Int64⍰ & Int64⍰ & Int64⍰ & Int64⍰ & Int64⍰ & Int64⍰ & Int64⍰ & Int64⍰ & Int64⍰ & Int64⍰ & Int64⍰ & Int64⍰ & Int64⍰ & Int64⍰ & Int64⍰ & Int64⍰ & Int64⍰ & Int64⍰ & Int64⍰ & Int64⍰ & Int64⍰ & Int64⍰ & Int64⍰ & Int64⍰ & Int64⍰ & Int64⍰ & Int64⍰ & Int64⍰ & Int64⍰ & Int64⍰ & Int64⍰ & Int64⍰ & Int64⍰ & Int64⍰ & Int64⍰ & Int64⍰ & Int64⍰ & Int64⍰ & Int64⍰ & Int64⍰ & Int64⍰ & Int64⍰ & Int64⍰ & Int64⍰ & Int64⍰ & Int64⍰ & Int64⍰ & Int64⍰ & Int64⍰ & Int64⍰ & Int64⍰ & Int64⍰ & Int64⍰ & Int64⍰ & Int64⍰ & Int64⍰ & Int64⍰\\\\\n",
       "\t\\hline\n",
       "\t1 & 70895 & 12474 & 16855 & 10910 & 10448 & 9127 & 8522 & 5779 & 2432 & 5198 & 3030 & 7362 & 4769 & 4612 & 3473 & 5784 & 3754 & 3151 & 2103 & 3336 & 6252 & 1958 & 3739 & 2850 & 4600 & 4359 & 3993 & 2681 & 4043 & 3005 & 4291 & 4278 & 4346 & 116 & 5087 & 2918 & 3456 & 3187 & 2405 & 3460 & 3145 & 3833 & 3821 & 3320 & 3480 & 4077 & 4144 & 3804 & 2694 & 1440 & 1763 & 1621 & 862 & 1810 & 2921 & 1868 & 2484 & 1579 & 2471 & 506 & 1187 & 2537 & 1274 & 1621 & 2716 & 2668 & 1152 & 2762 & 3372 & 1919 & 2375 & 2321 & 2283 & 1442 & 1189 & 2315 & 4014 & 2323 & 3208 & 3038 & 1901 & 4170 & 3757 & 3169 & 2655 \\\\\n",
       "\t2 & 13314 & 85240 & 19832 & 4799 & 5988 & 4301 & 6013 & 13606 & 4832 & 3374 & 1203 & 2174 & 3886 & 2920 & 5294 & 10428 & 6550 & 2629 & 2904 & 4524 & 14298 & 1183 & 3153 & 1291 & 3410 & 4077 & 2431 & 5022 & 3266 & 2728 & 2838 & 2825 & 1318 & 52 & 3465 & 1816 & 1367 & 2256 & 1802 & 1823 & 1934 & 1262 & 1485 & 2756 & 1334 & 932 & 3368 & 2811 & 1269 & 851 & 2430 & 2175 & 2300 & 1756 & 1821 & 2042 & 2754 & 1920 & 1912 & 204 & 1010 & 612 & 869 & 2674 & 1416 & 1617 & 355 & 1769 & 783 & 1284 & 351 & 405 & 1180 & 823 & 383 & 339 & 893 & 1635 & 671 & 832 & 1164 & 1388 & 1319 & 1136 & 733 \\\\\n",
       "\t3 & 15254 & 19880 & 88186 & 6639 & 1657 & 898 & 3657 & 3141 & 684 & 663 & 219 & 357 & 592 & 1759 & 2337 & 4290 & 977 & 1544 & 1554 & 2553 & 4048 & 599 & 1093 & 969 & 2861 & 6597 & 1768 & 7214 & 2463 & 1431 & 815 & 2457 & 1385 & 554 & 484 & 223 & 284 & 296 & 331 & 475 & 675 & 0 & 130 & 726 & 1217 & 223 & 1148 & 999 & 51 & 210 & 1095 & 113 & 226 & 0 & 565 & 574 & 231 & 859 & 161 & 0 & 162 & 520 & 534 & 660 & 444 & 415 & 228 & 234 & 0 & 73 & 160 & 0 & 239 & 83 & 0 & 117 & 121 & 303 & 317 & 618 & 102 & 270 & 405 & 0 & 280 \\\\\n",
       "\t4 & 10625 & 4981 & 6734 & 69745 & 14820 & 17286 & 2510 & 3305 & 1461 & 448 & 591 & 2396 & 1507 & 1087 & 1647 & 1990 & 598 & 373 & 757 & 532 & 1495 & 89 & 230 & 502 & 928 & 2360 & 821 & 2121 & 1194 & 757 & 995 & 6581 & 3359 & 487 & 1723 & 2775 & 1976 & 1047 & 453 & 377 & 717 & 595 & 1230 & 1008 & 498 & 641 & 1446 & 353 & 253 & 226 & 1160 & 356 & 400 & 312 & 633 & 439 & 754 & 737 & 642 & 0 & 381 & 129 & 423 & 412 & 255 & 136 & 282 & 418 & 112 & 0 & 426 & 104 & 434 & 159 & 242 & 170 & 304 & 368 & 565 & 615 & 1251 & 1928 & 1335 & 375 & 763 \\\\\n",
       "\t5 & 10365 & 6492 & 1781 & 15412 & 72862 & 5333 & 1439 & 3107 & 1535 & 497 & 66 & 968 & 709 & 627 & 1864 & 2343 & 1169 & 576 & 518 & 634 & 1509 & 0 & 320 & 313 & 1389 & 2000 & 101 & 1286 & 1614 & 1173 & 1982 & 2963 & 4668 & 786 & 2231 & 2069 & 732 & 833 & 256 & 325 & 95 & 498 & 362 & 165 & 226 & 499 & 1736 & 162 & 119 & 507 & 1211 & 273 & 0 & 75 & 104 & 136 & 113 & 245 & 111 & 0 & 188 & 316 & 325 & 278 & 157 & 123 & 0 & 130 & 124 & 215 & 0 & 113 & 110 & 376 & 0 & 104 & 97 & 266 & 91 & 419 & 398 & 1349 & 1034 & 282 & 729 \\\\\n",
       "\t6 & 9106 & 4252 & 756 & 17654 & 5129 & 62741 & 4908 & 4374 & 697 & 3100 & 2276 & 6376 & 2237 & 1364 & 2864 & 2967 & 1112 & 607 & 582 & 265 & 1355 & 0 & 628 & 327 & 414 & 553 & 691 & 1431 & 1536 & 823 & 1052 & 2114 & 687 & 0 & 3574 & 4941 & 4083 & 1708 & 981 & 1939 & 1237 & 271 & 2016 & 1088 & 611 & 1395 & 1855 & 744 & 1210 & 404 & 1382 & 392 & 753 & 581 & 546 & 722 & 749 & 1378 & 696 & 116 & 102 & 117 & 516 & 640 & 456 & 372 & 0 & 240 & 405 & 607 & 546 & 260 & 125 & 916 & 429 & 248 & 577 & 1977 & 1180 & 757 & 1034 & 959 & 785 & 2226 & 1397 \\\\\n",
       "\t7 & 10101 & 5260 & 3932 & 2554 & 1439 & 4438 & 62211 & 9146 & 2829 & 7156 & 2592 & 2808 & 2237 & 4290 & 3624 & 2720 & 1092 & 901 & 945 & 1017 & 1455 & 588 & 666 & 339 & 957 & 986 & 664 & 801 & 373 & 309 & 609 & 1080 & 1145 & 0 & 1811 & 678 & 2565 & 646 & 1150 & 909 & 2108 & 1587 & 2324 & 966 & 1286 & 1614 & 1591 & 1214 & 1037 & 391 & 1371 & 707 & 1109 & 1058 & 991 & 1661 & 2071 & 518 & 1423 & 133 & 1480 & 1018 & 944 & 1551 & 891 & 661 & 145 & 542 & 599 & 318 & 411 & 448 & 982 & 709 & 704 & 512 & 2030 & 952 & 683 & 937 & 717 & 989 & 1603 & 1184 & 1142 \\\\\n",
       "\t8 & 5593 & 13680 & 3535 & 3473 & 3227 & 4067 & 8327 & 72322 & 6851 & 6623 & 1755 & 2586 & 4566 & 2133 & 11296 & 18271 & 2826 & 1783 & 2003 & 1530 & 4578 & 575 & 1980 & 572 & 1695 & 1714 & 560 & 1357 & 723 & 1306 & 1825 & 652 & 2338 & 128 & 3051 & 836 & 1874 & 2236 & 1671 & 675 & 1278 & 1244 & 1797 & 2146 & 1697 & 2151 & 5118 & 1747 & 1233 & 897 & 2871 & 2793 & 2013 & 1782 & 3171 & 2188 & 5115 & 3773 & 2472 & 293 & 1517 & 1121 & 2003 & 2966 & 1144 & 1719 & 627 & 1788 & 1034 & 628 & 333 & 482 & 843 & 711 & 330 & 658 & 840 & 1374 & 821 & 839 & 527 & 1137 & 703 & 831 & 1749 \\\\\n",
       "\t9 & 2552 & 5185 & 615 & 1320 & 1654 & 869 & 3148 & 6515 & 28015 & 6068 & 1089 & 1528 & 1639 & 3191 & 15514 & 7956 & 757 & 434 & 280 & 1490 & 1651 & 250 & 692 & 314 & 1116 & 629 & 329 & 1685 & 1243 & 740 & 282 & 207 & 1169 & 162 & 1517 & 760 & 1797 & 959 & 805 & 715 & 308 & 944 & 1009 & 2101 & 2747 & 1888 & 3886 & 1495 & 1655 & 623 & 2975 & 1302 & 3659 & 3575 & 2128 & 4974 & 3030 & 3201 & 1635 & 151 & 767 & 716 & 1886 & 1845 & 1218 & 401 & 108 & 1356 & 325 & 732 & 318 & 324 & 76 & 454 & 226 & 386 & 683 & 1108 & 0 & 416 & 357 & 0 & 348 & 627 & 656 \\\\\n",
       "\t10 & 5832 & 3674 & 663 & 892 & 602 & 3574 & 7217 & 5910 & 5792 & 31231 & 2775 & 2698 & 3497 & 6743 & 8131 & 2906 & 888 & 96 & 0 & 732 & 920 & 0 & 435 & 237 & 596 & 844 & 157 & 1048 & 190 & 361 & 199 & 92 & 422 & 402 & 778 & 757 & 1336 & 922 & 711 & 881 & 407 & 1124 & 712 & 1212 & 2290 & 1197 & 2733 & 267 & 1225 & 739 & 1681 & 598 & 1124 & 744 & 765 & 362 & 469 & 807 & 619 & 0 & 75 & 232 & 850 & 1385 & 376 & 318 & 327 & 230 & 539 & 420 & 632 & 646 & 484 & 232 & 373 & 183 & 221 & 368 & 416 & 199 & 363 & 357 & 304 & 621 & 1629 \\\\\n",
       "\t11 & 2757 & 1300 & 270 & 859 & 125 & 2304 & 2248 & 1689 & 993 & 2754 & 24681 & 6315 & 4211 & 3364 & 4560 & 2636 & 154 & 0 & 139 & 747 & 551 & 0 & 136 & 0 & 0 & 328 & 185 & 388 & 248 & 82 & 164 & 294 & 118 & 135 & 542 & 201 & 358 & 1262 & 603 & 816 & 684 & 455 & 383 & 638 & 927 & 793 & 1819 & 334 & 454 & 293 & 1194 & 133 & 467 & 178 & 652 & 29 & 244 & 435 & 776 & 24 & 137 & 126 & 462 & 895 & 0 & 0 & 78 & 236 & 169 & 282 & 0 & 348 & 660 & 78 & 0 & 180 & 411 & 181 & 192 & 425 & 0 & 245 & 120 & 289 & 457 \\\\\n",
       "\t12 & 6788 & 2468 & 357 & 2137 & 1250 & 6443 & 2736 & 2573 & 1258 & 2785 & 6695 & 86794 & 8659 & 2652 & 3220 & 1785 & 403 & 0 & 346 & 436 & 1182 & 0 & 146 & 0 & 272 & 1342 & 367 & 234 & 103 & 227 & 242 & 1112 & 1019 & 234 & 1424 & 751 & 7195 & 11114 & 2268 & 2294 & 2261 & 919 & 780 & 1339 & 424 & 2650 & 1060 & 509 & 606 & 270 & 1242 & 168 & 310 & 0 & 531 & 221 & 452 & 1320 & 524 & 47 & 130 & 347 & 166 & 1107 & 108 & 118 & 692 & 545 & 1048 & 845 & 0 & 395 & 775 & 655 & 132 & 781 & 2189 & 1442 & 2019 & 549 & 854 & 1348 & 930 & 1665 & 1354 \\\\\n",
       "\t13 & 4998 & 4617 & 589 & 1142 & 715 & 2069 & 1779 & 3528 & 1468 & 3977 & 3955 & 8926 & 63312 & 8467 & 6302 & 2554 & 163 & 133 & 759 & 125 & 790 & 245 & 212 & 154 & 104 & 552 & 649 & 831 & 0 & 570 & 292 & 311 & 229 & 721 & 637 & 0 & 1340 & 5834 & 1753 & 9053 & 1999 & 2026 & 1467 & 2561 & 2112 & 5914 & 3608 & 2386 & 509 & 614 & 2543 & 1067 & 801 & 190 & 1053 & 616 & 301 & 382 & 425 & 19 & 143 & 218 & 652 & 742 & 413 & 232 & 0 & 506 & 634 & 637 & 685 & 554 & 968 & 687 & 645 & 794 & 1225 & 1248 & 1232 & 710 & 329 & 1478 & 525 & 1121 & 1026 \\\\\n",
       "\t14 & 4747 & 2509 & 1596 & 1087 & 552 & 1228 & 3706 & 2321 & 2990 & 6550 & 3097 & 2652 & 9225 & 37333 & 14393 & 3622 & 473 & 0 & 616 & 664 & 245 & 187 & 328 & 155 & 1123 & 606 & 270 & 816 & 594 & 87 & 309 & 529 & 548 & 0 & 991 & 615 & 2261 & 1078 & 2011 & 2772 & 3057 & 1398 & 1592 & 2202 & 2354 & 5383 & 7341 & 2199 & 2618 & 1543 & 2609 & 2026 & 2438 & 1384 & 1163 & 1420 & 844 & 624 & 984 & 45 & 1493 & 1681 & 1442 & 1340 & 1226 & 2198 & 554 & 812 & 666 & 680 & 440 & 965 & 972 & 763 & 812 & 942 & 1740 & 1147 & 906 & 2014 & 804 & 435 & 1257 & 893 & 372 \\\\\n",
       "\t15 & 3691 & 5198 & 2426 & 1587 & 1893 & 3086 & 3723 & 11996 & 16095 & 7476 & 4372 & 2968 & 5855 & 13662 & 79297 & 8871 & 1958 & 1288 & 2042 & 973 & 2325 & 204 & 585 & 619 & 1833 & 1149 & 562 & 823 & 672 & 569 & 991 & 1161 & 2076 & 718 & 1074 & 398 & 1255 & 2656 & 1295 & 2811 & 1604 & 3082 & 3616 & 4412 & 2550 & 4040 & 13527 & 1963 & 2836 & 1125 & 5399 & 7303 & 10879 & 6253 & 5596 & 4574 & 4433 & 2652 & 3561 & 182 & 2680 & 2675 & 3200 & 2380 & 3257 & 2198 & 687 & 2072 & 542 & 1007 & 765 & 591 & 1365 & 1108 & 1697 & 1545 & 1813 & 2242 & 899 & 1293 & 563 & 715 & 331 & 1332 & 830 \\\\\n",
       "\t16 & 5419 & 10306 & 4321 & 2578 & 2052 & 3330 & 2946 & 18288 & 8305 & 2891 & 2172 & 2215 & 2502 & 3532 & 9524 & 103151 & 18551 & 5669 & 5098 & 7241 & 13617 & 1078 & 1679 & 550 & 2262 & 2180 & 1982 & 1768 & 840 & 1419 & 3213 & 2828 & 1659 & 158 & 2024 & 1024 & 1559 & 1839 & 1245 & 1369 & 1257 & 1868 & 3355 & 2503 & 3202 & 2434 & 5840 & 1170 & 1517 & 814 & 2359 & 3634 & 5042 & 4358 & 5497 & 8622 & 9021 & 13538 & 6992 & 1042 & 1308 & 1985 & 1726 & 2514 & 2994 & 1591 & 643 & 1369 & 961 & 628 & 102 & 1293 & 907 & 483 & 1123 & 658 & 1569 & 1358 & 492 & 1740 & 1004 & 1175 & 1441 & 761 & 1087 \\\\\n",
       "\t17 & 4221 & 5821 & 844 & 805 & 1030 & 913 & 1388 & 2374 & 854 & 733 & 154 & 248 & 163 & 413 & 2066 & 19043 & 71135 & 9051 & 4225 & 6208 & 17498 & 0 & 330 & 185 & 1260 & 1176 & 383 & 89 & 0 & 226 & 0 & 348 & 421 & 164 & 359 & 291 & 249 & 145 & 98 & 155 & 223 & 0 & 388 & 618 & 339 & 245 & 1799 & 331 & 566 & 0 & 977 & 173 & 349 & 244 & 73 & 407 & 1148 & 2572 & 1883 & 64 & 54 & 225 & 344 & 807 & 100 & 369 & 78 & 0 & 185 & 138 & 0 & 0 & 0 & 319 & 0 & 94 & 260 & 368 & 115 & 206 & 100 & 138 & 559 & 0 & 92 \\\\\n",
       "\t18 & 3308 & 2504 & 1305 & 403 & 463 & 696 & 1183 & 1319 & 434 & 0 & 0 & 103 & 276 & 0 & 1157 & 5638 & 9363 & 55269 & 8645 & 12370 & 5670 & 142 & 346 & 395 & 1091 & 1286 & 667 & 129 & 342 & 210 & 214 & 0 & 590 & 91 & 93 & 0 & 0 & 0 & 95 & 94 & 765 & 89 & 130 & 195 & 89 & 436 & 502 & 362 & 79 & 279 & 308 & 97 & 176 & 217 & 776 & 396 & 203 & 391 & 579 & 0 & 81 & 89 & 93 & 288 & 0 & 0 & 0 & 0 & 0 & 0 & 0 & 0 & 0 & 0 & 0 & 0 & 123 & 231 & 172 & 114 & 125 & 0 & 0 & 0 & 0 \\\\\n",
       "\t19 & 2470 & 3437 & 1452 & 975 & 614 & 582 & 926 & 2147 & 385 & 149 & 139 & 346 & 759 & 484 & 1998 & 4870 & 4919 & 8804 & 50085 & 15161 & 4748 & 624 & 835 & 761 & 1807 & 3988 & 1475 & 1378 & 570 & 832 & 1131 & 826 & 1112 & 210 & 334 & 58 & 266 & 347 & 95 & 402 & 294 & 268 & 245 & 340 & 291 & 530 & 824 & 327 & 111 & 52 & 1164 & 0 & 415 & 599 & 392 & 419 & 204 & 615 & 190 & 0 & 0 & 0 & 299 & 475 & 0 & 154 & 219 & 0 & 124 & 105 & 0 & 0 & 0 & 0 & 108 & 183 & 215 & 115 & 0 & 105 & 0 & 95 & 90 & 107 & 218 \\\\\n",
       "\t20 & 3150 & 5125 & 2858 & 610 & 1016 & 400 & 1328 & 1710 & 1743 & 608 & 531 & 585 & 447 & 563 & 865 & 7323 & 6182 & 12230 & 12516 & 81076 & 19154 & 3810 & 1123 & 2624 & 3286 & 6992 & 1594 & 1642 & 1976 & 1734 & 2905 & 1439 & 1460 & 0 & 491 & 326 & 630 & 379 & 253 & 487 & 279 & 451 & 0 & 130 & 653 & 322 & 1716 & 831 & 747 & 430 & 349 & 331 & 605 & 411 & 976 & 364 & 362 & 2230 & 686 & 20 & 263 & 240 & 101 & 376 & 0 & 127 & 0 & 0 & 147 & 124 & 0 & 155 & 107 & 0 & 256 & 213 & 579 & 127 & 275 & 294 & 200 & 363 & 198 & 483 & 346 \\\\\n",
       "\t21 & 6234 & 13644 & 4213 & 1702 & 1223 & 1169 & 1137 & 4750 & 1574 & 870 & 551 & 1076 & 730 & 245 & 1926 & 13312 & 18172 & 5099 & 3967 & 20274 & 74155 & 1764 & 1604 & 855 & 2347 & 3220 & 1339 & 2367 & 1555 & 647 & 749 & 634 & 1084 & 0 & 1137 & 611 & 488 & 164 & 591 & 272 & 470 & 784 & 382 & 917 & 257 & 706 & 846 & 858 & 618 & 342 & 1344 & 253 & 676 & 441 & 944 & 1055 & 715 & 1387 & 918 & 47 & 89 & 0 & 447 & 792 & 237 & 146 & 392 & 497 & 0 & 128 & 840 & 131 & 345 & 0 & 382 & 78 & 197 & 304 & 316 & 235 & 105 & 186 & 642 & 586 & 131 \\\\\n",
       "\t22 & 2177 & 1507 & 599 & 89 & 0 & 0 & 640 & 575 & 250 & 0 & 0 & 0 & 245 & 292 & 452 & 1078 & 0 & 0 & 410 & 3843 & 1645 & 70476 & 14793 & 14423 & 4535 & 4303 & 772 & 1510 & 406 & 169 & 337 & 616 & 0 & 76 & 0 & 0 & 0 & 215 & 0 & 0 & 0 & 0 & 0 & 249 & 103 & 0 & 308 & 391 & 94 & 90 & 409 & 0 & 0 & 0 & 0 & 119 & 0 & 103 & 119 & 0 & 0 & 0 & 98 & 318 & 0 & 0 & 0 & 89 & 0 & 0 & 0 & 0 & 69 & 0 & 76 & 0 & 0 & 0 & 0 & 0 & 109 & 0 & 0 & 0 & 0 \\\\\n",
       "\t23 & 3643 & 3005 & 1109 & 230 & 320 & 518 & 986 & 1764 & 889 & 435 & 136 & 146 & 212 & 438 & 489 & 1563 & 220 & 346 & 1045 & 1009 & 1301 & 14387 & 47212 & 15377 & 7337 & 7287 & 838 & 2078 & 349 & 90 & 110 & 450 & 0 & 253 & 0 & 0 & 0 & 0 & 0 & 91 & 0 & 0 & 176 & 0 & 220 & 376 & 228 & 0 & 0 & 197 & 430 & 180 & 112 & 0 & 217 & 0 & 0 & 337 & 192 & 0 & 0 & 119 & 104 & 110 & 204 & 0 & 0 & 0 & 0 & 70 & 0 & 0 & 0 & 0 & 0 & 94 & 0 & 0 & 0 & 0 & 0 & 0 & 216 & 163 & 136 \\\\\n",
       "\t24 & 2994 & 1290 & 969 & 478 & 313 & 327 & 339 & 572 & 314 & 237 & 0 & 0 & 154 & 155 & 535 & 550 & 185 & 507 & 689 & 2623 & 1044 & 14998 & 15505 & 43775 & 7753 & 3716 & 1428 & 1973 & 333 & 163 & 284 & 828 & 0 & 0 & 206 & 252 & 0 & 176 & 0 & 106 & 82 & 83 & 0 & 0 & 237 & 246 & 176 & 209 & 0 & 232 & 826 & 0 & 78 & 0 & 0 & 0 & 115 & 217 & 418 & 0 & 0 & 0 & 0 & 231 & 0 & 0 & 0 & 127 & 0 & 0 & 0 & 0 & 0 & 0 & 93 & 0 & 0 & 0 & 0 & 0 & 0 & 0 & 96 & 120 & 0 \\\\\n",
       "\t25 & 4448 & 3242 & 2623 & 906 & 1259 & 414 & 1051 & 1845 & 1265 & 596 & 0 & 272 & 104 & 1030 & 1929 & 2107 & 1260 & 985 & 1627 & 2791 & 2342 & 4561 & 6763 & 8195 & 76379 & 13804 & 1966 & 3644 & 1243 & 1408 & 1098 & 1546 & 494 & 0 & 467 & 44 & 477 & 0 & 0 & 0 & 0 & 0 & 0 & 310 & 416 & 255 & 728 & 452 & 213 & 112 & 1662 & 121 & 97 & 92 & 293 & 872 & 390 & 1003 & 520 & 91 & 79 & 0 & 122 & 233 & 98 & 267 & 0 & 220 & 77 & 130 & 92 & 0 & 0 & 0 & 87 & 0 & 262 & 105 & 203 & 177 & 104 & 181 & 297 & 90 & 102 \\\\\n",
       "\t26 & 3720 & 4055 & 7246 & 2353 & 1873 & 742 & 1075 & 1972 & 896 & 1060 & 385 & 1212 & 436 & 227 & 1354 & 2391 & 1186 & 1190 & 3723 & 6556 & 3876 & 4086 & 6704 & 3456 & 13558 & 67081 & 3709 & 6449 & 5987 & 1601 & 3980 & 3898 & 2365 & 176 & 631 & 464 & 278 & 244 & 732 & 102 & 523 & 147 & 236 & 270 & 249 & 417 & 911 & 256 & 97 & 0 & 780 & 293 & 424 & 71 & 597 & 1039 & 524 & 1355 & 226 & 19 & 309 & 140 & 0 & 323 & 325 & 0 & 0 & 120 & 376 & 92 & 0 & 0 & 122 & 327 & 0 & 577 & 190 & 242 & 418 & 708 & 306 & 741 & 773 & 114 & 0 \\\\\n",
       "\t27 & 3629 & 2453 & 1406 & 637 & 101 & 818 & 664 & 655 & 405 & 157 & 185 & 367 & 503 & 286 & 541 & 1974 & 383 & 667 & 1691 & 1950 & 1434 & 669 & 838 & 1428 & 1791 & 3821 & 47526 & 8615 & 10321 & 2300 & 1912 & 3154 & 907 & 178 & 82 & 0 & 378 & 187 & 174 & 0 & 0 & 238 & 295 & 99 & 0 & 218 & 365 & 92 & 0 & 76 & 666 & 140 & 0 & 0 & 0 & 0 & 363 & 543 & 285 & 21 & 203 & 0 & 0 & 130 & 86 & 0 & 145 & 116 & 0 & 0 & 0 & 0 & 122 & 81 & 0 & 0 & 0 & 121 & 494 & 96 & 0 & 0 & 0 & 0 & 92 \\\\\n",
       "\t28 & 2625 & 4683 & 8217 & 2337 & 1463 & 1431 & 513 & 1369 & 1556 & 922 & 321 & 470 & 831 & 719 & 809 & 1983 & 218 & 0 & 1576 & 1886 & 2172 & 1026 & 2518 & 2038 & 3163 & 7265 & 8352 & 43473 & 4195 & 2228 & 3449 & 9273 & 1262 & 0 & 417 & 291 & 0 & 252 & 223 & 101 & 121 & 535 & 100 & 261 & 83 & 296 & 489 & 629 & 0 & 353 & 1294 & 203 & 237 & 0 & 141 & 133 & 551 & 660 & 339 & 18 & 0 & 0 & 0 & 112 & 154 & 214 & 0 & 112 & 76 & 0 & 157 & 0 & 228 & 0 & 0 & 372 & 0 & 0 & 82 & 172 & 154 & 92 & 124 & 0 & 0 \\\\\n",
       "\t29 & 4483 & 3822 & 2109 & 1127 & 1634 & 878 & 373 & 916 & 1243 & 190 & 0 & 225 & 124 & 594 & 696 & 868 & 0 & 342 & 570 & 1972 & 1713 & 293 & 462 & 333 & 1352 & 6441 & 10414 & 3970 & 67885 & 5163 & 5002 & 7330 & 1186 & 107 & 221 & 92 & 259 & 0 & 190 & 511 & 97 & 352 & 0 & 94 & 323 & 0 & 0 & 0 & 119 & 98 & 1908 & 155 & 0 & 0 & 0 & 187 & 184 & 0 & 84 & 18 & 0 & 0 & 104 & 236 & 0 & 0 & 0 & 104 & 0 & 0 & 0 & 0 & 396 & 0 & 111 & 0 & 121 & 94 & 0 & 0 & 158 & 0 & 103 & 0 & 104 \\\\\n",
       "\t30 & 2872 & 2417 & 1381 & 757 & 1163 & 823 & 309 & 1308 & 886 & 476 & 82 & 227 & 570 & 0 & 569 & 1306 & 226 & 210 & 832 & 1595 & 647 & 169 & 90 & 98 & 1311 & 1940 & 2176 & 2443 & 5379 & 71636 & 13458 & 1792 & 1413 & 269 & 505 & 0 & 353 & 122 & 0 & 281 & 81 & 0 & 138 & 476 & 0 & 262 & 541 & 101 & 0 & 0 & 338 & 193 & 0 & 0 & 0 & 0 & 104 & 272 & 80 & 0 & 0 & 0 & 87 & 185 & 0 & 0 & 0 & 0 & 101 & 0 & 0 & 0 & 0 & 0 & 0 & 0 & 249 & 0 & 0 & 0 & 0 & 0 & 297 & 0 & 80 \\\\\n",
       "\t$\\dots$ & $\\dots$ & $\\dots$ & $\\dots$ & $\\dots$ & $\\dots$ & $\\dots$ & $\\dots$ & $\\dots$ & $\\dots$ & $\\dots$ & $\\dots$ & $\\dots$ & $\\dots$ & $\\dots$ & $\\dots$ & $\\dots$ & $\\dots$ & $\\dots$ & $\\dots$ & $\\dots$ & $\\dots$ & $\\dots$ & $\\dots$ & $\\dots$ & $\\dots$ & $\\dots$ & $\\dots$ & $\\dots$ & $\\dots$ & $\\dots$ & $\\dots$ & $\\dots$ & $\\dots$ & $\\dots$ & $\\dots$ & $\\dots$ & $\\dots$ & $\\dots$ & $\\dots$ & $\\dots$ & $\\dots$ & $\\dots$ & $\\dots$ & $\\dots$ & $\\dots$ & $\\dots$ & $\\dots$ & $\\dots$ & $\\dots$ & $\\dots$ & $\\dots$ & $\\dots$ & $\\dots$ & $\\dots$ & $\\dots$ & $\\dots$ & $\\dots$ & $\\dots$ & $\\dots$ & $\\dots$ & $\\dots$ & $\\dots$ & $\\dots$ & $\\dots$ & $\\dots$ & $\\dots$ & $\\dots$ & $\\dots$ & $\\dots$ & $\\dots$ & $\\dots$ & $\\dots$ & $\\dots$ & $\\dots$ & $\\dots$ & $\\dots$ & $\\dots$ & $\\dots$ & $\\dots$ & $\\dots$ & $\\dots$ & $\\dots$ & $\\dots$ & $\\dots$ & $\\dots$ \\\\\n",
       "\\end{tabular}\n"
      ],
      "text/plain": [
       "85×85 DataFrame. Omitted printing of 85 columns\n",
       "│ Row │ │     │ ├─────┼\n",
       "│ 1   │ │ 2   │ │ 3   │ │ 4   │ │ 5   │ │ 6   │ │ 7   │ │ 8   │ │ 9   │ │ 10  │ \n",
       "⋮\n",
       "│ 75  │ │ 76  │ │ 77  │ │ 78  │ │ 79  │ │ 80  │ │ 81  │ │ 82  │ │ 83  │ │ 84  │ │ 85  │ "
      ]
     },
     "execution_count": 4,
     "metadata": {},
     "output_type": "execute_result"
    }
   ],
   "source": [
    "using CSV, DataFrames\n",
    "\n",
    "od_df = CSV.File(\"O-D_cdmx.csv\") |> DataFrame"
   ]
  },
  {
   "cell_type": "markdown",
   "metadata": {
    "hidden": true,
    "kernel": "Julia"
   },
   "source": [
    "Now for processing this data I will put it into a matrix (the adjacency matrix) supposing that **the weight of one path with a potential number of users is inversely proportional to the number of users**, i. e. the more potential users a link will have the less costful will be to build it.\n",
    "\n",
    "$$w_{1} \\propto \\frac{1}{\\text{no. of users}}$$"
   ]
  },
  {
   "cell_type": "code",
   "execution_count": 5,
   "metadata": {
    "collapsed": true,
    "hidden": true,
    "kernel": "Julia"
   },
   "outputs": [
    {
     "data": {
      "text/plain": [
       "85×85 Array{Float64,2}:\n",
       " 0.0          8.01667e-5     5.93296e-5   …    0.000315557  0.000376648\n",
       " 7.51089e-5   0.0            5.04236e-5        0.000880282  0.00136426 \n",
       " 6.55566e-5   5.03018e-5     0.0             Inf            0.00357143 \n",
       " 9.41176e-5   0.000200763    0.0001485         0.00266667   0.00131062 \n",
       " 9.64785e-5   0.000154036    0.000561482       0.0035461    0.00137174 \n",
       " 0.000109818  0.000235183    0.00132275   …    0.000449236  0.00071582 \n",
       " 9.90001e-5   0.000190114    0.000254323       0.000844595  0.000875657\n",
       " 0.000178795  7.30994e-5     0.000282885       0.00120337   0.000571755\n",
       " 0.00039185   0.000192864    0.00162602        0.0015949    0.00152439 \n",
       " 0.000171468  0.000272183    0.0015083         0.00161031   0.000613874\n",
       " 0.000362713  0.000769231    0.0037037    …    0.00346021   0.00218818 \n",
       " 0.000147319  0.000405186    0.00280112        0.000600601  0.000738552\n",
       " 0.00020008   0.000216591    0.00169779        0.000892061  0.000974659\n",
       " ⋮                                        ⋱                            \n",
       " 0.000725163  0.00143678     0.0120482         0.00170648   0.00735294 \n",
       " 0.000841043  0.00261097   Inf                 0.00230947   0.00763359 \n",
       " 0.00041684   0.00278552     0.00854701   …    0.00185529   0.0031348  \n",
       " 0.00023546   0.00125628     0.00420168        0.000473709  0.000935454\n",
       " 0.000430478  0.00056338     0.00657895        0.000103563  0.00049505 \n",
       " 0.000301114  0.00160256     0.00187617        8.06582e-5   0.00104712 \n",
       " 0.000289268  0.00120192     0.00161812        0.000233536  0.000659631\n",
       " 0.000494071  0.000859107    0.00377358   …    0.000266738  0.0017331  \n",
       " 0.000244978  0.000761615    0.00240385        0.000959693  0.000458505\n",
       " 0.000263992  0.000858369    0.00204499        0.000132398  0.000159566\n",
       " 0.000340368  0.000738007  Inf                 0.0          0.000161005\n",
       " 0.000413907  0.00136426     0.00510204        0.000165782  0.0        "
      ]
     },
     "execution_count": 5,
     "metadata": {},
     "output_type": "execute_result"
    }
   ],
   "source": [
    "adj_matrix = Array{Float64}(undef, 85, 85)\n",
    "\n",
    "for ci in 1:85\n",
    "    c = coalesce.(od_df[:][ci], 0.0)\n",
    "    for ri in 1:85\n",
    "        if ci == ri\n",
    "            adj_matrix[ri,ci] = 0\n",
    "        else \n",
    "            adj_matrix[ri,ci] = 1/c[ri]\n",
    "        end\n",
    "    end \n",
    "end \n",
    "\n",
    "adj_matrix"
   ]
  },
  {
   "cell_type": "markdown",
   "metadata": {
    "hidden": true,
    "kernel": "Julia"
   },
   "source": [
    "I will take the constant of proportionality so that the biggest (finite) weight possible is 1, this can be modified according to the importance of this variable into the total weights."
   ]
  },
  {
   "cell_type": "code",
   "execution_count": 6,
   "metadata": {
    "collapsed": true,
    "hidden": true,
    "kernel": "Julia"
   },
   "outputs": [
    {
     "data": {
      "text/plain": [
       "85×85 Array{Float64,2}:\n",
       " 0.0          0.000881834    0.000652625  …    0.00347113  0.00414313\n",
       " 0.000826198  0.0            0.000554659       0.0096831   0.0150068 \n",
       " 0.000721122  0.00055332     0.0             Inf           0.0392857 \n",
       " 0.00103529   0.00220839     0.0016335         0.0293333   0.0144168 \n",
       " 0.00106126   0.00169439     0.00617631        0.0390071   0.0150892 \n",
       " 0.00120799   0.00258702     0.0145503    …    0.0049416   0.00787402\n",
       " 0.001089     0.00209125     0.00279756        0.00929054  0.00963222\n",
       " 0.00196674   0.000804094    0.00311174        0.0132371   0.00628931\n",
       " 0.00431034   0.0021215      0.0178862         0.0175439   0.0167683 \n",
       " 0.00188615   0.00299401     0.0165913         0.0177134   0.00675261\n",
       " 0.00398984   0.00846154     0.0407407    …    0.0380623   0.02407   \n",
       " 0.00162051   0.00445705     0.0308123         0.00660661  0.00812408\n",
       " 0.00220088   0.0023825      0.0186757         0.00981267  0.0107212 \n",
       " ⋮                                        ⋱                          \n",
       " 0.00797679   0.0158046      0.13253           0.0187713   0.0808824 \n",
       " 0.00925147   0.0287206    Inf                 0.0254042   0.0839695 \n",
       " 0.00458524   0.0306407      0.0940171    …    0.0204082   0.0344828 \n",
       " 0.00259006   0.0138191      0.0462185         0.0052108   0.01029   \n",
       " 0.00473526   0.00619718     0.0723684         0.00113919  0.00544554\n",
       " 0.00331226   0.0176282      0.0206379         0.00088724  0.0115183 \n",
       " 0.00318195   0.0132212      0.0177994         0.00256889  0.00725594\n",
       " 0.00543478   0.00945017     0.0415094    …    0.00293412  0.0190641 \n",
       " 0.00269476   0.00837776     0.0264423         0.0105566   0.00504356\n",
       " 0.00290391   0.00944206     0.0224949         0.00145637  0.00175523\n",
       " 0.00374404   0.00811808   Inf                 0.0         0.00177105\n",
       " 0.00455298   0.0150068      0.0561224         0.00182361  0.0       "
      ]
     },
     "execution_count": 6,
     "metadata": {},
     "output_type": "execute_result"
    }
   ],
   "source": [
    "M = adj_matrix[1,1]\n",
    "for ci in 1:85\n",
    "    for ri in 1:84\n",
    "        if M < adj_matrix[ri+1,ci] && adj_matrix[ri+1,ci] != Inf\n",
    "            M = adj_matrix[ri+1,ci]\n",
    "        end\n",
    "    end \n",
    "end \n",
    "\n",
    "weight₁=adj_matrix/M"
   ]
  },
  {
   "cell_type": "markdown",
   "metadata": {
    "hidden": true,
    "kernel": "Julia"
   },
   "source": [
    "***\n",
    "### Considering the distance between nodes\n",
    "\n",
    "Now I will import the data obtained with qGIS from the locations of the centroids of *Distritos de Tránsito* to calculate the second term of the weight series, as a function of the distance between each pair of nodes. I am supposing that a node is well connected when there is a path going trough (or pretty near) its centroid."
   ]
  },
  {
   "cell_type": "code",
   "execution_count": 7,
   "metadata": {
    "collapsed": true,
    "hidden": true,
    "kernel": "Julia"
   },
   "outputs": [
    {
     "data": {
      "text/html": [
       "<table class=\"data-frame\"><thead><tr><th></th><th>Nombre</th><th>lat</th><th>lon</th></tr><tr><th></th><th>String⍰</th><th>Float64⍰</th><th>Float64⍰</th></tr></thead><tbody><p>85 rows × 3 columns</p><tr><th>1</th><td>Centro Histórico</td><td>19.4334</td><td>-99.1374</td></tr><tr><th>2</th><td>Buenavista-Reforma</td><td>19.4428</td><td>-99.1583</td></tr><tr><th>3</th><td>Tlatelolco</td><td>19.4526</td><td>-99.1352</td></tr><tr><th>4</th><td>Morelos</td><td>19.4363</td><td>-99.1163</td></tr><tr><th>5</th><td>Moctezuma, Terminal de Autobuses de Oriente (TAPO)</td><td>19.4375</td><td>-99.1006</td></tr><tr><th>6</th><td>Balbuena</td><td>19.4129</td><td>-99.1195</td></tr><tr><th>7</th><td>Obrera</td><td>19.4145</td><td>-99.1448</td></tr><tr><th>8</th><td>Condesa</td><td>19.4114</td><td>-99.1683</td></tr><tr><th>9</th><td>Nápoles</td><td>19.3934</td><td>-99.1724</td></tr><tr><th>10</th><td>Vertiz Narvarte</td><td>19.394</td><td>-99.1469</td></tr><tr><th>11</th><td>Reforma Iztaccíhuatl</td><td>19.3916</td><td>-99.1304</td></tr><tr><th>12</th><td>Palacio de los Deportes</td><td>19.3947</td><td>-99.1107</td></tr><tr><th>13</th><td>San Andrés Tetepilco</td><td>19.3722</td><td>-99.1257</td></tr><tr><th>14</th><td>Portales</td><td>19.3699</td><td>-99.1535</td></tr><tr><th>15</th><td>Del Valle</td><td>19.3756</td><td>-99.1759</td></tr><tr><th>16</th><td>Chapultepec-Polanco</td><td>19.4302</td><td>-99.1927</td></tr><tr><th>17</th><td>Panteones</td><td>19.4613</td><td>-99.1987</td></tr><tr><th>18</th><td>Tezozómoc</td><td>19.4865</td><td>-99.2075</td></tr><tr><th>19</th><td>El Rosario</td><td>19.5009</td><td>-99.1909</td></tr><tr><th>20</th><td>Industrial Vallejo</td><td>19.4832</td><td>-99.1702</td></tr><tr><th>21</th><td>La Raza</td><td>19.4584</td><td>-99.1683</td></tr><tr><th>22</th><td>Cuautepec</td><td>19.5684</td><td>-99.1304</td></tr><tr><th>23</th><td>Reclusorio Norte</td><td>19.5389</td><td>-99.1492</td></tr><tr><th>24</th><td>Ticomán</td><td>19.5386</td><td>-99.1314</td></tr><tr><th>25</th><td>Nueva Industrial Vallejo</td><td>19.513</td><td>-99.141</td></tr><tr><th>26</th><td>Instituto Politécnico, Terminal de Autobuses del Norte</td><td>19.4901</td><td>-99.139</td></tr><tr><th>27</th><td>Tepeyac</td><td>19.498</td><td>-99.1064</td></tr><tr><th>28</th><td>La Villa</td><td>19.4748</td><td>-99.1241</td></tr><tr><th>29</th><td>Nueva Atzacoalco</td><td>19.4932</td><td>-99.0921</td></tr><tr><th>30</th><td>San Felipe de Jesús</td><td>19.4911</td><td>-99.0757</td></tr><tr><th>&vellip;</th><td>&vellip;</td><td>&vellip;</td><td>&vellip;</td></tr></tbody></table>"
      ],
      "text/latex": [
       "\\begin{tabular}{r|ccc}\n",
       "\t& Nombre & lat & lon\\\\\n",
       "\t\\hline\n",
       "\t& String⍰ & Float64⍰ & Float64⍰\\\\\n",
       "\t\\hline\n",
       "\t1 & Centro Histórico & 19.4334 & -99.1374 \\\\\n",
       "\t2 & Buenavista-Reforma & 19.4428 & -99.1583 \\\\\n",
       "\t3 & Tlatelolco & 19.4526 & -99.1352 \\\\\n",
       "\t4 & Morelos & 19.4363 & -99.1163 \\\\\n",
       "\t5 & Moctezuma, Terminal de Autobuses de Oriente (TAPO) & 19.4375 & -99.1006 \\\\\n",
       "\t6 & Balbuena & 19.4129 & -99.1195 \\\\\n",
       "\t7 & Obrera & 19.4145 & -99.1448 \\\\\n",
       "\t8 & Condesa & 19.4114 & -99.1683 \\\\\n",
       "\t9 & Nápoles & 19.3934 & -99.1724 \\\\\n",
       "\t10 & Vertiz Narvarte & 19.394 & -99.1469 \\\\\n",
       "\t11 & Reforma Iztaccíhuatl & 19.3916 & -99.1304 \\\\\n",
       "\t12 & Palacio de los Deportes & 19.3947 & -99.1107 \\\\\n",
       "\t13 & San Andrés Tetepilco & 19.3722 & -99.1257 \\\\\n",
       "\t14 & Portales & 19.3699 & -99.1535 \\\\\n",
       "\t15 & Del Valle & 19.3756 & -99.1759 \\\\\n",
       "\t16 & Chapultepec-Polanco & 19.4302 & -99.1927 \\\\\n",
       "\t17 & Panteones & 19.4613 & -99.1987 \\\\\n",
       "\t18 & Tezozómoc & 19.4865 & -99.2075 \\\\\n",
       "\t19 & El Rosario & 19.5009 & -99.1909 \\\\\n",
       "\t20 & Industrial Vallejo & 19.4832 & -99.1702 \\\\\n",
       "\t21 & La Raza & 19.4584 & -99.1683 \\\\\n",
       "\t22 & Cuautepec & 19.5684 & -99.1304 \\\\\n",
       "\t23 & Reclusorio Norte & 19.5389 & -99.1492 \\\\\n",
       "\t24 & Ticomán & 19.5386 & -99.1314 \\\\\n",
       "\t25 & Nueva Industrial Vallejo & 19.513 & -99.141 \\\\\n",
       "\t26 & Instituto Politécnico, Terminal de Autobuses del Norte & 19.4901 & -99.139 \\\\\n",
       "\t27 & Tepeyac & 19.498 & -99.1064 \\\\\n",
       "\t28 & La Villa & 19.4748 & -99.1241 \\\\\n",
       "\t29 & Nueva Atzacoalco & 19.4932 & -99.0921 \\\\\n",
       "\t30 & San Felipe de Jesús & 19.4911 & -99.0757 \\\\\n",
       "\t$\\dots$ & $\\dots$ & $\\dots$ & $\\dots$ \\\\\n",
       "\\end{tabular}\n"
      ],
      "text/plain": [
       "85×3 DataFrame. Omitted printing of 1 columns\n",
       "│ Row │ Nombre                                             │ lat      │\n",
       "│     │ \u001b[90mUnion{Missing, String}\u001b[39m                             │ \u001b[90mFloat64⍰\u001b[39m │\n",
       "├─────┼────────────────────────────────────────────────────┼──────────┤\n",
       "│ 1   │ Centro Histórico                                   │ 19.4334  │\n",
       "│ 2   │ Buenavista-Reforma                                 │ 19.4428  │\n",
       "│ 3   │ Tlatelolco                                         │ 19.4526  │\n",
       "│ 4   │ Morelos                                            │ 19.4363  │\n",
       "│ 5   │ Moctezuma, Terminal de Autobuses de Oriente (TAPO) │ 19.4375  │\n",
       "│ 6   │ Balbuena                                           │ 19.4129  │\n",
       "│ 7   │ Obrera                                             │ 19.4145  │\n",
       "│ 8   │ Condesa                                            │ 19.4114  │\n",
       "│ 9   │ Nápoles                                            │ 19.3934  │\n",
       "│ 10  │ Vertiz Narvarte                                    │ 19.394   │\n",
       "⋮\n",
       "│ 75  │ Mixquic                                            │ 19.2502  │\n",
       "│ 76  │ Santa Catarina                                     │ 19.3014  │\n",
       "│ 77  │ Reclusorio Oriente                                 │ 19.319   │\n",
       "│ 78  │ Desarrollo Urbano Quetzalcóatl                     │ 19.3331  │\n",
       "│ 79  │ Buenavista Iztapalapa                              │ 19.3312  │\n",
       "│ 80  │ Santa María de Xalpa                               │ 19.3373  │\n",
       "│ 81  │ San Miguel Teotongo                                │ 19.3169  │\n",
       "│ 82  │ Santa Martha Acatitla                              │ 19.3782  │\n",
       "│ 83  │ Juan Escutia                                       │ 19.3685  │\n",
       "│ 84  │ Santa Cruz Meyehualco                              │ 19.3537  │\n",
       "│ 85  │ Ejército Constitucionalista                        │ 19.3798  │"
      ]
     },
     "execution_count": 7,
     "metadata": {},
     "output_type": "execute_result"
    }
   ],
   "source": [
    "centroids_df = CSV.File(\"cdmx_distritos/cdmx_centroides_trim.csv\") |> DataFrame"
   ]
  },
  {
   "cell_type": "markdown",
   "metadata": {
    "hidden": true,
    "kernel": "Julia"
   },
   "source": [
    "Calculating the distance between each pair of nodes and storing it in a matrix:"
   ]
  },
  {
   "cell_type": "code",
   "execution_count": 8,
   "metadata": {
    "collapsed": true,
    "hidden": true,
    "kernel": "Julia"
   },
   "outputs": [
    {
     "data": {
      "text/plain": [
       "85-element Array{Any,1}:\n",
       " [19.4334, -99.1374]\n",
       " [19.4428, -99.1583]\n",
       " [19.4526, -99.1352]\n",
       " [19.4363, -99.1163]\n",
       " [19.4375, -99.1006]\n",
       " [19.4129, -99.1195]\n",
       " [19.4145, -99.1448]\n",
       " [19.4114, -99.1683]\n",
       " [19.3934, -99.1724]\n",
       " [19.394, -99.1469] \n",
       " [19.3916, -99.1304]\n",
       " [19.3947, -99.1107]\n",
       " [19.3722, -99.1257]\n",
       " ⋮                  \n",
       " [19.2842, -99.0372]\n",
       " [19.2502, -98.9896]\n",
       " [19.3014, -99.0283]\n",
       " [19.319, -99.0597] \n",
       " [19.3331, -99.047] \n",
       " [19.3312, -99.0279]\n",
       " [19.3373, -99.0058]\n",
       " [19.3169, -98.9917]\n",
       " [19.3782, -99.0184]\n",
       " [19.3685, -99.0224]\n",
       " [19.3537, -99.0393]\n",
       " [19.3798, -99.0501]"
      ]
     },
     "execution_count": 8,
     "metadata": {},
     "output_type": "execute_result"
    }
   ],
   "source": [
    "centroid_array = Array{Float64}(undef, 85, 2)\n",
    "\n",
    "for ci in 2:3\n",
    "    c = coalesce.(centroids_df[:][ci], 0.0)\n",
    "    for ri in 1:85 \n",
    "        centroid_array[ri,ci-1] = c[ri]\n",
    "    end \n",
    "end\n",
    "\n",
    "centroid_list = []\n",
    "\n",
    "for ri in 1:85\n",
    "    push!(centroid_list, [centroid_array[ri,1],centroid_array[ri,2]]) \n",
    "end\n",
    "\n",
    "centroid_list"
   ]
  },
  {
   "cell_type": "code",
   "execution_count": 9,
   "metadata": {
    "collapsed": true,
    "hidden": true,
    "kernel": "Julia"
   },
   "outputs": [
    {
     "data": {
      "text/plain": [
       "85×85 Array{Float64,2}:\n",
       " 0.0        0.0229374  0.0193748  …  0.132096   0.126393   0.102377 \n",
       " 0.0229374  0.0        0.0250832     0.154953   0.148681   0.125163 \n",
       " 0.0193748  0.0250832  0.0           0.140818   0.137825   0.111991 \n",
       " 0.0212961  0.0424989  0.0249799     0.115912   0.112968   0.0870112\n",
       " 0.0370396  0.0579678  0.037813      0.104348   0.103831   0.0766187\n",
       " 0.0272301  0.049025   0.0427651  …  0.106792   0.0996627  0.0768058\n",
       " 0.0202749  0.0313507  0.0393093     0.130814   0.121784   0.100812 \n",
       " 0.0379106  0.0329021  0.0528242     0.152161   0.141374   0.122341 \n",
       " 0.0531572  0.0513881  0.0699468     0.152093   0.138907   0.123012 \n",
       " 0.0404436  0.0500613  0.0597165     0.127106   0.114904   0.0977673\n",
       " 0.0423468  0.0582857  0.0612136  …  0.110521   0.0987193  0.0811537\n",
       " 0.0470071  0.0676821  0.0629291     0.0921573  0.0823486  0.0623641\n",
       " 0.0622819  0.0777445  0.0809959     0.103456   0.0884298  0.0760036\n",
       " ⋮                                ⋱                                 \n",
       " 0.179719   0.199559   0.194909      0.0855992  0.06959    0.0965577\n",
       " 0.235402   0.256071   0.249416      0.122743   0.114852   0.14312  \n",
       " 0.171242   0.192092   0.185233   …  0.0672958  0.0534457  0.0814241\n",
       " 0.13824    0.158232   0.153479      0.0620018  0.0403116  0.0616065\n",
       " 0.135002   0.156269   0.148574      0.0431328  0.0220533  0.0468754\n",
       " 0.149781   0.171654   0.162092      0.0376825  0.0252426  0.0535066\n",
       " 0.16295    0.185453   0.173387      0.0353086  0.0372822  0.0614627\n",
       " 0.186521   0.208814   0.197543   …  0.0599691  0.0601388  0.0858751\n",
       " 0.131174   0.15411    0.138551      0.010468   0.0321215  0.031758 \n",
       " 0.132096   0.154953   0.140818      0.0        0.02243    0.0300188\n",
       " 0.126393   0.148681   0.137825      0.02243    0.0        0.0282998\n",
       " 0.102377   0.125163   0.111991      0.0300188  0.0282998  0.0      "
      ]
     },
     "execution_count": 9,
     "metadata": {},
     "output_type": "execute_result"
    }
   ],
   "source": [
    "using LinearAlgebra\n",
    "\n",
    "distance_matrix = Array{Float64}(undef, 85, 85)\n",
    "\n",
    "for ri in 1:85\n",
    "    for ci in 1:85\n",
    "        distance_matrix[ri,ci] = norm(centroid_list[ci] - centroid_list[ri])\n",
    "    end\n",
    "end\n",
    "\n",
    "distance_matrix"
   ]
  },
  {
   "cell_type": "markdown",
   "metadata": {
    "hidden": true,
    "kernel": "Julia"
   },
   "source": [
    "The last matrix represents **the cost of each edge due to its longitude**, making the assuption that the cost of a path is indeed proportional to the distance the path covers.\n",
    "\n",
    "$$w_{2} \\propto {\\text{distance}}$$\n",
    "\n",
    "Once again, I will take the constant of proportionality so that the biggest (finite) weight possible is 1, this can be modified according to the importance of this variable into the total weights."
   ]
  },
  {
   "cell_type": "code",
   "execution_count": 10,
   "metadata": {
    "collapsed": true,
    "hidden": true,
    "kernel": "Julia"
   },
   "outputs": [
    {
     "data": {
      "text/plain": [
       "85×85 Array{Float64,2}:\n",
       " 0.0        0.0525858  0.0444182  …  0.302841   0.289766   0.234708 \n",
       " 0.0525858  0.0        0.0575052     0.355242   0.340863   0.286945 \n",
       " 0.0444182  0.0575052  0.0           0.322836   0.315974   0.256748 \n",
       " 0.0488231  0.0974321  0.0572685     0.265737   0.258989   0.19948  \n",
       " 0.0849163  0.132896   0.0866894     0.239226   0.23804    0.175655 \n",
       " 0.0624272  0.112394   0.0980423  …  0.244829   0.228485   0.176083 \n",
       " 0.0464818  0.0718741  0.0901198     0.299901   0.2792     0.23112  \n",
       " 0.0869132  0.0754308  0.121104      0.348842   0.324111   0.280476 \n",
       " 0.121867   0.117811   0.160359      0.348684   0.318455   0.282015 \n",
       " 0.0927201  0.11477    0.136905      0.291401   0.263426   0.224139 \n",
       " 0.0970834  0.133625   0.140337   …  0.253379   0.226322   0.186051 \n",
       " 0.107767   0.155167   0.14427       0.211278   0.188791   0.142975 \n",
       " 0.142786   0.178235   0.18569       0.237181   0.202732   0.174244 \n",
       " ⋮                                ⋱                                 \n",
       " 0.41202    0.457506   0.446844      0.196243   0.159541   0.221366 \n",
       " 0.539679   0.587064   0.571807      0.281398   0.263309   0.328114 \n",
       " 0.392587   0.440387   0.42466    …  0.154281   0.122529   0.186671 \n",
       " 0.316925   0.362759   0.351863      0.142144   0.0924175  0.141238 \n",
       " 0.309503   0.358259   0.340619      0.0988855  0.0505589  0.107466 \n",
       " 0.343385   0.39353    0.371609      0.0863901  0.0578708  0.122668 \n",
       " 0.373576   0.425166   0.397503      0.0809478  0.0854724  0.140908 \n",
       " 0.427614   0.478723   0.452884   …  0.137484   0.137873   0.196875 \n",
       " 0.300727   0.35331    0.31764       0.0239987  0.0736412  0.0728078\n",
       " 0.302841   0.355242   0.322836      0.0        0.0514227  0.0688205\n",
       " 0.289766   0.340863   0.315974      0.0514227  0.0        0.0648797\n",
       " 0.234708   0.286945   0.256748      0.0688205  0.0648797  0.0      "
      ]
     },
     "execution_count": 10,
     "metadata": {},
     "output_type": "execute_result"
    }
   ],
   "source": [
    "M = distance_matrix[1,1]\n",
    "for ci in 1:85\n",
    "    for ri in 1:84\n",
    "        if M < distance_matrix[ri+1,ci] && distance_matrix[ri+1,ci] != Inf\n",
    "            M = distance_matrix[ri+1,ci]\n",
    "        end\n",
    "    end \n",
    "end \n",
    "\n",
    "weight₂ = distance_matrix/M"
   ]
  },
  {
   "cell_type": "markdown",
   "metadata": {
    "hidden": true,
    "kernel": "Julia"
   },
   "source": [
    "***\n",
    "### Calculating the total\n",
    "Adding the first and second weight I get the total weight of each possible vertex (considering only this two terms):"
   ]
  },
  {
   "cell_type": "code",
   "execution_count": 11,
   "metadata": {
    "collapsed": true,
    "hidden": true,
    "kernel": "Julia"
   },
   "outputs": [
    {
     "data": {
      "text/plain": [
       "85×85 Array{Float64,2}:\n",
       " 0.0        0.0534676    0.0450708  …  0.305769     0.293237   0.238851 \n",
       " 0.053412   0.0          0.0580598     0.363581     0.350546   0.301952 \n",
       " 0.0451393  0.0580585    0.0           0.349997   Inf          0.296034 \n",
       " 0.0498584  0.0996405    0.058902      0.273976     0.288322   0.213897 \n",
       " 0.0859775  0.13459      0.0928657     0.249864     0.277047   0.190744 \n",
       " 0.0636352  0.114981     0.112593   …  0.258841     0.233426   0.183957 \n",
       " 0.0475708  0.0739653    0.0929174     0.306763     0.28849    0.240752 \n",
       " 0.0888799  0.0762349    0.124215      0.364489     0.337348   0.286765 \n",
       " 0.126178   0.119933     0.178245      0.380294     0.335998   0.298783 \n",
       " 0.0946063  0.117764     0.153496      0.327585     0.281139   0.230892 \n",
       " 0.101073   0.142086     0.181078   …  0.345046     0.264384   0.210121 \n",
       " 0.109388   0.159624     0.175082      0.223106     0.195397   0.151099 \n",
       " 0.144987   0.180618     0.204365      0.258133     0.212545   0.184966 \n",
       " ⋮                                  ⋱                                   \n",
       " 0.419997   0.47331      0.579374      0.220962     0.178312   0.302249 \n",
       " 0.54893    0.615785   Inf             0.298532     0.288713   0.412083 \n",
       " 0.397172   0.471028     0.518678   …  0.199363     0.142937   0.221154 \n",
       " 0.319515   0.376578     0.398082      0.149255     0.0976283  0.151528 \n",
       " 0.314239   0.364456     0.412987      0.104675     0.0516981  0.112911 \n",
       " 0.346698   0.411159     0.392247      0.0978127    0.058758   0.134186 \n",
       " 0.376758   0.438387     0.415302      0.0847739    0.0880413  0.148164 \n",
       " 0.433049   0.488173     0.494393   …  0.141936     0.140807   0.21594  \n",
       " 0.303422   0.361688     0.344082      0.0259683    0.0841978  0.0778514\n",
       " 0.305745   0.364684     0.345331      0.0          0.052879   0.0705757\n",
       " 0.29351    0.348981   Inf             0.0528402    0.0        0.0666507\n",
       " 0.239261   0.301952     0.312871      0.0706076    0.0667033  0.0      "
      ]
     },
     "execution_count": 11,
     "metadata": {},
     "output_type": "execute_result"
    }
   ],
   "source": [
    "total_weight = weight₁ + weight₂"
   ]
  },
  {
   "cell_type": "markdown",
   "metadata": {
    "heading_collapsed": true,
    "kernel": "Julia"
   },
   "source": [
    "## Imposing the geographical constrictions"
   ]
  },
  {
   "cell_type": "markdown",
   "metadata": {
    "hidden": true,
    "kernel": "Julia"
   },
   "source": [
    "Now I will impose the geographical constrictions between pairs, allowing to travel between geographically adjacent pairs of *distritos*. The information about neighoring pairs was obtained using qGIS and expanded by hand."
   ]
  },
  {
   "cell_type": "code",
   "execution_count": 12,
   "metadata": {
    "collapsed": true,
    "hidden": true,
    "kernel": "Julia"
   },
   "outputs": [
    {
     "data": {
      "text/html": [
       "<table class=\"data-frame\"><thead><tr><th></th><th>o_lat</th><th>o_lon</th><th>d_lat</th><th>d_lon</th></tr><tr><th></th><th>Any</th><th>Any</th><th>Any</th><th>Any</th></tr></thead><tbody><p>452 rows × 4 columns</p><tr><th>1</th><td>19.4334</td><td>-99.1374</td><td>19.4129</td><td>-99.1195</td></tr><tr><th>2</th><td>19.4334</td><td>-99.1374</td><td>19.4363</td><td>-99.1163</td></tr><tr><th>3</th><td>19.4334</td><td>-99.1374</td><td>19.4526</td><td>-99.1352</td></tr><tr><th>4</th><td>19.4334</td><td>-99.1374</td><td>19.4428</td><td>-99.1583</td></tr><tr><th>5</th><td>19.4334</td><td>-99.1374</td><td>19.4114</td><td>-99.1683</td></tr><tr><th>6</th><td>19.4334</td><td>-99.1374</td><td>19.4145</td><td>-99.1448</td></tr><tr><th>7</th><td>19.4428</td><td>-99.1583</td><td>19.4334</td><td>-99.1374</td></tr><tr><th>8</th><td>19.4428</td><td>-99.1583</td><td>19.4526</td><td>-99.1352</td></tr><tr><th>9</th><td>19.4428</td><td>-99.1583</td><td>19.4901</td><td>-99.139</td></tr><tr><th>10</th><td>19.4428</td><td>-99.1583</td><td>19.4302</td><td>-99.1927</td></tr><tr><th>11</th><td>19.4428</td><td>-99.1583</td><td>19.4584</td><td>-99.1683</td></tr><tr><th>12</th><td>19.4428</td><td>-99.1583</td><td>19.4114</td><td>-99.1683</td></tr><tr><th>13</th><td>19.4428</td><td>-99.1583</td><td>19.4145</td><td>-99.1448</td></tr><tr><th>14</th><td>19.4526</td><td>-99.1352</td><td>19.4363</td><td>-99.1163</td></tr><tr><th>15</th><td>19.4526</td><td>-99.1352</td><td>19.4334</td><td>-99.1374</td></tr><tr><th>16</th><td>19.4526</td><td>-99.1352</td><td>19.4673</td><td>-99.107</td></tr><tr><th>17</th><td>19.4526</td><td>-99.1352</td><td>19.4748</td><td>-99.1241</td></tr><tr><th>18</th><td>19.4526</td><td>-99.1352</td><td>19.4901</td><td>-99.139</td></tr><tr><th>19</th><td>19.4526</td><td>-99.1352</td><td>19.4584</td><td>-99.1683</td></tr><tr><th>20</th><td>19.4526</td><td>-99.1352</td><td>19.4428</td><td>-99.1583</td></tr><tr><th>21</th><td>19.4363</td><td>-99.1163</td><td>19.4129</td><td>-99.1195</td></tr><tr><th>22</th><td>19.4363</td><td>-99.1163</td><td>19.415</td><td>-99.0873</td></tr><tr><th>23</th><td>19.4363</td><td>-99.1163</td><td>19.4375</td><td>-99.1006</td></tr><tr><th>24</th><td>19.4363</td><td>-99.1163</td><td>19.4334</td><td>-99.1374</td></tr><tr><th>25</th><td>19.4363</td><td>-99.1163</td><td>19.4526</td><td>-99.1352</td></tr><tr><th>26</th><td>19.4363</td><td>-99.1163</td><td>19.4673</td><td>-99.107</td></tr><tr><th>27</th><td>19.4363</td><td>-99.1163</td><td>19.4748</td><td>-99.1241</td></tr><tr><th>28</th><td>19.4375</td><td>-99.1006</td><td>19.415</td><td>-99.0873</td></tr><tr><th>29</th><td>19.4375</td><td>-99.1006</td><td>19.4363</td><td>-99.1163</td></tr><tr><th>30</th><td>19.4375</td><td>-99.1006</td><td>19.4548</td><td>-99.0768</td></tr><tr><th>&vellip;</th><td>&vellip;</td><td>&vellip;</td><td>&vellip;</td><td>&vellip;</td></tr></tbody></table>"
      ],
      "text/latex": [
       "\\begin{tabular}{r|cccc}\n",
       "\t& o\\_lat & o\\_lon & d\\_lat & d\\_lon\\\\\n",
       "\t\\hline\n",
       "\t& Any & Any & Any & Any\\\\\n",
       "\t\\hline\n",
       "\t1 & 19.4334 & -99.1374 & 19.4129 & -99.1195 \\\\\n",
       "\t2 & 19.4334 & -99.1374 & 19.4363 & -99.1163 \\\\\n",
       "\t3 & 19.4334 & -99.1374 & 19.4526 & -99.1352 \\\\\n",
       "\t4 & 19.4334 & -99.1374 & 19.4428 & -99.1583 \\\\\n",
       "\t5 & 19.4334 & -99.1374 & 19.4114 & -99.1683 \\\\\n",
       "\t6 & 19.4334 & -99.1374 & 19.4145 & -99.1448 \\\\\n",
       "\t7 & 19.4428 & -99.1583 & 19.4334 & -99.1374 \\\\\n",
       "\t8 & 19.4428 & -99.1583 & 19.4526 & -99.1352 \\\\\n",
       "\t9 & 19.4428 & -99.1583 & 19.4901 & -99.139 \\\\\n",
       "\t10 & 19.4428 & -99.1583 & 19.4302 & -99.1927 \\\\\n",
       "\t11 & 19.4428 & -99.1583 & 19.4584 & -99.1683 \\\\\n",
       "\t12 & 19.4428 & -99.1583 & 19.4114 & -99.1683 \\\\\n",
       "\t13 & 19.4428 & -99.1583 & 19.4145 & -99.1448 \\\\\n",
       "\t14 & 19.4526 & -99.1352 & 19.4363 & -99.1163 \\\\\n",
       "\t15 & 19.4526 & -99.1352 & 19.4334 & -99.1374 \\\\\n",
       "\t16 & 19.4526 & -99.1352 & 19.4673 & -99.107 \\\\\n",
       "\t17 & 19.4526 & -99.1352 & 19.4748 & -99.1241 \\\\\n",
       "\t18 & 19.4526 & -99.1352 & 19.4901 & -99.139 \\\\\n",
       "\t19 & 19.4526 & -99.1352 & 19.4584 & -99.1683 \\\\\n",
       "\t20 & 19.4526 & -99.1352 & 19.4428 & -99.1583 \\\\\n",
       "\t21 & 19.4363 & -99.1163 & 19.4129 & -99.1195 \\\\\n",
       "\t22 & 19.4363 & -99.1163 & 19.415 & -99.0873 \\\\\n",
       "\t23 & 19.4363 & -99.1163 & 19.4375 & -99.1006 \\\\\n",
       "\t24 & 19.4363 & -99.1163 & 19.4334 & -99.1374 \\\\\n",
       "\t25 & 19.4363 & -99.1163 & 19.4526 & -99.1352 \\\\\n",
       "\t26 & 19.4363 & -99.1163 & 19.4673 & -99.107 \\\\\n",
       "\t27 & 19.4363 & -99.1163 & 19.4748 & -99.1241 \\\\\n",
       "\t28 & 19.4375 & -99.1006 & 19.415 & -99.0873 \\\\\n",
       "\t29 & 19.4375 & -99.1006 & 19.4363 & -99.1163 \\\\\n",
       "\t30 & 19.4375 & -99.1006 & 19.4548 & -99.0768 \\\\\n",
       "\t$\\dots$ & $\\dots$ & $\\dots$ & $\\dots$ & $\\dots$ \\\\\n",
       "\\end{tabular}\n"
      ],
      "text/plain": [
       "452×4 DataFrame\n",
       "│ Row │ o_lat   │ o_lon    │ d_lat   │ d_lon    │\n",
       "│     │ \u001b[90mAny\u001b[39m     │ \u001b[90mAny\u001b[39m      │ \u001b[90mAny\u001b[39m     │ \u001b[90mAny\u001b[39m      │\n",
       "├─────┼─────────┼──────────┼─────────┼──────────┤\n",
       "│ 1   │ 19.4334 │ -99.1374 │ 19.4129 │ -99.1195 │\n",
       "│ 2   │ 19.4334 │ -99.1374 │ 19.4363 │ -99.1163 │\n",
       "│ 3   │ 19.4334 │ -99.1374 │ 19.4526 │ -99.1352 │\n",
       "│ 4   │ 19.4334 │ -99.1374 │ 19.4428 │ -99.1583 │\n",
       "│ 5   │ 19.4334 │ -99.1374 │ 19.4114 │ -99.1683 │\n",
       "│ 6   │ 19.4334 │ -99.1374 │ 19.4145 │ -99.1448 │\n",
       "│ 7   │ 19.4428 │ -99.1583 │ 19.4334 │ -99.1374 │\n",
       "│ 8   │ 19.4428 │ -99.1583 │ 19.4526 │ -99.1352 │\n",
       "│ 9   │ 19.4428 │ -99.1583 │ 19.4901 │ -99.139  │\n",
       "│ 10  │ 19.4428 │ -99.1583 │ 19.4302 │ -99.1927 │\n",
       "⋮\n",
       "│ 442 │ 19.3537 │ -99.0393 │ 19.3613 │ -99.0696 │\n",
       "│ 443 │ 19.3537 │ -99.0393 │ 19.3312 │ -99.0279 │\n",
       "│ 444 │ 19.3537 │ -99.0393 │ 19.3373 │ -99.0058 │\n",
       "│ 445 │ 19.3537 │ -99.0393 │ 19.3331 │ -99.047  │\n",
       "│ 446 │ 19.3798 │ -99.0501 │ 19.3782 │ -99.0184 │\n",
       "│ 447 │ 19.3798 │ -99.0501 │ 19.3685 │ -99.0224 │\n",
       "│ 448 │ 19.3798 │ -99.0501 │ 19.3613 │ -99.0696 │\n",
       "│ 449 │ 19.3798 │ -99.0501 │ 19.38   │ -99.0854 │\n",
       "│ 450 │ 19.3798 │ -99.0501 │ 19.3973 │ -99.0777 │\n",
       "│ 451 │ 19.3798 │ -99.0501 │ 19.4194 │ -99.0632 │\n",
       "│ 452 │ 19.3798 │ -99.0501 │ 19.3537 │ -99.0393 │"
      ]
     },
     "execution_count": 12,
     "metadata": {},
     "output_type": "execute_result"
    }
   ],
   "source": [
    "constricted_pairs_df = CSV.File(\"cdmx_distritos/vecinos_expand.csv\") |> DataFrame\n",
    "\n",
    "connected_pairs = Array{Int64}(undef, length(constricted_pairs_df[:][1]), 2)\n",
    "\n",
    "for ci in 1:2\n",
    "    c = coalesce.(constricted_pairs_df[:][ci], 0)\n",
    "    for ri in 1:length(c) \n",
    "        connected_pairs[ri,ci] = c[ri]\n",
    "    end \n",
    "end\n",
    "\n",
    "olat = []\n",
    "olon = []\n",
    "dlat = []\n",
    "dlon = []\n",
    "\n",
    "for i in 1:length(constricted_pairs_df[:][1])\n",
    "    index_o = connected_pairs[i,1]\n",
    "    index_d = connected_pairs[i,2]\n",
    "    push!(olat, centroid_array[index_o,1])\n",
    "    push!(olon, centroid_array[index_o,2])\n",
    "    push!(dlat, centroid_array[index_d,1])\n",
    "    push!(dlon, centroid_array[index_d,2])\n",
    "end\n",
    "\n",
    "OD_constricted_df = DataFrame(o_lat = olat, o_lon = olon, d_lat = dlat, d_lon = dlon) "
   ]
  },
  {
   "cell_type": "code",
   "execution_count": 13,
   "metadata": {
    "collapsed": true,
    "hidden": true,
    "kernel": "Julia"
   },
   "outputs": [
    {
     "data": {
      "text/plain": [
       "\"coordenadas_graf.csv\""
      ]
     },
     "execution_count": 13,
     "metadata": {},
     "output_type": "execute_result"
    }
   ],
   "source": [
    "CSV.write(\"coordenadas_graf.csv\",OD_constricted_df;delim=\",\")"
   ]
  },
  {
   "cell_type": "markdown",
   "metadata": {
    "hidden": true,
    "kernel": "Python3"
   },
   "source": [
    "Then I will plot everything to see that it is in fact correct"
   ]
  },
  {
   "cell_type": "code",
   "execution_count": 14,
   "metadata": {
    "hidden": true,
    "kernel": "Python3"
   },
   "outputs": [],
   "source": [
    "data_dots = read_csv('cdmx_distritos/cdmx_centroides_trim.csv')\n",
    "data_graph = read_csv('coordenadas_graf.csv')\n",
    "geoplotlib.shapefiles('cdmx_distritos/O-D_2017',color=[0,0,255],linewidth=1)\n",
    "geoplotlib.set_smoothing(True)\n",
    "geoplotlib.dot(data_dots, point_size = 3)\n",
    "geoplotlib.graph(data_graph,'o_lat','o_lon','d_lat','d_lon',linewidth=2,color='Dark2')\n",
    "geoplotlib.set_smoothing(True)\n",
    "geoplotlib.set_bbox(BoundingBox.CDMX)\n",
    "geoplotlib.show()"
   ]
  },
  {
   "cell_type": "markdown",
   "metadata": {
    "hidden": true,
    "kernel": "Python3"
   },
   "source": [
    "<img src=\"gpl-OD-graph.png\" style=\"width: 350px;\">"
   ]
  },
  {
   "cell_type": "markdown",
   "metadata": {
    "hidden": true,
    "kernel": "Julia"
   },
   "source": [
    "The next step is to modify the weight matrix so that the forbidden connections weight infinite."
   ]
  },
  {
   "cell_type": "code",
   "execution_count": 15,
   "metadata": {
    "collapsed": true,
    "hidden": true,
    "kernel": "Julia"
   },
   "outputs": [
    {
     "data": {
      "text/plain": [
       "85×85 Array{Float64,2}:\n",
       "   0.0          0.0534676    0.0450708  …  Inf          Inf        \n",
       "   0.053412     0.0          0.0580598     Inf          Inf        \n",
       "   0.0451393    0.0580585    0.0           Inf          Inf        \n",
       "   0.0498584  Inf            0.058902      Inf          Inf        \n",
       " Inf          Inf          Inf             Inf          Inf        \n",
       "   0.0636352  Inf          Inf          …  Inf          Inf        \n",
       "   0.0475708    0.0739653  Inf             Inf          Inf        \n",
       "   0.0888799    0.0762349  Inf             Inf          Inf        \n",
       " Inf          Inf          Inf             Inf          Inf        \n",
       " Inf          Inf          Inf             Inf          Inf        \n",
       " Inf          Inf          Inf          …  Inf          Inf        \n",
       " Inf          Inf          Inf             Inf          Inf        \n",
       " Inf          Inf          Inf             Inf          Inf        \n",
       "   ⋮                                    ⋱                          \n",
       " Inf          Inf          Inf             Inf          Inf        \n",
       " Inf          Inf          Inf             Inf          Inf        \n",
       " Inf          Inf          Inf          …  Inf          Inf        \n",
       " Inf          Inf          Inf             Inf          Inf        \n",
       " Inf          Inf          Inf               0.0516981  Inf        \n",
       " Inf          Inf          Inf               0.058758   Inf        \n",
       " Inf          Inf          Inf               0.0880413  Inf        \n",
       " Inf          Inf          Inf          …  Inf          Inf        \n",
       " Inf          Inf          Inf             Inf            0.0778514\n",
       " Inf          Inf          Inf               0.052879     0.0705757\n",
       " Inf          Inf          Inf               0.0          0.0666507\n",
       " Inf          Inf          Inf               0.0667033    0.0      "
      ]
     },
     "execution_count": 15,
     "metadata": {},
     "output_type": "execute_result"
    }
   ],
   "source": [
    "total_constricted_weight = fill(Inf,(85,85))\n",
    "\n",
    "for i in 1:length(constricted_pairs_df[:][1])\n",
    "    index_o = connected_pairs[i,1]\n",
    "    index_d = connected_pairs[i,2]\n",
    "    total_constricted_weight[index_o,index_d] = total_weight[index_o,index_d]\n",
    "end\n",
    "\n",
    "for i in 1:85\n",
    "    total_constricted_weight[i,i] = 0\n",
    "end\n",
    "\n",
    "total_constricted_weight"
   ]
  },
  {
   "cell_type": "markdown",
   "metadata": {
    "hidden": true,
    "kernel": "Julia"
   },
   "source": [
    "And that is the weight matrix of a complete graph representing all the possible connections in the city."
   ]
  },
  {
   "cell_type": "markdown",
   "metadata": {
    "heading_collapsed": true,
    "kernel": "Julia"
   },
   "source": [
    "## Example calculation of the shortest path tree"
   ]
  },
  {
   "cell_type": "markdown",
   "metadata": {
    "hidden": true,
    "kernel": "Julia"
   },
   "source": [
    "This is an example calcuation using LightGraphs, of the tree with node 71 (milpa alta) as the source node. The shortest path in this case must be understood as the **path that is used by the most people in each vertex and connects the nearest neigboring nodes**. "
   ]
  },
  {
   "cell_type": "code",
   "execution_count": 16,
   "metadata": {
    "collapsed": true,
    "hidden": true,
    "kernel": "Julia"
   },
   "outputs": [
    {
     "data": {
      "text/html": [
       "<table class=\"data-frame\"><thead><tr><th></th><th>o_lat</th><th>o_lon</th><th>d_lat</th><th>d_lon</th></tr><tr><th></th><th>Any</th><th>Any</th><th>Any</th><th>Any</th></tr></thead><tbody><p>85 rows × 4 columns</p><tr><th>1</th><td>19.4334</td><td>-99.1374</td><td>19.4145</td><td>-99.1448</td></tr><tr><th>2</th><td>19.4428</td><td>-99.1583</td><td>19.4145</td><td>-99.1448</td></tr><tr><th>3</th><td>19.4526</td><td>-99.1352</td><td>19.4334</td><td>-99.1374</td></tr><tr><th>4</th><td>19.4363</td><td>-99.1163</td><td>19.4129</td><td>-99.1195</td></tr><tr><th>5</th><td>19.4375</td><td>-99.1006</td><td>19.415</td><td>-99.0873</td></tr><tr><th>6</th><td>19.4129</td><td>-99.1195</td><td>19.3916</td><td>-99.1304</td></tr><tr><th>7</th><td>19.4145</td><td>-99.1448</td><td>19.3916</td><td>-99.1304</td></tr><tr><th>8</th><td>19.4114</td><td>-99.1683</td><td>19.3934</td><td>-99.1724</td></tr><tr><th>9</th><td>19.3934</td><td>-99.1724</td><td>19.3756</td><td>-99.1759</td></tr><tr><th>10</th><td>19.394</td><td>-99.1469</td><td>19.3722</td><td>-99.1257</td></tr><tr><th>11</th><td>19.3916</td><td>-99.1304</td><td>19.3722</td><td>-99.1257</td></tr><tr><th>12</th><td>19.3947</td><td>-99.1107</td><td>19.3722</td><td>-99.1257</td></tr><tr><th>13</th><td>19.3722</td><td>-99.1257</td><td>19.3466</td><td>-99.1246</td></tr><tr><th>14</th><td>19.3699</td><td>-99.1535</td><td>19.3487</td><td>-99.1702</td></tr><tr><th>15</th><td>19.3756</td><td>-99.1759</td><td>19.3487</td><td>-99.1702</td></tr><tr><th>16</th><td>19.4302</td><td>-99.1927</td><td>19.3934</td><td>-99.1724</td></tr><tr><th>17</th><td>19.4613</td><td>-99.1987</td><td>19.4302</td><td>-99.1927</td></tr><tr><th>18</th><td>19.4865</td><td>-99.2075</td><td>19.4613</td><td>-99.1987</td></tr><tr><th>19</th><td>19.5009</td><td>-99.1909</td><td>19.4613</td><td>-99.1987</td></tr><tr><th>20</th><td>19.4832</td><td>-99.1702</td><td>19.4584</td><td>-99.1683</td></tr><tr><th>21</th><td>19.4584</td><td>-99.1683</td><td>19.4428</td><td>-99.1583</td></tr><tr><th>22</th><td>19.5684</td><td>-99.1304</td><td>19.5386</td><td>-99.1314</td></tr><tr><th>23</th><td>19.5389</td><td>-99.1492</td><td>19.513</td><td>-99.141</td></tr><tr><th>24</th><td>19.5386</td><td>-99.1314</td><td>19.513</td><td>-99.141</td></tr><tr><th>25</th><td>19.513</td><td>-99.141</td><td>19.4901</td><td>-99.139</td></tr><tr><th>26</th><td>19.4901</td><td>-99.139</td><td>19.4526</td><td>-99.1352</td></tr><tr><th>27</th><td>19.498</td><td>-99.1064</td><td>19.4673</td><td>-99.107</td></tr><tr><th>28</th><td>19.4748</td><td>-99.1241</td><td>19.4363</td><td>-99.1163</td></tr><tr><th>29</th><td>19.4932</td><td>-99.0921</td><td>19.473</td><td>-99.0767</td></tr><tr><th>30</th><td>19.4911</td><td>-99.0757</td><td>19.473</td><td>-99.0767</td></tr><tr><th>&vellip;</th><td>&vellip;</td><td>&vellip;</td><td>&vellip;</td><td>&vellip;</td></tr></tbody></table>"
      ],
      "text/latex": [
       "\\begin{tabular}{r|cccc}\n",
       "\t& o\\_lat & o\\_lon & d\\_lat & d\\_lon\\\\\n",
       "\t\\hline\n",
       "\t& Any & Any & Any & Any\\\\\n",
       "\t\\hline\n",
       "\t1 & 19.4334 & -99.1374 & 19.4145 & -99.1448 \\\\\n",
       "\t2 & 19.4428 & -99.1583 & 19.4145 & -99.1448 \\\\\n",
       "\t3 & 19.4526 & -99.1352 & 19.4334 & -99.1374 \\\\\n",
       "\t4 & 19.4363 & -99.1163 & 19.4129 & -99.1195 \\\\\n",
       "\t5 & 19.4375 & -99.1006 & 19.415 & -99.0873 \\\\\n",
       "\t6 & 19.4129 & -99.1195 & 19.3916 & -99.1304 \\\\\n",
       "\t7 & 19.4145 & -99.1448 & 19.3916 & -99.1304 \\\\\n",
       "\t8 & 19.4114 & -99.1683 & 19.3934 & -99.1724 \\\\\n",
       "\t9 & 19.3934 & -99.1724 & 19.3756 & -99.1759 \\\\\n",
       "\t10 & 19.394 & -99.1469 & 19.3722 & -99.1257 \\\\\n",
       "\t11 & 19.3916 & -99.1304 & 19.3722 & -99.1257 \\\\\n",
       "\t12 & 19.3947 & -99.1107 & 19.3722 & -99.1257 \\\\\n",
       "\t13 & 19.3722 & -99.1257 & 19.3466 & -99.1246 \\\\\n",
       "\t14 & 19.3699 & -99.1535 & 19.3487 & -99.1702 \\\\\n",
       "\t15 & 19.3756 & -99.1759 & 19.3487 & -99.1702 \\\\\n",
       "\t16 & 19.4302 & -99.1927 & 19.3934 & -99.1724 \\\\\n",
       "\t17 & 19.4613 & -99.1987 & 19.4302 & -99.1927 \\\\\n",
       "\t18 & 19.4865 & -99.2075 & 19.4613 & -99.1987 \\\\\n",
       "\t19 & 19.5009 & -99.1909 & 19.4613 & -99.1987 \\\\\n",
       "\t20 & 19.4832 & -99.1702 & 19.4584 & -99.1683 \\\\\n",
       "\t21 & 19.4584 & -99.1683 & 19.4428 & -99.1583 \\\\\n",
       "\t22 & 19.5684 & -99.1304 & 19.5386 & -99.1314 \\\\\n",
       "\t23 & 19.5389 & -99.1492 & 19.513 & -99.141 \\\\\n",
       "\t24 & 19.5386 & -99.1314 & 19.513 & -99.141 \\\\\n",
       "\t25 & 19.513 & -99.141 & 19.4901 & -99.139 \\\\\n",
       "\t26 & 19.4901 & -99.139 & 19.4526 & -99.1352 \\\\\n",
       "\t27 & 19.498 & -99.1064 & 19.4673 & -99.107 \\\\\n",
       "\t28 & 19.4748 & -99.1241 & 19.4363 & -99.1163 \\\\\n",
       "\t29 & 19.4932 & -99.0921 & 19.473 & -99.0767 \\\\\n",
       "\t30 & 19.4911 & -99.0757 & 19.473 & -99.0767 \\\\\n",
       "\t$\\dots$ & $\\dots$ & $\\dots$ & $\\dots$ & $\\dots$ \\\\\n",
       "\\end{tabular}\n"
      ],
      "text/plain": [
       "85×4 DataFrame\n",
       "│ Row │ o_lat   │ o_lon    │ d_lat   │ d_lon    │\n",
       "│     │ \u001b[90mAny\u001b[39m     │ \u001b[90mAny\u001b[39m      │ \u001b[90mAny\u001b[39m     │ \u001b[90mAny\u001b[39m      │\n",
       "├─────┼─────────┼──────────┼─────────┼──────────┤\n",
       "│ 1   │ 19.4334 │ -99.1374 │ 19.4145 │ -99.1448 │\n",
       "│ 2   │ 19.4428 │ -99.1583 │ 19.4145 │ -99.1448 │\n",
       "│ 3   │ 19.4526 │ -99.1352 │ 19.4334 │ -99.1374 │\n",
       "│ 4   │ 19.4363 │ -99.1163 │ 19.4129 │ -99.1195 │\n",
       "│ 5   │ 19.4375 │ -99.1006 │ 19.415  │ -99.0873 │\n",
       "│ 6   │ 19.4129 │ -99.1195 │ 19.3916 │ -99.1304 │\n",
       "│ 7   │ 19.4145 │ -99.1448 │ 19.3916 │ -99.1304 │\n",
       "│ 8   │ 19.4114 │ -99.1683 │ 19.3934 │ -99.1724 │\n",
       "│ 9   │ 19.3934 │ -99.1724 │ 19.3756 │ -99.1759 │\n",
       "│ 10  │ 19.394  │ -99.1469 │ 19.3722 │ -99.1257 │\n",
       "⋮\n",
       "│ 75  │ 19.2502 │ -98.9896 │ 19.1395 │ -99.0511 │\n",
       "│ 76  │ 19.3014 │ -99.0283 │ 19.2842 │ -99.0372 │\n",
       "│ 77  │ 19.319  │ -99.0597 │ 19.2842 │ -99.0372 │\n",
       "│ 78  │ 19.3331 │ -99.047  │ 19.3014 │ -99.0283 │\n",
       "│ 79  │ 19.3312 │ -99.0279 │ 19.3331 │ -99.047  │\n",
       "│ 80  │ 19.3373 │ -99.0058 │ 19.3169 │ -98.9917 │\n",
       "│ 81  │ 19.3169 │ -98.9917 │ 19.2502 │ -98.9896 │\n",
       "│ 82  │ 19.3782 │ -99.0184 │ 19.3685 │ -99.0224 │\n",
       "│ 83  │ 19.3685 │ -99.0224 │ 19.3169 │ -98.9917 │\n",
       "│ 84  │ 19.3537 │ -99.0393 │ 19.3331 │ -99.047  │\n",
       "│ 85  │ 19.3798 │ -99.0501 │ 19.3537 │ -99.0393 │"
      ]
     },
     "execution_count": 16,
     "metadata": {},
     "output_type": "execute_result"
    }
   ],
   "source": [
    "using LightGraphs\n",
    "\n",
    "ds = dijkstra_shortest_paths(CompleteDiGraph(85), 71, total_constricted_weight)\n",
    "\n",
    "test_d = ds.parents\n",
    "\n",
    "olat71 = []\n",
    "olon71 = []\n",
    "dlat71 = []\n",
    "dlon71 = []\n",
    "\n",
    "for i in 1:85\n",
    "    index_d = test_d[i]\n",
    "    push!(olat71, centroid_array[i,1])\n",
    "    push!(olon71, centroid_array[i,2])\n",
    "    if index_d != 0\n",
    "        push!(dlat71, centroid_array[index_d,1])\n",
    "        push!(dlon71, centroid_array[index_d,2])\n",
    "    else\n",
    "        push!(dlat71, centroid_array[71,1])\n",
    "        push!(dlon71, centroid_array[71,2])\n",
    "    end\n",
    "end\n",
    "\n",
    "shortest_path_tree_71 = DataFrame(o_lat = olat71, o_lon = olon71, d_lat = dlat71, d_lon = dlon71)"
   ]
  },
  {
   "cell_type": "code",
   "execution_count": 17,
   "metadata": {
    "collapsed": true,
    "hidden": true,
    "kernel": "Julia"
   },
   "outputs": [
    {
     "data": {
      "text/plain": [
       "\"spt_71.csv\""
      ]
     },
     "execution_count": 17,
     "metadata": {},
     "output_type": "execute_result"
    }
   ],
   "source": [
    "CSV.write(\"spt_71.csv\",shortest_path_tree_71;delim=\",\")"
   ]
  },
  {
   "cell_type": "code",
   "execution_count": 22,
   "metadata": {
    "hidden": true,
    "kernel": "Python3"
   },
   "outputs": [],
   "source": [
    "data_dots = read_csv('cdmx_distritos/cdmx_centroides_trim.csv')\n",
    "data_graph = read_csv('spt_71.csv')\n",
    "geoplotlib.shapefiles('cdmx_distritos/O-D_2017',color=[0,0,255],linewidth=1)\n",
    "geoplotlib.set_smoothing(True)\n",
    "geoplotlib.dot(data_dots, point_size = 3)\n",
    "geoplotlib.graph(data_graph,'o_lat','o_lon','d_lat','d_lon',linewidth=2,color='Dark2')\n",
    "geoplotlib.set_smoothing(True)\n",
    "geoplotlib.set_bbox(BoundingBox.CDMX)\n",
    "geoplotlib.show()"
   ]
  },
  {
   "cell_type": "markdown",
   "metadata": {
    "hidden": true,
    "kernel": "Python3"
   },
   "source": [
    "<img src=\"spt_71.png\" style=\"width: 350px;\">"
   ]
  },
  {
   "cell_type": "markdown",
   "metadata": {
    "hidden": true,
    "kernel": "SoS"
   },
   "source": [
    "A second example is developed below using only the weight term associated with the number of users trough a path. The shortest path in this case must be understood as the **path that is used by the most people in each vertex**."
   ]
  },
  {
   "cell_type": "code",
   "execution_count": 20,
   "metadata": {
    "collapsed": true,
    "hidden": true,
    "kernel": "Julia"
   },
   "outputs": [
    {
     "data": {
      "text/plain": [
       "\"uspt_71.csv\""
      ]
     },
     "execution_count": 20,
     "metadata": {},
     "output_type": "execute_result"
    }
   ],
   "source": [
    "users_constricted_weight = fill(Inf,(85,85))\n",
    "\n",
    "for i in 1:length(constricted_pairs_df[:][1])\n",
    "    index_o = connected_pairs[i,1]\n",
    "    index_d = connected_pairs[i,2]\n",
    "    users_constricted_weight[index_o,index_d] = weight₁[index_o,index_d]\n",
    "end\n",
    "\n",
    "for i in 1:85\n",
    "    users_constricted_weight[i,i] = 0\n",
    "end\n",
    "\n",
    "ds = dijkstra_shortest_paths(CompleteDiGraph(85), 71, users_constricted_weight)\n",
    "\n",
    "test_d = ds.parents\n",
    "\n",
    "olat71 = []\n",
    "olon71 = []\n",
    "dlat71 = []\n",
    "dlon71 = []\n",
    "\n",
    "for i in 1:85\n",
    "    index_d = test_d[i]\n",
    "    push!(olat71, centroid_array[i,1])\n",
    "    push!(olon71, centroid_array[i,2])\n",
    "    if index_d != 0\n",
    "        push!(dlat71, centroid_array[index_d,1])\n",
    "        push!(dlon71, centroid_array[index_d,2])\n",
    "    else\n",
    "        push!(dlat71, centroid_array[71,1])\n",
    "        push!(dlon71, centroid_array[71,2])\n",
    "    end\n",
    "end\n",
    "\n",
    "users_shortest_path_tree_71 = DataFrame(o_lat = olat71, o_lon = olon71, d_lat = dlat71, d_lon = dlon71)\n",
    "CSV.write(\"uspt_71.csv\",users_shortest_path_tree_71;delim=\",\")"
   ]
  },
  {
   "cell_type": "code",
   "execution_count": 21,
   "metadata": {
    "hidden": true,
    "kernel": "Python3"
   },
   "outputs": [],
   "source": [
    "data_dots = read_csv('cdmx_distritos/cdmx_centroides_trim.csv')\n",
    "data_graph = read_csv('uspt_71.csv')\n",
    "geoplotlib.shapefiles('cdmx_distritos/O-D_2017',color=[0,0,255],linewidth=1)\n",
    "geoplotlib.set_smoothing(True)\n",
    "geoplotlib.dot(data_dots, point_size = 3)\n",
    "geoplotlib.graph(data_graph,'o_lat','o_lon','d_lat','d_lon',linewidth=2,color='Dark2')\n",
    "geoplotlib.set_smoothing(True)\n",
    "geoplotlib.set_bbox(BoundingBox.CDMX)\n",
    "geoplotlib.show()"
   ]
  },
  {
   "cell_type": "markdown",
   "metadata": {
    "hidden": true,
    "kernel": "Python3"
   },
   "source": [
    "<img src=\"uspt_71.png\" style=\"width: 350px;\">"
   ]
  },
  {
   "cell_type": "markdown",
   "metadata": {
    "heading_collapsed": true,
    "kernel": "Python3"
   },
   "source": [
    "## Comparison of two examples"
   ]
  },
  {
   "cell_type": "markdown",
   "metadata": {
    "hidden": true,
    "kernel": "Python3"
   },
   "source": [
    "<table>\n",
    "<tr>\n",
    "<td><h3> Shortest path using total weight </h3></td>\n",
    "<td><h3> Shortest path using number of users </h3></td>\n",
    "</tr>\n",
    "<tr>\n",
    "<td> <img src=\"spt_71.png\" style=\"width: 450px;\"/> </td>\n",
    "<td> <img src=\"uspt_71.png\" style=\"width: 450px;\"/> </td>\n",
    "</tr></table>"
   ]
  },
  {
   "cell_type": "markdown",
   "metadata": {
    "heading_collapsed": true,
    "kernel": "SoS"
   },
   "source": [
    "## Expanding the algorithm to calculate total number of users through a pair connecting path"
   ]
  },
  {
   "cell_type": "code",
   "execution_count": null,
   "metadata": {
    "hidden": true,
    "kernel": "Python3"
   },
   "outputs": [],
   "source": []
  }
 ],
 "metadata": {
  "kernelspec": {
   "display_name": "SoS",
   "language": "sos",
   "name": "sos"
  },
  "language_info": {
   "codemirror_mode": "sos",
   "file_extension": ".sos",
   "mimetype": "text/x-sos",
   "name": "sos",
   "nbconvert_exporter": "sos_notebook.converter.SoS_Exporter",
   "pygments_lexer": "sos"
  },
  "latex_envs": {
   "LaTeX_envs_menu_present": true,
   "autoclose": false,
   "autocomplete": true,
   "bibliofile": "biblio.bib",
   "cite_by": "apalike",
   "current_citInitial": 1,
   "eqLabelWithNumbers": true,
   "eqNumInitial": 1,
   "hotkeys": {
    "equation": "Ctrl-E",
    "itemize": "Ctrl-I"
   },
   "labels_anchors": false,
   "latex_user_defs": false,
   "report_style_numbering": false,
   "user_envs_cfg": false
  },
  "sos": {
   "kernels": [
    [
     "Julia",
     "julia-1.1",
     "Julia",
     "#ebd8eb"
    ],
    [
     "Python3",
     "python3",
     "Python3",
     "#FFD91A"
    ],
    [
     "SoS",
     "sos",
     "",
     ""
    ]
   ],
   "panel": {
    "displayed": true,
    "height": 0
   },
   "version": "0.19.4"
  }
 },
 "nbformat": 4,
 "nbformat_minor": 2
}
