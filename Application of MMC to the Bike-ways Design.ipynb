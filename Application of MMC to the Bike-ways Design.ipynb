{
 "cells": [
  {
   "cell_type": "markdown",
   "metadata": {},
   "source": [
    "# Optimizando el Diseño de la Ciclovía de la Ciudad de México con un Algoritmo tipo Metropolis-MonteCarlo "
   ]
  },
  {
   "cell_type": "markdown",
   "metadata": {},
   "source": [
    "## El análogo al Modelo de Ising"
   ]
  },
  {
   "cell_type": "markdown",
   "metadata": {},
   "source": [
    "### Definiciones básicas"
   ]
  },
  {
   "cell_type": "markdown",
   "metadata": {},
   "source": [
    "***\n",
    "#### Los estados posibles por calle\n",
    "El algoritmo de Metropolis es ampliamente aplicado en simulaciones computacionales del modelo de Ising, en el que se estudia un sistema físico que consta de partículas dispuestas en un *lattice* cuyas interacciones entre sí mismas y con un campo externo determinan su estado (que toma los valores de +1 o -1) y por ende el estado global del sistema dada una temperatura.\n",
    "\n",
    "Mi objetivo en este trabajo es proponer un algoritmo de Metropolis que permita optimizar el diseño de las ciclovías de la Ciudad de México dado un presupuesto, un campo de necesidades y los diferentes estados que puede tomar cada calle dentro de una red. Primero es necesario crear el objeto computacional con el que voy a tratar, que es una red de calles con distintos estados posibles. Los estados que voy a considerar son\n",
    "\n",
    "| spin | ID  | cap | att | características del carril                  |\n",
    "|------|-----|-----|-----|---------------------------------------------|\n",
    "| 14   | CTR | 4   | 7   | calle cetram                                |\n",
    "| 13   | ESS | 3   | 6   | exclusivo con ecobici y biciestacionamiento |\n",
    "| 12   | ESN | 3   | 5   | exclusivo con ecobici                       |\n",
    "| 11   | ENS | 3   | 4   | exclusivo con biciestacionamiento           |\n",
    "| 10   | ENN | 3   | 3   | exclusivo sin estaciones                    |\n",
    "| 9    | BSS | 2   | 5   | bus-bici con ecobici y biciestacionamiento  |\n",
    "| 8    | BSN | 2   | 4   | bus-bici con ecobici                        |\n",
    "| 7    | BNS | 2   | 3   | bus-bici con biciestacionamiento            |\n",
    "| 6    | BNN | 2   | 2   | bus-bici sin estaciones                     |\n",
    "| 5    | MSS | 1   | 4   | mixto con ecobici y biciestacionamiento     |\n",
    "| 4    | MSN | 1   | 3   | mixto con ecobici                           |\n",
    "| 3    | MNS | 1   | 2   | mixto con biciestacionamiento               |\n",
    "| 2    | MNN | 1   | 1   | mixto sin estaciones                        |\n",
    "| 1    | NNN | 0   | 0   | sin ciclovía                                |\n",
    "\n",
    "Los spines más altos son los que representan mayor energía (los que mayor presupuesto consumen). Cada uno de los estados posibles debe tener asociado un costo de constrcción (que debe ser función de su longitud y de sus características), un factor de interacción con la red, que está a asociado a la conectividad (para evitar desconexiones) y un factor de interacción con las necesidades de ciclovía locales, que actuarán como *campo externo*."
   ]
  },
  {
   "cell_type": "code",
   "execution_count": null,
   "metadata": {},
   "outputs": [],
   "source": [
    "struct streetState\n",
    "    # estos valores son fijos\n",
    "    id::String # identificador de un estado\n",
    "    # estos valores se utilizarán para calcular las interacciones entre estados y con las necesidades\n",
    "    spin::Int # el spin del estado\n",
    "    cap::Int # la capacidad de diseño de un estado\n",
    "    attPot::Int # la capacidad de acceso de usuarios de un estado\n",
    "    # estos valores se calculan\n",
    "    cost::Float64 # el costo de un estado\n",
    "    intField::Float64 # el valor de interacción de un estado con las necesidades\n",
    "    intNet::Float64 # el valor de interacción de un estado con la red\n",
    "end\n",
    "\n",
    "list_states = [[1,\"NNN\",0,0],\n",
    "               [2,\"MNN\",1,1],\n",
    "               [3,\"MNS\",1,2],\n",
    "               [4,\"MSN\",1,3],\n",
    "               [5,\"MSS\",1,4],\n",
    "               [6,\"BNN\",2,2],\n",
    "               [7,\"BNS\",2,3],\n",
    "               [8,\"BSN\",2,4],\n",
    "               [9,\"BSS\",2,5],\n",
    "               [10,\"ENN\",3,3],\n",
    "               [11,\"ENS\",3,4],\n",
    "               [12,\"ESN\",3,5],\n",
    "               [13,\"ESS\",3,6],\n",
    "               [14,\"MSS\",4,7]]\n",
    "\n",
    "function setstate!(s::streetState,x::Int) \n",
    "    s.id = list_states[x][2]\n",
    "    s.spin = list_states[x][1]\n",
    "    s.cap = list_states[x][3]\n",
    "    s.attPot = list_states[x][4]\n",
    "end\n",
    "    \n",
    "setcost!(s::streetState, x::Float64) = s.cost = x\n",
    "setifl!(s::streetState, x::Float64) = s.intField = x\n",
    "setint!(s::streetState, x::Float64) = s.intNet = x"
   ]
  },
  {
   "cell_type": "markdown",
   "metadata": {},
   "source": [
    "***\n",
    "#### La red de calles\n",
    "Además hacen falta las coordenadas que van a caracterizar cada una de las calles de la red y la lista de vecinos. En la siguiente celda defino las dos estructuras básicas."
   ]
  },
  {
   "cell_type": "code",
   "execution_count": null,
   "metadata": {},
   "outputs": [],
   "source": [
    "struct streetNetwork\n",
    "    coords::Vector{NTuple{2,Float64}} # la lista de coordenadas características de cada calle en la red \n",
    "    neighbors::Vector{Vector{Int}} # la lista de vecinos de la red de calles\n",
    "    states::Vector{streetState} # la lista de estados de las calles de la red\n",
    "end\n",
    "\n",
    "getstatei(sn::streetNetwork,i::int) = sn.states[i] \n",
    "setstatei!(sn::streetNetwork,i::int,s::streetState) = sn.states[i] = s"
   ]
  },
  {
   "cell_type": "markdown",
   "metadata": {
    "heading_collapsed": true
   },
   "source": [
    "### Calculos básicos por estado, el análogo del campo"
   ]
  },
  {
   "cell_type": "code",
   "execution_count": null,
   "metadata": {
    "hidden": true
   },
   "outputs": [],
   "source": [
    "import Base.copy\n",
    "\n",
    "function copy(l::Lattice)\n",
    "    return Lattice(copy(l.state), copy(l.spins), l.neighbours, l.coords)\n",
    "end\n",
    "function Lattice(m::Int, n::Int, g::Function, J::Float64, h::Float64)\n",
    "    nspins = m*n\n",
    "    s = [-1,1]\n",
    "    spins = [ rand(s) for i in 1:nspins ]\n",
    "    neighbours,coords = g(m,n)\n",
    "\n",
    "    H = 0; M = 0\n",
    "    for i in 1:nspins\n",
    "        for j in neighbours[i]\n",
    "            if j < i; continue; end # repeated pairs.\n",
    "            H += spins[i] * spins[j]\n",
    "        end\n",
    "        M += spins[i]\n",
    "    end\n",
    "    H = -J*H - h*M # Energy\n",
    "    M = M/nspins # Magnetization\n",
    "    return Lattice([H,M],spins,neighbours,coords)\n",
    "end"
   ]
  }
 ],
 "metadata": {
  "@webio": {
   "lastCommId": null,
   "lastKernelId": null
  },
  "kernelspec": {
   "display_name": "Julia 1.1.0",
   "language": "julia",
   "name": "julia-1.1"
  },
  "language_info": {
   "file_extension": ".jl",
   "mimetype": "application/julia",
   "name": "julia",
   "version": "1.1.0"
  },
  "latex_envs": {
   "LaTeX_envs_menu_present": true,
   "autoclose": false,
   "autocomplete": true,
   "bibliofile": "biblio.bib",
   "cite_by": "apalike",
   "current_citInitial": 1,
   "eqLabelWithNumbers": true,
   "eqNumInitial": 1,
   "hotkeys": {
    "equation": "Ctrl-E",
    "itemize": "Ctrl-I"
   },
   "labels_anchors": false,
   "latex_user_defs": false,
   "report_style_numbering": false,
   "user_envs_cfg": false
  }
 },
 "nbformat": 4,
 "nbformat_minor": 2
}
