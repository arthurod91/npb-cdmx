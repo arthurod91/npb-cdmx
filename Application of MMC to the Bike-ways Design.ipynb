{
 "cells": [
  {
   "cell_type": "markdown",
   "metadata": {},
   "source": [
    "# Optimizando el Diseño de la Ciclovía de la Ciudad de México con un Algoritmo tipo Metropolis-MonteCarlo "
   ]
  },
  {
   "cell_type": "markdown",
   "metadata": {},
   "source": [
    "## El análogo al Modelo de Ising"
   ]
  },
  {
   "cell_type": "markdown",
   "metadata": {},
   "source": [
    "El algoritmo de Metropolis es ampliamente aplicado en simulaciones computacionales del modelo de Ising, en el que se estudia un sistema físico que consta de partículas dispuestas en un *lattice* cuyas interacciones entre sí mismas y con un campo externo determinan su estado (que toma los valores de +1 o -1) y por ende el estado global del sistema dada una temperatura.\n",
    "\n",
    "Mi objetivo en este trabajo es proponer un algoritmo de Metropolis que permita optimizar el diseño de las ciclovías de la Ciudad de México dado un presupuesto, un campo de necesidades y los diferentes estados que puede tomar cada calle dentro de una red, analizando cada par de circuitos conectados por separado. "
   ]
  },
  {
   "cell_type": "markdown",
   "metadata": {},
   "source": [
    "### Los estados y la *lattice*"
   ]
  },
  {
   "cell_type": "markdown",
   "metadata": {},
   "source": [
    "***\n",
    "#### Los estados posibles por calle\n",
    "Primero es necesario crear el objeto computacional con el que voy a tratar, que es una red de calles con distintos estados posibles. Los estados que voy a considerar son\n",
    "\n",
    "| $  | ID  | cap | att | características del carril                  |\n",
    "|----|-----|-----|-----|---------------------------------------------|\n",
    "| 13 | CTR | 4   | 7   | calle cetram                                |\n",
    "| 12 | ESS | 3   | 6   | exclusivo con ecobici y biciestacionamiento |\n",
    "| 11 | ESN | 3   | 5   | exclusivo con ecobici                       |\n",
    "| 10 | ENS | 3   | 4   | exclusivo con biciestacionamiento           |\n",
    "| 19 | ENN | 3   | 3   | exclusivo sin estaciones                    |\n",
    "| 8  | BSS | 2   | 5   | bus-bici con ecobici y biciestacionamiento  |\n",
    "| 7  | BSN | 2   | 4   | bus-bici con ecobici                        |\n",
    "| 6  | BNS | 2   | 3   | bus-bici con biciestacionamiento            |\n",
    "| 5  | BNN | 2   | 2   | bus-bici sin estaciones                     |\n",
    "| 4  | MSS | 1   | 4   | mixto con ecobici y biciestacionamiento     |\n",
    "| 3  | MSN | 1   | 3   | mixto con ecobici                           |\n",
    "| 2  | MNS | 1   | 2   | mixto con biciestacionamiento               |\n",
    "| 1  | MNN | 1   | 1   | mixto sin estaciones                        |\n",
    "| 0  | NNN | 0   | 0   | sin ciclovía                                |\n",
    "\n",
    "Entonces, considero la siguiente definición\n",
    "\\begin{definition}\n",
    "El vector de estado $\\vec{S}$ de una calle se define como\n",
    "$$\\vec{S} = (s,\\$, \\text{id},c_s,a_s)$$\n",
    "\n",
    "donde: $s$ es el valor de spin (el que se utilizará en el término de interacción entre vecinos del hamiltoniano) del estado, $ \\$ $ es el costo por metro lineal del estado, $\\text{id}$ es el identificador, $c_s$ es la capacidad de uso del estado, $a_s$ es la capacidad de atracción y conversión de usuarios del estado.\n",
    "\\end{definition}\n",
    "\n",
    "En la siguiente celda defino el objeto computacional necesario."
   ]
  },
  {
   "cell_type": "code",
   "execution_count": 1,
   "metadata": {
    "code_folding": [
     0,
     13,
     28
    ]
   },
   "outputs": [
    {
     "data": {
      "text/plain": [
       "setifl! (generic function with 1 method)"
      ]
     },
     "execution_count": 1,
     "metadata": {},
     "output_type": "execute_result"
    }
   ],
   "source": [
    "struct streetState\n",
    "    # estos valores son fijos\n",
    "    id::String # identificador de un estado\n",
    "    # estos valores se utilizarán para calcular las interacciones entre estados y con las necesidades\n",
    "    spin::Int # el spin del estado\n",
    "    cost::Float64 # el costo por metro lineal del estado\n",
    "    cap::Int # la capacidad de diseño del estado\n",
    "    attPot::Int # la capacidad de acceso a usuarios del estado\n",
    "    # estos valores se calculan\n",
    "    intField::Float64 # el valor de interacción del estado con el campo\n",
    "    totCost::Float64 # el valor de costo total del estado dada su existencia en la red\n",
    "end\n",
    "\n",
    "list_states = [[-1,0,\"NNN\",0,0],\n",
    "               [1,1,\"MNN\",1,1],\n",
    "               [1,2,\"MNS\",1,2],\n",
    "               [1,3,\"MSN\",1,3],\n",
    "               [1,4,\"MSS\",1,4],\n",
    "               [1,5,\"BNN\",2,2],\n",
    "               [1,6,\"BNS\",2,3],\n",
    "               [1,7,\"BSN\",2,4],\n",
    "               [1,8,\"BSS\",2,5],\n",
    "               [1,9,\"ENN\",3,3],\n",
    "               [1,10,\"ENS\",3,4],\n",
    "               [1,11,\"ESN\",3,5],\n",
    "               [1,12,\"ESS\",3,6],\n",
    "               [1,13,\"MSS\",4,7]]\n",
    "\n",
    "function setstate!(s::streetState,x::Int) \n",
    "    index = x+1\n",
    "    s.spin = list_states[index][1]\n",
    "    s.cost = x\n",
    "    s.id = list_states[index][3]\n",
    "    s.cap = list_states[index][3]\n",
    "    s.attPot = list_states[index][4]\n",
    "end\n",
    "\n",
    "setTotCost!(s::streetState, x::Float64) = s.totCost = x\n",
    "setifl!(s::streetState, x::Float64) = s.intField = x"
   ]
  },
  {
   "cell_type": "markdown",
   "metadata": {},
   "source": [
    "***\n",
    "#### La *lattice*: la red de calles\n",
    "La red de calles será la que esté delimitada por las regiones geográficas que ocupen los dos distritos en cuestión, se requieren las coordenadas de cada una de las calles de la red, sus características y la lista de vecinos. En la siguiente celda defino el objeto correspondiente a la red de calles. Las características deben ser los atributos necesarios que permitan calcular las interacciones con la red de ciclovías que es mi objeto de diseño."
   ]
  },
  {
   "cell_type": "code",
   "execution_count": 3,
   "metadata": {
    "code_folding": [
     0
    ]
   },
   "outputs": [
    {
     "data": {
      "text/plain": [
       "setlocFieldi! (generic function with 1 method)"
      ]
     },
     "execution_count": 3,
     "metadata": {},
     "output_type": "execute_result"
    }
   ],
   "source": [
    "struct streetNetwork\n",
    "    # estos valores se definen el general, los primeros no se modifican\n",
    "    coords::Vector{Vector{NTuple{2,Float64}}} # la lista de coordenadas de las esquinas de cada calle de la red\n",
    "    longs::Vector{Float64} # la lista de longitudes reales de cada calle en la red\n",
    "    neighbors::Vector{Vector{Int}} # la lista de vecinos de cada calle de la red\n",
    "    #= este puede modificarse con los datos de Mariana, en principio son densidades de población, existencia de estaciones\n",
    "    cercanas de metro, metrobús, etc =#\n",
    "    usrDnst::Vector{Float64} # la densidad de potenciales usuarios de la red por cada calle (se puede trabajar con AGEBs)\n",
    "    # estos sí se modifican\n",
    "    states::Vector{streetState} # la lista de estados de las calles de la red\n",
    "    locField::Vector{Vector{Float64}} # la lista con los vectores del campo para cada elemento de la red\n",
    "    totBikewaysCost::Float64 # el costo total de la ciclovía en la red\n",
    "    # a partir de aquí tienen que ver con el par de distritos a estudiar, ninguno se modifica\n",
    "    dstrCoords::Vector{NTuple{2,Float64}} # las coordenadas de los puntos notables de los distritos (pueden ser centroides)\n",
    "    demand::Float64 # la demanda de usuarios por conexión, que se obtiene con el otro algoritmo\n",
    "end\n",
    "\n",
    "setlocFieldi!(sn::streetNetwork,i::Int,f::Vector{Float64}) = sn.locField[i] = f\n",
    "setBikewaysCost!(sn::streetNetwork,c::Float64) = s.totBikewaysCost = c\n",
    "setstatei!(sn::streetNetwork,i::Int,s::streetState) = sn.states[i] = s"
   ]
  },
  {
   "cell_type": "markdown",
   "metadata": {},
   "source": [
    "### El  campo y las interacciones con los estados"
   ]
  },
  {
   "cell_type": "markdown",
   "metadata": {},
   "source": [
    "*** \n",
    "#### El campo local inicial\n",
    "En principio, propongo un campo con 4 entradas asociadas con las necesidades de ciclovía, el impacto al tránsito y la exposición a la contaminación, esto es\n",
    "\n",
    "\\begin{definition}\n",
    "El vector de campo local $\\vec{B_i}$ se define como\n",
    "$$\\vec{B_i} = (d \\times u_n,d \\times p_n,t,e) = (u_{wn},p_{wn},t,e)$$\n",
    "\n",
    "donde, para la $i$-ésima calle: $u_n$ es la demanda de usuarios (por enlace entre pares), $p_n$ es la densidad de potenciales usuarios (por región), $t$ es el impacto al tránsito que tiene el estado de la calle, $e$ es la exposición a la contaminación de la calle. Los dos primeros términos están pesados por una distribución normal $d$ centrada en la ruta ideal entre (el vector que une) cada par de distritos.\n",
    "\\end{definition}\n",
    "\n",
    "La multiplicación de los primeros términos por la distribución normal garantiza que sea mayor el campo (la necesidad de poner ciclovía) en las calles cercanas a la ruta ideal. En la siguiente celda defino las funciones que realizarán los cálculos básicos para $d$, $l_f$ y los cálculos iniciales del campo local de toda la red."
   ]
  },
  {
   "cell_type": "code",
   "execution_count": 4,
   "metadata": {
    "code_folding": [
     0,
     26,
     37
    ]
   },
   "outputs": [
    {
     "data": {
      "text/plain": [
       "B (generic function with 1 method)"
      ]
     },
     "execution_count": 4,
     "metadata": {},
     "output_type": "execute_result"
    }
   ],
   "source": [
    "function d(sn::streetNetwork,i::Int)\n",
    "    #= falta condicionar las coordenadas =#\n",
    "    x1 = sn.dstrCoords[1][1]\n",
    "    y1 = sn.dstrCoords[1][2]\n",
    "    x2 = sn.dstrCoords[2][1]\n",
    "    y2 = sn.dstrCoords[2][2]\n",
    "    x01 = sn.coords[i][1][1]\n",
    "    y01 = sn.coords[i][1][2]\n",
    "    x02 = sn.coords[i][2][1]\n",
    "    y02 = sn.coords[i][2][2]\n",
    "    # calculando la distancia entre las esquinas de la i-ésima calle y la línea que une al p-ésimo par de distritos\n",
    "    ydiff = y2-y1\n",
    "    xdiff = x2-x1\n",
    "    xyp = x2*y1-x1*y2\n",
    "    sqxy = sqrt(ydiff^2 + xdiff^2)\n",
    "    r1 = abs(ydiff*x01-xdiff*y01+xyp)/sqxy\n",
    "    r2 = abs(ydiff*x02-xdiff*y02+xyp)/sqxy\n",
    "    #= calculando el valor de la distribución, el valor de sigma debe calcularse (se me ocurre como función de las longitudes o de la \n",
    "    dispersión de densidades de población y empleo o ambas) =#\n",
    "    σ = 1\n",
    "    d1 = (1/(2*π*σ^2))*exp(r1^2/(2/σ^2))\n",
    "    d2 = (1/(2*π*σ^2))*exp(r1^2/(2/σ^2))\n",
    "    d = (d1+d2)/2\n",
    "    return d\n",
    "end\n",
    "\n",
    "function localField(sn::streetNetwork,i::Int)\n",
    "    w = d(s,i)\n",
    "    uwn = w*s.demand\n",
    "    pwn = w*s.usrDnst[i] \n",
    "    # estos valores están determinados por los resultados de Mariana y de Abraham\n",
    "    t = 0\n",
    "    e = 0\n",
    "    f = [uwn,pwn,t,e]\n",
    "    setlocFieldi!(sn,i,f)\n",
    "end\n",
    "\n",
    "function Btot(sn::streetNetwork)\n",
    "    for i in 1:length(sn.longs)\n",
    "        localField(sn,i)\n",
    "    end\n",
    "end"
   ]
  },
  {
   "cell_type": "markdown",
   "metadata": {},
   "source": [
    "***\n",
    "#### Las interacciones de un estado con el campo\n",
    "Para definir las interacciones entre el estado de una calle y el campo voy a considerar la diferencia entre las características de diseño y lo que demanda la sociedad. Entonces, defino la operación producto como\n",
    "\n",
    "\\begin{definition}\n",
    "La operación $\\langle\\vec{B_i},\\vec{S_i}\\rangle$ para la interacción estado-campo de la $i$-ésima calle se define como\n",
    "$$\\langle\\vec{B_i},\\vec{S_i}\\rangle = ||(u_{wn}-c_s,p_{wn}-a_s,t,e)||= \\sqrt{(u_{wn}-c_s)^2+(p_{wn}-a_s)^2+t^2+e^2}$$\n",
    "\\end{definition}\n",
    "\n",
    "En la siguiente celda defino la función de interacción"
   ]
  },
  {
   "cell_type": "code",
   "execution_count": 7,
   "metadata": {
    "code_folding": [
     0
    ]
   },
   "outputs": [
    {
     "data": {
      "text/plain": [
       "interBiSi (generic function with 1 method)"
      ]
     },
     "execution_count": 7,
     "metadata": {},
     "output_type": "execute_result"
    }
   ],
   "source": [
    "function interBiSi(sn::streetNetwork,i::Int)\n",
    "    fieldi = sn.locField[i]\n",
    "    statei = sn.states[i]\n",
    "    uwn = fieldi[1]\n",
    "    pwn = fieldi[2]\n",
    "    t = fieldi[3]\n",
    "    e = fieldi[4]\n",
    "    cs = statei.cap\n",
    "    as = statei.attPot\n",
    "    inter = sqrt((uwn-cs)^2+(pwn-as)^2+t^2+e^2)\n",
    "    return inter\n",
    "end"
   ]
  },
  {
   "cell_type": "markdown",
   "metadata": {},
   "source": [
    "### El Hamiltoniano"
   ]
  },
  {
   "cell_type": "markdown",
   "metadata": {},
   "source": [
    "El hamiltoniano que representa la energía a minimizar es entonces\n",
    "\\begin{definition}\n",
    "El hamiltoniano del sistema\n",
    "$$ H = -J \\sum_{<i,j>}^{N} \\sigma_i \\sigma_j + \\sum_i^N \\langle\\vec{B_i},\\vec{S_i}\\rangle + \\sum_{\\sigma_i=1}^N l_i \\$\\_i $$\n",
    "\n",
    "donde:\n",
    "- el primer término controla la conectividad (es mínimo cuando existe toda la ciclovía o cuando no existe ninguna en la red)\n",
    "- el segundo término controla la interacción de los estados de las calles con el campo (es mínimo cuando los estados interactúan mejor con el campo local)\n",
    "- el tercero controla el costo de la ciclovía (es mínimo cuando el costo es el menor)\n",
    "\\end{definition}\n",
    "\n",
    "Hay que notar que el segundo y el tercer término son siempre positivos y actúan como penalizaciones a la minimización de la energía. En la siguiente celda defino la función que calcula el costo total de un estado y el hamiltoniano de la red."
   ]
  },
  {
   "cell_type": "code",
   "execution_count": 10,
   "metadata": {
    "code_folding": [
     0,
     9
    ]
   },
   "outputs": [
    {
     "data": {
      "text/plain": [
       "Htot (generic function with 1 method)"
      ]
     },
     "execution_count": 10,
     "metadata": {},
     "output_type": "execute_result"
    }
   ],
   "source": [
    "function costi(sn::streetNetwork,i::Int)\n",
    "    statei = sn.states[i]\n",
    "    longi = sn.longs[i]\n",
    "    costi = statei.cost\n",
    "    totCost = longi*costi\n",
    "    return totCost\n",
    "end\n",
    "\n",
    "J = 1\n",
    "function Htot(sn::streetNetwork)\n",
    "    interList = []\n",
    "    costList = []\n",
    "    interTerm = 0\n",
    "    for i in 1:length(sn.states)\n",
    "        statei = sn.states[i]\n",
    "        cst = costi(sn,i)\n",
    "        itr = interbisi(sn,i)\n",
    "        setTotCost!(statei,cst) \n",
    "        setifl!(statei,itr)\n",
    "        push!(costList,cst)\n",
    "        push!(interList,itr)\n",
    "        for j in sn.neighbors[i]\n",
    "            statej = sn.states[j]\n",
    "            interTerm += (J/2)*statei.spin*statej.spin\n",
    "        end\n",
    "    end\n",
    "    fieldTerm = sum(interList)\n",
    "    costTerm = sum(costList)\n",
    "    setBikewaysCost!(sn,costTerm)\n",
    "    Htot = interTerm + fieldTerm + costTerm\n",
    "end"
   ]
  },
  {
   "cell_type": "markdown",
   "metadata": {
    "heading_collapsed": true
   },
   "source": [
    "## Aplicación del algoritmo MMC"
   ]
  },
  {
   "cell_type": "code",
   "execution_count": null,
   "metadata": {
    "hidden": true
   },
   "outputs": [],
   "source": []
  }
 ],
 "metadata": {
  "@webio": {
   "lastCommId": null,
   "lastKernelId": null
  },
  "kernelspec": {
   "display_name": "Julia 1.1.0",
   "language": "julia",
   "name": "julia-1.1"
  },
  "language_info": {
   "file_extension": ".jl",
   "mimetype": "application/julia",
   "name": "julia",
   "version": "1.1.0"
  },
  "latex_envs": {
   "LaTeX_envs_menu_present": true,
   "autoclose": false,
   "autocomplete": true,
   "bibliofile": "biblio.bib",
   "cite_by": "apalike",
   "current_citInitial": 1,
   "eqLabelWithNumbers": true,
   "eqNumInitial": 1,
   "hotkeys": {
    "equation": "Ctrl-E",
    "itemize": "Ctrl-I"
   },
   "labels_anchors": false,
   "latex_user_defs": false,
   "report_style_numbering": false,
   "user_envs_cfg": false
  }
 },
 "nbformat": 4,
 "nbformat_minor": 2
}
